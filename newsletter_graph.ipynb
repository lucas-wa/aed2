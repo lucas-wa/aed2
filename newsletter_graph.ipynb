{
  "cells": [
    {
      "cell_type": "markdown",
      "metadata": {
        "id": "yLnLiv3fKVE9"
      },
      "source": [
        "# **Rascunho**"
      ]
    },
    {
      "cell_type": "code",
      "execution_count": null,
      "metadata": {
        "colab": {
          "base_uri": "https://localhost:8080/"
        },
        "id": "MrAJlNBhl8q_",
        "outputId": "90e408c3-8c08-4072-8dda-182a0d86060d",
        "collapsed": true
      },
      "outputs": [
        {
          "output_type": "stream",
          "name": "stdout",
          "text": [
            "Requirement already satisfied: requests in /usr/local/lib/python3.10/dist-packages (2.31.0)\n",
            "Requirement already satisfied: beautifulsoup4 in /usr/local/lib/python3.10/dist-packages (4.12.3)\n",
            "Requirement already satisfied: charset-normalizer<4,>=2 in /usr/local/lib/python3.10/dist-packages (from requests) (3.3.2)\n",
            "Requirement already satisfied: idna<4,>=2.5 in /usr/local/lib/python3.10/dist-packages (from requests) (3.7)\n",
            "Requirement already satisfied: urllib3<3,>=1.21.1 in /usr/local/lib/python3.10/dist-packages (from requests) (2.0.7)\n",
            "Requirement already satisfied: certifi>=2017.4.17 in /usr/local/lib/python3.10/dist-packages (from requests) (2024.7.4)\n",
            "Requirement already satisfied: soupsieve>1.2 in /usr/local/lib/python3.10/dist-packages (from beautifulsoup4) (2.5)\n"
          ]
        }
      ],
      "source": [
        "!pip install requests beautifulsoup4"
      ]
    },
    {
      "cell_type": "code",
      "execution_count": null,
      "metadata": {
        "id": "NPdeIyoNb4aA"
      },
      "outputs": [],
      "source": [
        "import requests\n",
        "from bs4 import BeautifulSoup"
      ]
    },
    {
      "cell_type": "code",
      "execution_count": null,
      "metadata": {
        "id": "oLeNk3UJb6-X"
      },
      "outputs": [],
      "source": [
        "url = \"https://www.tecmundo.com.br/tecnologia\"\n",
        "response = requests.get(url)\n",
        "\n",
        "soup = BeautifulSoup(response.text, \"html.parser\")"
      ]
    },
    {
      "cell_type": "code",
      "execution_count": null,
      "metadata": {
        "colab": {
          "base_uri": "https://localhost:8080/"
        },
        "id": "LC8yiv9wfRbf",
        "outputId": "5818f77d-0efc-4fc0-a3a3-e4447eafec02"
      },
      "outputs": [
        {
          "output_type": "stream",
          "name": "stdout",
          "text": [
            "Tecnologia da Informação: 5 profissões do futuro para quem está entrando na universidade\n",
            "10 notícias de tecnologia para você começar o da (24/07)\n",
            "Startup que criou aparelho para ajudar pessoas surdas ganha financiamento\n",
            "CPF do boi: conheça a tecnologia geoespacial que rastreia gados livre de desmatamento\n",
            "10 notícias de tecnologia para você começar o da (23/07)\n"
          ]
        }
      ],
      "source": [
        "list_items = soup.find_all(\"div\", class_=\"tec--list__item\")\n",
        "titles = []\n",
        "\n",
        "for item in list_items[:5]:\n",
        "    title = item.find(\"h4\", class_=\"tec--card__title\")\n",
        "    if title:\n",
        "        titles.append(title.get_text(strip=True))\n",
        "\n",
        "for title in titles:\n",
        "    print(title)"
      ]
    },
    {
      "cell_type": "code",
      "execution_count": null,
      "metadata": {
        "colab": {
          "base_uri": "https://localhost:8080/"
        },
        "id": "-xFkE23SiwWw",
        "outputId": "dab466ea-77c6-4651-93fc-ba7f2fa2a1cd"
      },
      "outputs": [
        {
          "output_type": "stream",
          "name": "stdout",
          "text": [
            "https://www.tecmundo.com.br/mercado/287366-tecnologia-informacao-5-profissoes-futuro-entrando-universidade.htm\n",
            "https://www.tecmundo.com.br/mercado/287365-10-noticias-tecnologia-voce-comecar-24-07.htm\n",
            "https://www.tecmundo.com.br/mercado/287342-startup-criou-aparelho-ajudar-pessoas-surdas-ganha-financiamento.htm\n",
            "https://www.tecmundo.com.br/mercado/287335-cpf-boi-conheca-tecnologia-geoespacial-rastreia-gados-brasil.htm\n",
            "https://www.tecmundo.com.br/mercado/287310-10-noticias-tecnologia-voce-comecar-23-07.htm\n"
          ]
        }
      ],
      "source": [
        "links = []\n",
        "count = 0\n",
        "for item in list_items:\n",
        "    if count >= 5:\n",
        "        break\n",
        "    link = item.find(\"a\", class_=\"tec--card__title__link\")\n",
        "    if link:\n",
        "        href = link['href']\n",
        "        links.append(href)\n",
        "        count += 1\n",
        "\n",
        "for link in links:\n",
        "    print(link)"
      ]
    },
    {
      "cell_type": "code",
      "execution_count": null,
      "metadata": {
        "id": "fDVU_tYoouLn"
      },
      "outputs": [],
      "source": [
        "new_url = links[0]\n",
        "response = requests.get(new_url)\n",
        "\n",
        "new_soup = BeautifulSoup(response.text, \"html.parser\")"
      ]
    },
    {
      "cell_type": "code",
      "execution_count": null,
      "metadata": {
        "colab": {
          "base_uri": "https://localhost:8080/"
        },
        "id": "-TLa3Sfmr47B",
        "outputId": "93d726aa-7592-44e7-bb1d-a9a0bc668801"
      },
      "outputs": [
        {
          "output_type": "stream",
          "name": "stdout",
          "text": [
            "<div class=\"tec--article__body z--px-16\"><div class=\"OutlineElement Ltr SCXW191965134 BCX8\"><p class=\"Paragraph SCXW191965134 BCX8\" paraeid=\"{970df7d8-91aa-4bde-90ef-9aa1f3c0260d}{188}\" paraid=\"621023305\"><span class=\"TextRun SCXW191965134 BCX8\" data-contrast=\"none\" lang=\"PT-BR\" xml:lang=\"PT-BR\"><span class=\"NormalTextRun SCXW191965134 BCX8\">A área de Tecnologia da Informação (TI) tem alta demanda e potencial de crescimento num mundo em constante evolução. De acordo com o LinkedIn, as 25 profissões mais promissoras para 2024 exigem habilidades em inovação e análise de dados. Profissionais com conhecimento em TI podem ter sucesso em áreas diversas, como Business </span><span class=\"NormalTextRun SpellingErrorV2Themed SCXW191965134 BCX8\">Intelligence</span><span class=\"NormalTextRun SCXW191965134 BCX8\"> (BI), Big Data e Análise de Dados, além de tecnologias emergentes, como Inteligência das Coisas (IoT), Realidade Virtual (VR) e Realidade Aumentada (AR).</span></span><span class=\"EOP SCXW191965134 BCX8\" data-ccp-props='{\"134233117\":false,\"134233118\":false,\"201341983\":0,\"335551550\":6,\"335551620\":6,\"335559738\":0,\"335559739\":160,\"335559740\":278}'> </span><div class=\"js-truvid-container\"></div></p></div><div class=\"OutlineElement Ltr SCXW191965134 BCX8\"><p class=\"Paragraph SCXW191965134 BCX8\" paraeid=\"{970df7d8-91aa-4bde-90ef-9aa1f3c0260d}{198}\" paraid=\"1798966799\"><span class=\"TextRun SCXW191965134 BCX8\" data-contrast=\"none\" lang=\"PT-BR\" xml:lang=\"PT-BR\">Ou seja: as possibilidades para quem quer investir nas carreiras em tecnologia são inúmeras. Selecionamos aqui cinco opções que são ótimas apostas para quem vai entrar na universidade agora. Confira! </span><span class=\"EOP SCXW191965134 BCX8\" data-ccp-props='{\"134233117\":false,\"134233118\":false,\"201341983\":0,\"335551550\":6,\"335551620\":6,\"335559738\":0,\"335559739\":160,\"335559740\":278}'> </span></p></div><div class=\"OutlineElement Ltr SCXW191965134 BCX8\"><h2 aria-level=\"2\" class=\"Paragraph SCXW191965134 BCX8\" paraeid=\"{970df7d8-91aa-4bde-90ef-9aa1f3c0260d}{204}\" paraid=\"1610407693\" role=\"heading\"><span class=\"TextRun SCXW191965134 BCX8\" data-contrast=\"none\" lang=\"PT-BR\" xml:lang=\"PT-BR\">1. Para ser um cientista de dados, você deve cursar Análise e Desenvolvimento de Sistemas</span></h2><p aria-level=\"2\" class=\"Paragraph SCXW191965134 BCX8\" paraeid=\"{970df7d8-91aa-4bde-90ef-9aa1f3c0260d}{204}\" paraid=\"1610407693\" role=\"heading\"><span class=\"TextRun SCXW191965134 BCX8\" data-contrast=\"auto\" lang=\"PT-BR\" xml:lang=\"PT-BR\">O que faz um cientista de dados? Ele é responsável por coletar, organizar e analisar conjuntos de dados que ajudam na tomada de decisões estratégicas em diversos setores de uma empresa. A carreira é promissora porque as empresas têm reconhecido, cada vez mais, a importância das decisões baseadas em dados, visto que abrem caminho para novas soluções, garantem a economia de recursos e impulsionam os negócios. </span><span class=\"EOP SCXW191965134 BCX8\" data-ccp-props='{\"134233117\":false,\"134233118\":false,\"201341983\":0,\"335551550\":6,\"335551620\":6,\"335559738\":0,\"335559739\":160,\"335559740\":278}'> </span></p></div><div class=\"OutlineElement Ltr SCXW191965134 BCX8\"><p class=\"Paragraph SCXW191965134 BCX8\" paraeid=\"{970df7d8-91aa-4bde-90ef-9aa1f3c0260d}{216}\" paraid=\"2061999054\"><span class=\"TextRun SCXW191965134 BCX8\" data-contrast=\"auto\" lang=\"PT-BR\" xml:lang=\"PT-BR\">O curso de Análise e Desenvolvimento de Sistemas prepara o profissional para atuar com análise de mercado, Inteligência Artificial e </span><span class=\"TextRun SCXW191965134 BCX8\" data-contrast=\"auto\" lang=\"PT-BR\" xml:lang=\"PT-BR\">machine learning</span><span class=\"TextRun SCXW191965134 BCX8\" data-contrast=\"auto\" lang=\"PT-BR\" xml:lang=\"PT-BR\">, por exemplo. </span><span class=\"EOP SCXW191965134 BCX8\" data-ccp-props='{\"134233117\":false,\"134233118\":false,\"201341983\":0,\"335551550\":6,\"335551620\":6,\"335559738\":0,\"335559739\":160,\"335559740\":278}'> </span><div class=\"js-teads-container\"></div></p></div><div class=\"OutlineElement Ltr SCXW191965134 BCX8\"><h2 aria-level=\"2\" class=\"Paragraph SCXW191965134 BCX8\" paraeid=\"{970df7d8-91aa-4bde-90ef-9aa1f3c0260d}{226}\" paraid=\"834271847\" role=\"heading\"><span class=\"TextRun SCXW191965134 BCX8\" data-contrast=\"none\" lang=\"PT-BR\" xml:lang=\"PT-BR\">2. Um desenvolvedor se forma em Engenharia de </span><span class=\"TextRun SCXW191965134 BCX8\" data-contrast=\"none\" lang=\"PT-BR\" xml:lang=\"PT-BR\">Software</span><span class=\"EOP SCXW191965134 BCX8\" data-ccp-props='{\"134233117\":false,\"134233118\":false,\"134245418\":true,\"134245529\":true,\"201341983\":0,\"335551550\":6,\"335551620\":6,\"335559738\":40,\"335559739\":0,\"335559740\":278}'> </span></h2></div><div class=\"OutlineElement Ltr SCXW191965134 BCX8\"><p class=\"Paragraph SCXW191965134 BCX8\" paraeid=\"{970df7d8-91aa-4bde-90ef-9aa1f3c0260d}{234}\" paraid=\"1650371800\"><span class=\"TextRun SCXW191965134 BCX8\" data-contrast=\"auto\" lang=\"PT-BR\" xml:lang=\"PT-BR\">Criar, projetar, testar e implementar </span><span class=\"TextRun SCXW191965134 BCX8\" data-contrast=\"auto\" lang=\"PT-BR\" xml:lang=\"PT-BR\">softwares</span><span class=\"TextRun SCXW191965134 BCX8\" data-contrast=\"auto\" lang=\"PT-BR\" xml:lang=\"PT-BR\"> para diversos sistemas, desde aplicativos </span><span class=\"TextRun SCXW191965134 BCX8\" data-contrast=\"auto\" lang=\"PT-BR\" xml:lang=\"PT-BR\">mobile</span><span class=\"TextRun SCXW191965134 BCX8\" data-contrast=\"auto\" lang=\"PT-BR\" xml:lang=\"PT-BR\"> a </span><span class=\"TextRun SCXW191965134 BCX8\" data-contrast=\"auto\" lang=\"PT-BR\" xml:lang=\"PT-BR\">websites</span><span class=\"TextRun SCXW191965134 BCX8\" data-contrast=\"auto\" lang=\"PT-BR\" xml:lang=\"PT-BR\"> complexos, basicamente, é isso o que faz um desenvolvedor de </span><span class=\"TextRun SCXW191965134 BCX8\" data-contrast=\"auto\" lang=\"PT-BR\" xml:lang=\"PT-BR\">software</span><span class=\"TextRun SCXW191965134 BCX8\" data-contrast=\"auto\" lang=\"PT-BR\" xml:lang=\"PT-BR\">. A carreira é promissora, justamente por ser indispensável à inovação de diferentes áreas. Profissionais desenvolvedores são responsáveis por identificar as necessidades do negócio e construir aplicativos que apoiem as metas e objetivos das empresas. </span><span class=\"EOP SCXW191965134 BCX8\" data-ccp-props='{\"134233117\":false,\"134233118\":false,\"201341983\":0,\"335551550\":6,\"335551620\":6,\"335559738\":0,\"335559739\":160,\"335559740\":278}'> </span></p></div><div class=\"OutlineElement Ltr SCXW191965134 BCX8\"><p class=\"Paragraph SCXW191965134 BCX8\" paraeid=\"{7e5d0dbe-0426-487d-8f46-1317ebd134a1}{1}\" paraid=\"303459957\"><span class=\"TextRun SCXW191965134 BCX8\" data-contrast=\"auto\" lang=\"PT-BR\" xml:lang=\"PT-BR\">Para estudar Engenharia de </span><span class=\"TextRun SCXW191965134 BCX8\" data-contrast=\"auto\" lang=\"PT-BR\" xml:lang=\"PT-BR\">Software</span><span class=\"TextRun SCXW191965134 BCX8\" data-contrast=\"auto\" lang=\"PT-BR\" xml:lang=\"PT-BR\"> e atuar como desenvolvedor, é possível apostar em uma graduação ou em um mestrado.</span><span class=\"EOP SCXW191965134 BCX8\" data-ccp-props='{\"134233117\":false,\"134233118\":false,\"201341983\":0,\"335551550\":6,\"335551620\":6,\"335559738\":0,\"335559739\":160,\"335559740\":278}'> </span></p></div><div class=\"OutlineElement Ltr SCXW191965134 BCX8\"><h2 aria-level=\"2\" class=\"Paragraph SCXW191965134 BCX8\" paraeid=\"{7e5d0dbe-0426-487d-8f46-1317ebd134a1}{11}\" paraid=\"948893270\" role=\"heading\"><span class=\"TextRun SCXW191965134 BCX8\" data-contrast=\"none\" lang=\"PT-BR\" xml:lang=\"PT-BR\">3. Ciência da Computação é a escolha para quem quer ser engenheiro de Inteligência Artificial</span><span class=\"EOP SCXW191965134 BCX8\" data-ccp-props='{\"134233117\":false,\"134233118\":false,\"134245418\":true,\"134245529\":true,\"201341983\":0,\"335551550\":6,\"335551620\":6,\"335559738\":40,\"335559739\":0,\"335559740\":278}'> </span></h2></div><div class=\"OutlineElement Ltr SCXW191965134 BCX8\"><p class=\"Paragraph SCXW191965134 BCX8\" paraeid=\"{7e5d0dbe-0426-487d-8f46-1317ebd134a1}{17}\" paraid=\"2116708902\"><span class=\"TextRun SCXW191965134 BCX8\" data-contrast=\"auto\" lang=\"PT-BR\" xml:lang=\"PT-BR\">Um engenheiro de Inteligência Artificial (IA) projeta, desenvolve e implementa sistemas inteligentes que simulam a capacidade humana de raciocinar, aprender e tomar decisões. Com as ferramentas de IA se tornando cada vez mais comuns em empresas de diferentes setores para automatizar processos e garantir agilidade e precisão, o investimento nessa carreira acaba sendo uma boa opção para o futuro. </span><span class=\"EOP SCXW191965134 BCX8\" data-ccp-props='{\"134233117\":false,\"134233118\":false,\"201341983\":0,\"335551550\":6,\"335551620\":6,\"335559738\":0,\"335559739\":160,\"335559740\":278}'> </span></p></div><div class=\"OutlineElement Ltr SCXW191965134 BCX8\"><p class=\"Paragraph SCXW191965134 BCX8\" paraeid=\"{7e5d0dbe-0426-487d-8f46-1317ebd134a1}{23}\" paraid=\"253647325\"><span class=\"TextRun SCXW191965134 BCX8\" data-contrast=\"auto\" lang=\"PT-BR\" xml:lang=\"PT-BR\">O curso de Ciência da Computação é a escolha certa para quem quer desenvolver o conhecimento em tecnologias disruptivas. </span><span class=\"EOP SCXW191965134 BCX8\" data-ccp-props='{\"134233117\":false,\"134233118\":false,\"201341983\":0,\"335551550\":6,\"335551620\":6,\"335559738\":0,\"335559739\":160,\"335559740\":278}'> </span></p></div><div class=\"OutlineElement Ltr SCXW191965134 BCX8\"><h2 aria-level=\"2\" class=\"Paragraph SCXW191965134 BCX8\" paraeid=\"{7e5d0dbe-0426-487d-8f46-1317ebd134a1}{29}\" paraid=\"828482138\" role=\"heading\"><span class=\"TextRun SCXW191965134 BCX8\" data-contrast=\"none\" lang=\"PT-BR\" xml:lang=\"PT-BR\">4. Especialistas em segurança cibernética são profissionais cada vez mais necessários</span><span class=\"EOP SCXW191965134 BCX8\" data-ccp-props='{\"134233117\":false,\"134233118\":false,\"134245418\":true,\"134245529\":true,\"201341983\":0,\"335551550\":6,\"335551620\":6,\"335559738\":40,\"335559739\":0,\"335559740\":278}'> </span></h2></div><div class=\"OutlineElement Ltr SCXW191965134 BCX8\"><p class=\"Paragraph SCXW191965134 BCX8\" paraeid=\"{7e5d0dbe-0426-487d-8f46-1317ebd134a1}{35}\" paraid=\"334240732\"><span class=\"TextRun SCXW191965134 BCX8\" data-contrast=\"auto\" lang=\"PT-BR\" xml:lang=\"PT-BR\"><span class=\"NormalTextRun SCXW191965134 BCX8\">Se existe cada vez mais espaço de atuação para um cientista de dados, também há necessidade de se investir em segurança para eles. É aí que o especialista em segurança cibernética entra: ele protege sistemas, redes e dados </span><span class=\"NormalTextRun ContextualSpellingAndGrammarErrorV2Themed SCXW191965134 BCX8\">contra ataques</span><span class=\"NormalTextRun SCXW191965134 BCX8\"> diversos, garantindo a confidencialidade, integridade e disponibilidade das informações.</span></span><span class=\"EOP SCXW191965134 BCX8\" data-ccp-props='{\"134233117\":false,\"134233118\":false,\"201341983\":0,\"335551550\":6,\"335551620\":6,\"335559738\":0,\"335559739\":160,\"335559740\":278}'> </span></p></div><div class=\"OutlineElement Ltr SCXW191965134 BCX8\"><p class=\"Paragraph SCXW191965134 BCX8\" paraeid=\"{7e5d0dbe-0426-487d-8f46-1317ebd134a1}{41}\" paraid=\"551185181\"><span class=\"TextRun SCXW191965134 BCX8\" data-contrast=\"auto\" lang=\"PT-BR\" xml:lang=\"PT-BR\">Para essa carreira, uma graduação e/ou pós-graduação em Sistemas da Informação são a melhor escolha. Os cursos ajudam a desenvolver habilidades em programação, algoritmos, redes e sistemas operacionais fundamentais para a segurança cibernética.  </span><span class=\"EOP SCXW191965134 BCX8\" data-ccp-props='{\"134233117\":false,\"134233118\":false,\"201341983\":0,\"335551550\":6,\"335551620\":6,\"335559738\":0,\"335559739\":160,\"335559740\":278}'> </span></p></div><div class=\"OutlineElement Ltr SCXW191965134 BCX8\"><h2 aria-level=\"2\" class=\"Paragraph SCXW191965134 BCX8\" paraeid=\"{7e5d0dbe-0426-487d-8f46-1317ebd134a1}{47}\" paraid=\"2094872527\" role=\"heading\"><span class=\"TextRun SCXW191965134 BCX8\" data-contrast=\"none\" lang=\"PT-BR\" xml:lang=\"PT-BR\">5. A Gestão da Tecnologia da Informação é essencial nas empresas</span><span class=\"EOP SCXW191965134 BCX8\" data-ccp-props='{\"134233117\":false,\"134233118\":false,\"134245418\":true,\"134245529\":true,\"201341983\":0,\"335551550\":6,\"335551620\":6,\"335559738\":40,\"335559739\":0,\"335559740\":278}'> </span></h2></div><div class=\"OutlineElement Ltr SCXW191965134 BCX8\"><p class=\"Paragraph SCXW191965134 BCX8\" paraeid=\"{7e5d0dbe-0426-487d-8f46-1317ebd134a1}{53}\" paraid=\"1578329496\"><span class=\"TextRun SCXW191965134 BCX8\" data-contrast=\"none\" lang=\"PT-BR\" xml:lang=\"PT-BR\">Com o aumento de carreiras e recursos em tecnologia, torna-se necessário haver um profissional responsável pela conexão entre eles. O gestor de TI planeja, organiza e dirige os recursos tecnológicos de uma empresa, garantindo que eles funcionem de forma eficiente e segura para atender às necessidades do negócio. Ele atua na implementação de medidas em diferentes áreas, que vão desde segurança e políticas à conformidade regulatória. Também está no escopo do gestor de TI a identificação e implementação de novas tecnologias que podem melhorar os processos das empresas. </span><span class=\"EOP SCXW191965134 BCX8\" data-ccp-props='{\"134233117\":false,\"134233118\":false,\"201341983\":0,\"335551550\":6,\"335551620\":6,\"335559738\":240,\"335559739\":240,\"335559740\":278}'> </span></p></div><div class=\"OutlineElement Ltr SCXW191965134 BCX8\"><p class=\"Paragraph SCXW191965134 BCX8\" paraeid=\"{7e5d0dbe-0426-487d-8f46-1317ebd134a1}{59}\" paraid=\"13993177\"><span class=\"TextRun SCXW191965134 BCX8\" data-contrast=\"auto\" lang=\"PT-BR\" xml:lang=\"PT-BR\">Neste caso, o curso escolhido deve ser o de Gestão da Tecnologia da Informação, que aprofunda o conhecimento do aluno nessas tecnologias, em comunicação, práticas de gestão, metodologias ágeis e gestão de riscos.  </span><span class=\"EOP SCXW191965134 BCX8\" data-ccp-props='{\"134233117\":false,\"134233118\":false,\"201341983\":0,\"335551550\":6,\"335551620\":6,\"335559738\":0,\"335559739\":160,\"335559740\":278}'> </span></p></div><div class=\"OutlineElement Ltr SCXW191965134 BCX8\"><h2 aria-level=\"2\" class=\"Paragraph SCXW191965134 BCX8\" paraeid=\"{7e5d0dbe-0426-487d-8f46-1317ebd134a1}{65}\" paraid=\"385628016\" role=\"heading\"><span class=\"TextRun SCXW191965134 BCX8\" data-contrast=\"none\" lang=\"PT-BR\" xml:lang=\"PT-BR\">A UNIP conta com esses e outros cursos universitários de TI em seu catálogo</span><span class=\"EOP SCXW191965134 BCX8\" data-ccp-props='{\"134233117\":false,\"134233118\":false,\"134245418\":true,\"134245529\":true,\"201341983\":0,\"335551550\":6,\"335551620\":6,\"335559738\":40,\"335559739\":0,\"335559740\":278}'> </span></h2></div><div class=\"OutlineElement Ltr SCXW191965134 BCX8\"><p class=\"Paragraph SCXW191965134 BCX8\" paraeid=\"{7e5d0dbe-0426-487d-8f46-1317ebd134a1}{71}\" paraid=\"269542430\"><span class=\"TextRun SCXW191965134 BCX8\" data-contrast=\"none\" lang=\"PT-BR\" xml:lang=\"PT-BR\">Ainda quer investir em uma carreira em tecnologia, mas não encontrou o curso ideal? Dê uma olhada nas </span><a class=\"Hyperlink SCXW191965134 BCX8\" href=\"https://www.unip.br/cursos/graduacao/index.aspx\" rel=\"noreferrer noopener\" target=\"_blank\"><span class=\"TextRun Underlined SCXW191965134 BCX8\" data-contrast=\"none\" lang=\"PT-BR\" xml:lang=\"PT-BR\">opções do catálogo da UNIP</span></a><span class=\"TextRun Underlined SCXW191965134 BCX8\" data-contrast=\"none\" lang=\"PT-BR\" xml:lang=\"PT-BR\">. E</span><span class=\"TextRun SCXW191965134 BCX8\" data-contrast=\"none\" lang=\"PT-BR\" xml:lang=\"PT-BR\">ntre os mais de 200 cursos disponíveis, algum certamente irá atender às suas expectativas!</span><span class=\"EOP SCXW191965134 BCX8\" data-ccp-props='{\"134233117\":false,\"134233118\":false,\"201341983\":0,\"335551550\":6,\"335551620\":6,\"335559738\":0,\"335559739\":0,\"335559740\":300}'> </span></p></div></div>\n"
          ]
        }
      ],
      "source": [
        "new_content = new_soup.find(\"div\", class_=\"tec--article__body\")\n",
        "print(new_content)"
      ]
    },
    {
      "cell_type": "code",
      "execution_count": null,
      "metadata": {
        "id": "joU7w-B7s77x"
      },
      "outputs": [],
      "source": [
        "paragraphs = new_content.find_all('p')\n",
        "article_text = '\\n'.join([p.get_text().strip() for p in paragraphs if p.get_text().strip()])\n",
        "articles = []\n",
        "articles.append(article_text)"
      ]
    },
    {
      "cell_type": "code",
      "execution_count": null,
      "metadata": {
        "colab": {
          "base_uri": "https://localhost:8080/"
        },
        "id": "fhXd6JM1tgO-",
        "outputId": "425922a3-5293-475a-ab44-f2293e077735",
        "collapsed": true
      },
      "outputs": [
        {
          "output_type": "stream",
          "name": "stdout",
          "text": [
            "Título: Tecnologia da Informação: 5 profissões do futuro para quem está entrando na universidade\n",
            "Link: https://www.tecmundo.com.br/mercado/287366-tecnologia-informacao-5-profissoes-futuro-entrando-universidade.htm\n",
            "Conteúdo: Equipe TecMundo\n",
            "A área de Tecnologia da Informação (TI) tem alta demanda e potencial de crescimento num mundo em constante evolução. De acordo com o LinkedIn, as 25 profissões mais promissoras para 2024 exigem habilidades em inovação e análise de dados. Profissionais com conhecimento em TI podem ter sucesso em áreas diversas, como Business Intelligence (BI), Big Data e Análise de Dados, além de tecnologias emergentes, como Inteligência das Coisas (IoT), Realidade Virtual (VR) e Realidade Aumentada (AR).\n",
            "Ou seja: as possibilidades para quem quer investir nas carreiras em tecnologia são inúmeras. Selecionamos aqui cinco opções que são ótimas apostas para quem vai entrar na universidade agora. Confira!\n",
            "O que faz um cientista de dados? Ele é responsável por coletar, organizar e analisar conjuntos de dados que ajudam na tomada de decisões estratégicas em diversos setores de uma empresa. A carreira é promissora porque as empresas têm reconhecido, cada vez mais, a importância das decisões baseadas em dados, visto que abrem caminho para novas soluções, garantem a economia de recursos e impulsionam os negócios.\n",
            "O curso de Análise e Desenvolvimento de Sistemas prepara o profissional para atuar com análise de mercado, Inteligência Artificial e machine learning, por exemplo.\n",
            "Criar, projetar, testar e implementar softwares para diversos sistemas, desde aplicativos mobile a websites complexos, basicamente, é isso o que faz um desenvolvedor de software. A carreira é promissora, justamente por ser indispensável à inovação de diferentes áreas. Profissionais desenvolvedores são responsáveis por identificar as necessidades do negócio e construir aplicativos que apoiem as metas e objetivos das empresas.\n",
            "Para estudar Engenharia de Software e atuar como desenvolvedor, é possível apostar em uma graduação ou em um mestrado.\n",
            "Um engenheiro de Inteligência Artificial (IA) projeta, desenvolve e implementa sistemas inteligentes que simulam a capacidade humana de raciocinar, aprender e tomar decisões. Com as ferramentas de IA se tornando cada vez mais comuns em empresas de diferentes setores para automatizar processos e garantir agilidade e precisão, o investimento nessa carreira acaba sendo uma boa opção para o futuro.\n",
            "O curso de Ciência da Computação é a escolha certa para quem quer desenvolver o conhecimento em tecnologias disruptivas.\n",
            "Se existe cada vez mais espaço de atuação para um cientista de dados, também há necessidade de se investir em segurança para eles. É aí que o especialista em segurança cibernética entra: ele protege sistemas, redes e dados contra ataques diversos, garantindo a confidencialidade, integridade e disponibilidade das informações.\n",
            "Para essa carreira, uma graduação e/ou pós-graduação em Sistemas da Informação são a melhor escolha. Os cursos ajudam a desenvolver habilidades em programação, algoritmos, redes e sistemas operacionais fundamentais para a segurança cibernética.\n",
            "Com o aumento de carreiras e recursos em tecnologia, torna-se necessário haver um profissional responsável pela conexão entre eles. O gestor de TI planeja, organiza e dirige os recursos tecnológicos de uma empresa, garantindo que eles funcionem de forma eficiente e segura para atender às necessidades do negócio. Ele atua na implementação de medidas em diferentes áreas, que vão desde segurança e políticas à conformidade regulatória. Também está no escopo do gestor de TI a identificação e implementação de novas tecnologias que podem melhorar os processos das empresas.\n",
            "Neste caso, o curso escolhido deve ser o de Gestão da Tecnologia da Informação, que aprofunda o conhecimento do aluno nessas tecnologias, em comunicação, práticas de gestão, metodologias ágeis e gestão de riscos.\n",
            "Ainda quer investir em uma carreira em tecnologia, mas não encontrou o curso ideal? Dê uma olhada nas opções do catálogo da UNIP. Entre os mais de 200 cursos disponíveis, algum certamente irá atender às suas expectativas!\n",
            "Categorias\n",
            "© COPYRIGHT 2024 - NO ZEBRA NETWORK S.A. TODOS OS DIREITOS RESERVADOS.\n",
            "\n",
            "\n",
            "Título: 10 notícias de tecnologia para você começar o da (24/07)\n",
            "Link: https://www.tecmundo.com.br/mercado/287365-10-noticias-tecnologia-voce-comecar-24-07.htm\n",
            "Conteúdo: Carlos Palmeira\n",
            "Bom dia! Separamos as principais notícias do mundo da Ciência e Tecnologia para você saber tudo o que aconteceu na última terça-feira (23). Para conferir cada notícia na íntegra, basta clicar nos links a seguir.\n",
            "1. 200 milhões de brasileiros são expostos gratuitamente em site de consulta. O “Scan da Vida” possui mais de 200 milhões de dados registrados, 3 mil usuários ativos cadastrados e realiza mais de 200 mil buscas por mês.\n",
            "Assine já o The BRIEF, a newsletter diária que te deixa por dentro de tudo\n",
            "2. Coringa 2: Veja trailer e data de lançamento do filme com Joaquin Phoenix e Lady Gaga. Coringa: Delírio a Dois, novo filme do vilão do universo de Batman, ganhou um trailer mostrando Joaquin Phoenix e Lagy Gaga em ação! Saiba tudo sobre o longa-metragem!\n",
            "3. Dell lança servidores compactos e eficientes com fabricação no Brasil. Voltado para o mercado de empresas em crescimento, Dell Technologies apresenta nova linha de servidores mais compacta e eficiente com três modelos fabricados no Brasil.\n",
            "4. Shopee e Shein revelam quando vão começar a cobrar a 'taxa das blusinhas'; veja. A partir de 1° de agosto, entrará em vigor a nova legislação que determina imposto de 20% sobre compras internacionais de até US$ 50.\n",
            "5. De surpresa, Call of Duty Modern Warfare 3 chega ao Xbox Game Pass! Após rumores de que o game seria lançado no Xbox Game Pass, a Microsoft anunciou que Call of Duty Modern Warfare 3 será lançado na assinatura ainda esta semana.\n",
            "6. Prime Video ganha nova interface para ajudar você a achar conteúdos; confira. Atualização de interface do Prime Video deixa filmes e séries mais organizados e personaliza sugestões; veja!\n",
            "7. Oi, Vivo e Tim são multadas em até R$ 2 milhões por propaganda enganosa de 5G. As operadoras Oi, Vivo e Tim não prestaram as informações corretas aos consumidores, de acordo com entidade de defesa dos consumidores. Veja os detalhes!\n",
            "8. IA da Meta é lançada na América Latina, mas Brasil fica de fora; veja o motivo. A nova ferramenta de inteligência artificial pode ser usada no WhatsApp, Instagram, Facebook, Messenger e navegador\n",
            "9. Polícia desmonta um dos maiores serviços de ataque DDoS do mundo. O DigitalStress é conhecido no cibercrime como um ecommerce de ataques DDoS.\n",
            "10. NASA descobre primeira caverna na Lua — será que ela pode virar uma base lunar? Há muito tempo, pesquisadores propõem utilizar os tubos de lava lunares como lar para humanos que viajarem para colonizar a Lua.\n",
            "Assine já o The BRIEF, a newsletter diária que te deixa por dentro de tudo\n",
            "Categorias\n",
            "PUBLICIDADE\n",
            "© COPYRIGHT 2024 - NO ZEBRA NETWORK S.A. TODOS OS DIREITOS RESERVADOS.\n",
            "\n",
            "\n",
            "Título: Startup que criou aparelho para ajudar pessoas surdas ganha financiamento\n",
            "Link: https://www.tecmundo.com.br/mercado/287342-startup-criou-aparelho-ajudar-pessoas-surdas-ganha-financiamento.htm\n",
            "Conteúdo: Nilton Kleina\n",
            "via nexperts\n",
            "Uma startup criada com um propósito bastante pessoal está se destacando no campo da acessibilidade. Trata-se da Speaksee, uma pequena companhia fundada em 2017 nos Países Baixos que tenta melhorar a comunicação de pessoas com surdez.\n",
            "A Speaksee é tida como o primeiro sistema de microfone do mundo que converte conversas em texto, incluindo interações em grupo. Basicamente, ela funciona com base em um conjunto de microfones, que transcreve o áudio para um aplicativo no celular.\n",
            "Assine já o The BRIEF, a newsletter diária que te deixa por dentro de tudo\n",
            "O dispositivo criado pela startup. (Imagem: Speaksee/Divulgação)Fonte:  Speaksee\n",
            "A startup foi criada por Jari Hazelebach para ajudar os próprios pais, que são surdos e reclamavam que não havia um sistema de conversão de áudio para texto que fosse ao mesmo tempo rápido e preciso.\n",
            "A novidade é que Jari anunciou um financiamento de US$ 1 milhão para a companhia. O dinheiro será usado para escalar os negócios em termos de território e tecnologia, chegando a mais países da Europa.\n",
            "Além disso, o projeto conseguiu aprovação em fundos governamentais dos Países Baixos e no Reino Unido. Com essa verba, ele pode ser usado por funcionários públicos e estudantes, ajudando a atingir ainda mais pessoas.\n",
            "A plataforma utiliza inteligência artificial (IA) no sistema para gerar os textos em tempo real, que são como legendas automáticas. Elas são separadas por balões em diferentes cores, cada uma representando um dos participantes da conversa.\n",
            "Os microfones da Speaksee usam uma tecnologia de direcionamento para isolar ruídos que não sejam a voz de quem está usando o acessório. Até por isso, cada participante precisa usar o seu próprio microfone de lapela, que pode ser preso na roupa.\n",
            "O software em funcionamento em chamadas de vídeo. (Imagem: Speaksee/Divulgação)Fonte:  Speaksee\n",
            "O programa também pode ser usado separadamente, a partir de videoconferências. Segundo a companhia, todo o conteúdo convertido para texto é protegido por criptografia a nível de software e hardware para garantir a privacidade dos usuários.\n",
            "Atualmente, o sistema suporta 40 idiomas e até três microfones de uma vez. Com o novo investimento, a ideia é triplicar a quantidade máxima de pessoas em uma interação.\n",
            "Assine já o The BRIEF, a newsletter diária que te deixa por dentro de tudo\n",
            "Fontes\n",
            "Categorias\n",
            "PUBLICIDADE\n",
            "© COPYRIGHT 2024 - NO ZEBRA NETWORK S.A. TODOS OS DIREITOS RESERVADOS.\n",
            "\n",
            "\n",
            "Título: CPF do boi: conheça a tecnologia geoespacial que rastreia gados livre de desmatamento\n",
            "Link: https://www.tecmundo.com.br/mercado/287335-cpf-boi-conheca-tecnologia-geoespacial-rastreia-gados-brasil.htm\n",
            "Conteúdo: André Luiz Dias Gonçalves\n",
            "via nexperts\n",
            "Um novo sistema de monitoramento de bois com chips está sendo utilizado por pecuaristas da Amazônia para identificar a carne livre de desmatamento. Conforme revelou o g1 nesta terça-feira (23), a iniciativa é fruto de acordo entre o Ministério Público Federal (MPF) e frigoríficos da região.\n",
            "Desenvolvido pela empresa de geotecnologia Niceplanet e a certificadora SBcert, o projeto de rastreabilidade com tecnologia geoespacial já foi adotado em cerca de 150 frigoríficos e fazendas. Ele inclui o uso de chips e brincos aplicados às orelhas que identificam de qual lugar veio cada animal.\n",
            "Assine já o The BRIEF, a newsletter diária que te deixa por dentro de tudo\n",
            "Na hora de comprar o gado, o sistema possibilita verificar se ele é originado de uma área livre de desmatamento. (Imagem: Getty Images)Fonte:  Getty Images/Reprodução\n",
            "Também chamado de “CPF do boi”, o programa permite que o criador insira dados do gado como data de nascimento, peso e fazenda em que o animal nasceu no sistema SMGeo Indireto. Cada chip/brinco possui numeração cadastrada no Sistema Brasileiro de Identificação Individual de Bovinos e Búfalos (Sisbov) do Ministério da Agricultura.\n",
            "Ao entrar no SMGeo Indireto, o comprador também consegue verificar a situação ambiental, fundiária e trabalhista do criador, já que essas informações são vinculadas ao número de cada boi. Caso não haja nenhum bloqueio à fazenda, indicando que ela está em uma área livre de desmatamento, a comercialização segue normalmente.\n",
            "A iniciativa de rastreabilidade de bois com tecnologia geoespacial citada na reportagem depende do uso de chips/brincos que custam R$ 7 por animal, da certificação cujo valor é de R$ 13 para cada boi e do bastão eletrônico para a leitura dos dados com preço estimado em R$ 5 mil. Também são necessários os bretes ou troncos.\n",
            "Essas estruturas ajudam a segurar os animais durante a aplicação dos acessórios, podendo custar de R$ 20 mil a R$ 100 mil. A solução atende principalmente os grandes pecuaristas, mas também há alternativas mais simples e baratas para os pequenos produtores, como a rastreabilidade com brinco e tatuagem.\n",
            "Sistemas como esse são essenciais para quem vende carne para os países da União Europeia, que serão proibidos de comprar produtos de áreas de desmatamento a partir de 2025. A China também deve adotar medida semelhante, após criar regras para o setor em 2021 que ainda não entraram em vigor.\n",
            "Assine já o The BRIEF, a newsletter diária que te deixa por dentro de tudo\n",
            "Fontes\n",
            "Categorias\n",
            "PUBLICIDADE\n",
            "© COPYRIGHT 2024 - NO ZEBRA NETWORK S.A. TODOS OS DIREITOS RESERVADOS.\n",
            "\n",
            "\n",
            "Título: 10 notícias de tecnologia para você começar o da (23/07)\n",
            "Link: https://www.tecmundo.com.br/mercado/287310-10-noticias-tecnologia-voce-comecar-23-07.htm\n",
            "Conteúdo: Carlos Palmeira\n",
            "Bom dia! Separamos as principais notícias do mundo da Ciência e Tecnologia para você saber tudo o que aconteceu na última segunda-feira (22). Para conferir cada notícia na íntegra, basta clicar nos links a seguir.\n",
            "1. Jovem compra Air Fryer na Amazon e recebe produto junto com um lagarto dentro da caixa. Desbloqueando um novo medo! A entrega errada da Amazon viralizou nas redes sociais e o lagarto ganhou até nome, confira!\n",
            "Assine já o The BRIEF, a newsletter diária que te deixa por dentro de tudo\n",
            "2. Brasil é um dos 5 lugares inabitáveis da Terra em 50 anos, segundo a NASA. O estudo da NASA aponta cinco regiões do planeta potencialmente inabitáveis até 2050 segundo um índice chamado 'bulbo úmido'.\n",
            "3. Galaxy Ring funciona com qualquer celular Android, mas sem todas as funções. O acessório da Samsung pode ser pareado a qualquer celular com Android 11 (ou mais recente), mas com algumas funções a menos.\n",
            "4. BYD Dolphin Mini ganha versão de cinco lugares por R$119.800. Menor e mais barato carro da marca no Brasil finalmente ganha versão homologada para cinco passageiros.\n",
            "5. Prime Day 2024 bate recorde de vendas na Amazon; veja os itens mais comprados. iPhone 15, Air Fryer, Kindle, Echo Pop e mais: a Amazon revelou os itens mais vendidos no Prime Day 2024; veja!\n",
            "6. Banco Central reduz limite de Pix em celulares novos e adia Pix automático. Novos mecanismos de segurança devem reduzir fraudes e acessos por pessoas não autorizadas.\n",
            "7. Um 'número significativo' de PCs foram recuperados, diz CrowdStrike. A empresa que gerou o apagão cibernético internacional disse em publicação no LinkedIn que vários dispositivos afetados já estão online e operando de novo.\n",
            "8. Deadpool & Wolverine vai estrear “Era Mutante” no MCU, afirma Kevin Feige. Após Deadpool & Wolverine, personagens do universo X-Men devem se tornar mais presentes nos cinemas.\n",
            "9. Eletrolar Show 2024: Aiwa revela TV à prova d'água e mais novidades. O televisor da Aiwa, que deve chegar às lojas em 2025, pode ser usado em áreas externas, funcionando até mesmo na chuva; confira!\n",
            "10. NASA e SpaceX revelam plano para destruir a Estação Espacial Internacional. Em junho, agência espacial dos Estados Unidos anunciou que pagaria quantia impressionante para que a empresa de Elon Musk ajudasse a desativar a ISS.\n",
            "Assine já o The BRIEF, a newsletter diária que te deixa por dentro de tudo\n",
            "Categorias\n",
            "PUBLICIDADE\n",
            "© COPYRIGHT 2024 - NO ZEBRA NETWORK S.A. TODOS OS DIREITOS RESERVADOS.\n",
            "\n",
            "\n"
          ]
        }
      ],
      "source": [
        "import requests\n",
        "from bs4 import BeautifulSoup\n",
        "\n",
        "url = \"https://www.tecmundo.com.br/tecnologia\"\n",
        "response = requests.get(url)\n",
        "\n",
        "soup = BeautifulSoup(response.text, \"html.parser\")\n",
        "\n",
        "list_items = soup.find_all(\"div\", class_=\"tec--list__item\")\n",
        "\n",
        "titles = []\n",
        "links = []\n",
        "contents = []\n",
        "articles = []\n",
        "\n",
        "# Obtendo títulos e links\n",
        "for item in list_items[:5]:\n",
        "    title = item.find(\"h4\", class_=\"tec--card__title\")\n",
        "    link = item.find(\"a\", class_=\"tec--card__title__link\")\n",
        "\n",
        "    if title and link:\n",
        "        titles.append(title.get_text(strip=True))\n",
        "        links.append(link['href'])\n",
        "\n",
        "# Obtendo conteúdo dos links\n",
        "for link in links:\n",
        "    response = requests.get(link)\n",
        "    new_soup = BeautifulSoup(response.text, \"html.parser\")\n",
        "\n",
        "    paragraphs = new_soup.find_all('p')\n",
        "    article_text = '\\n'.join([p.get_text().strip() for p in paragraphs if p.get_text().strip()])\n",
        "\n",
        "    contents.append(article_text)\n",
        "\n",
        "# Criando lista de listas\n",
        "for i in range(len(titles)):\n",
        "    articles.append([titles[i], links[i], contents[i]])\n",
        "\n",
        "# Imprimindo resultado\n",
        "for article in articles:\n",
        "    print(\"Título:\", article[0])\n",
        "    print(\"Link:\", article[1])\n",
        "    print(\"Conteúdo:\", article[2])\n",
        "    print(\"\\n\")"
      ]
    },
    {
      "cell_type": "markdown",
      "metadata": {
        "id": "dxbY2ErHKdh4"
      },
      "source": [
        "# **Scraping**"
      ]
    },
    {
      "cell_type": "code",
      "execution_count": null,
      "metadata": {
        "id": "31oCJJYNLWDb",
        "collapsed": true,
        "colab": {
          "base_uri": "https://localhost:8080/"
        },
        "outputId": "f77d93b0-ba73-4ebb-dd7d-aaa45ffb962d"
      },
      "outputs": [
        {
          "output_type": "stream",
          "name": "stdout",
          "text": [
            "Requirement already satisfied: transformers in /usr/local/lib/python3.10/dist-packages (4.42.4)\n",
            "Requirement already satisfied: torch in /usr/local/lib/python3.10/dist-packages (2.3.1+cu121)\n",
            "Collecting chromadb\n",
            "  Downloading chromadb-0.5.5-py3-none-any.whl.metadata (6.8 kB)\n",
            "Requirement already satisfied: filelock in /usr/local/lib/python3.10/dist-packages (from transformers) (3.15.4)\n",
            "Requirement already satisfied: huggingface-hub<1.0,>=0.23.2 in /usr/local/lib/python3.10/dist-packages (from transformers) (0.23.5)\n",
            "Requirement already satisfied: numpy<2.0,>=1.17 in /usr/local/lib/python3.10/dist-packages (from transformers) (1.25.2)\n",
            "Requirement already satisfied: packaging>=20.0 in /usr/local/lib/python3.10/dist-packages (from transformers) (24.1)\n",
            "Requirement already satisfied: pyyaml>=5.1 in /usr/local/lib/python3.10/dist-packages (from transformers) (6.0.1)\n",
            "Requirement already satisfied: regex!=2019.12.17 in /usr/local/lib/python3.10/dist-packages (from transformers) (2024.5.15)\n",
            "Requirement already satisfied: requests in /usr/local/lib/python3.10/dist-packages (from transformers) (2.31.0)\n",
            "Requirement already satisfied: safetensors>=0.4.1 in /usr/local/lib/python3.10/dist-packages (from transformers) (0.4.3)\n",
            "Requirement already satisfied: tokenizers<0.20,>=0.19 in /usr/local/lib/python3.10/dist-packages (from transformers) (0.19.1)\n",
            "Requirement already satisfied: tqdm>=4.27 in /usr/local/lib/python3.10/dist-packages (from transformers) (4.66.4)\n",
            "Requirement already satisfied: typing-extensions>=4.8.0 in /usr/local/lib/python3.10/dist-packages (from torch) (4.12.2)\n",
            "Requirement already satisfied: sympy in /usr/local/lib/python3.10/dist-packages (from torch) (1.13.1)\n",
            "Requirement already satisfied: networkx in /usr/local/lib/python3.10/dist-packages (from torch) (3.3)\n",
            "Requirement already satisfied: jinja2 in /usr/local/lib/python3.10/dist-packages (from torch) (3.1.4)\n",
            "Requirement already satisfied: fsspec in /usr/local/lib/python3.10/dist-packages (from torch) (2023.6.0)\n",
            "Collecting nvidia-cuda-nvrtc-cu12==12.1.105 (from torch)\n",
            "  Using cached nvidia_cuda_nvrtc_cu12-12.1.105-py3-none-manylinux1_x86_64.whl.metadata (1.5 kB)\n",
            "Collecting nvidia-cuda-runtime-cu12==12.1.105 (from torch)\n",
            "  Using cached nvidia_cuda_runtime_cu12-12.1.105-py3-none-manylinux1_x86_64.whl.metadata (1.5 kB)\n",
            "Collecting nvidia-cuda-cupti-cu12==12.1.105 (from torch)\n",
            "  Using cached nvidia_cuda_cupti_cu12-12.1.105-py3-none-manylinux1_x86_64.whl.metadata (1.6 kB)\n",
            "Collecting nvidia-cudnn-cu12==8.9.2.26 (from torch)\n",
            "  Using cached nvidia_cudnn_cu12-8.9.2.26-py3-none-manylinux1_x86_64.whl.metadata (1.6 kB)\n",
            "Collecting nvidia-cublas-cu12==12.1.3.1 (from torch)\n",
            "  Using cached nvidia_cublas_cu12-12.1.3.1-py3-none-manylinux1_x86_64.whl.metadata (1.5 kB)\n",
            "Collecting nvidia-cufft-cu12==11.0.2.54 (from torch)\n",
            "  Using cached nvidia_cufft_cu12-11.0.2.54-py3-none-manylinux1_x86_64.whl.metadata (1.5 kB)\n",
            "Collecting nvidia-curand-cu12==10.3.2.106 (from torch)\n",
            "  Using cached nvidia_curand_cu12-10.3.2.106-py3-none-manylinux1_x86_64.whl.metadata (1.5 kB)\n",
            "Collecting nvidia-cusolver-cu12==11.4.5.107 (from torch)\n",
            "  Using cached nvidia_cusolver_cu12-11.4.5.107-py3-none-manylinux1_x86_64.whl.metadata (1.6 kB)\n",
            "Collecting nvidia-cusparse-cu12==12.1.0.106 (from torch)\n",
            "  Using cached nvidia_cusparse_cu12-12.1.0.106-py3-none-manylinux1_x86_64.whl.metadata (1.6 kB)\n",
            "Collecting nvidia-nccl-cu12==2.20.5 (from torch)\n",
            "  Using cached nvidia_nccl_cu12-2.20.5-py3-none-manylinux2014_x86_64.whl.metadata (1.8 kB)\n",
            "Collecting nvidia-nvtx-cu12==12.1.105 (from torch)\n",
            "  Using cached nvidia_nvtx_cu12-12.1.105-py3-none-manylinux1_x86_64.whl.metadata (1.7 kB)\n",
            "Requirement already satisfied: triton==2.3.1 in /usr/local/lib/python3.10/dist-packages (from torch) (2.3.1)\n",
            "Collecting nvidia-nvjitlink-cu12 (from nvidia-cusolver-cu12==11.4.5.107->torch)\n",
            "  Downloading nvidia_nvjitlink_cu12-12.5.82-py3-none-manylinux2014_x86_64.whl.metadata (1.5 kB)\n",
            "Requirement already satisfied: build>=1.0.3 in /usr/local/lib/python3.10/dist-packages (from chromadb) (1.2.1)\n",
            "Requirement already satisfied: pydantic>=1.9 in /usr/local/lib/python3.10/dist-packages (from chromadb) (2.8.2)\n",
            "Collecting chroma-hnswlib==0.7.6 (from chromadb)\n",
            "  Downloading chroma_hnswlib-0.7.6-cp310-cp310-manylinux_2_17_x86_64.manylinux2014_x86_64.whl.metadata (252 bytes)\n",
            "Collecting fastapi>=0.95.2 (from chromadb)\n",
            "  Downloading fastapi-0.111.1-py3-none-any.whl.metadata (26 kB)\n",
            "Collecting uvicorn>=0.18.3 (from uvicorn[standard]>=0.18.3->chromadb)\n",
            "  Downloading uvicorn-0.30.3-py3-none-any.whl.metadata (6.5 kB)\n",
            "Collecting posthog>=2.4.0 (from chromadb)\n",
            "  Downloading posthog-3.5.0-py2.py3-none-any.whl.metadata (2.0 kB)\n",
            "Collecting onnxruntime>=1.14.1 (from chromadb)\n",
            "  Downloading onnxruntime-1.18.1-cp310-cp310-manylinux_2_27_x86_64.manylinux_2_28_x86_64.whl.metadata (4.3 kB)\n",
            "Collecting opentelemetry-api>=1.2.0 (from chromadb)\n",
            "  Downloading opentelemetry_api-1.26.0-py3-none-any.whl.metadata (1.4 kB)\n",
            "Collecting opentelemetry-exporter-otlp-proto-grpc>=1.2.0 (from chromadb)\n",
            "  Downloading opentelemetry_exporter_otlp_proto_grpc-1.26.0-py3-none-any.whl.metadata (2.3 kB)\n",
            "Collecting opentelemetry-instrumentation-fastapi>=0.41b0 (from chromadb)\n",
            "  Downloading opentelemetry_instrumentation_fastapi-0.47b0-py3-none-any.whl.metadata (2.1 kB)\n",
            "Collecting opentelemetry-sdk>=1.2.0 (from chromadb)\n",
            "  Downloading opentelemetry_sdk-1.26.0-py3-none-any.whl.metadata (1.5 kB)\n",
            "Collecting pypika>=0.48.9 (from chromadb)\n",
            "  Downloading PyPika-0.48.9.tar.gz (67 kB)\n",
            "\u001b[2K     \u001b[90m━━━━━━━━━━━━━━━━━━━━━━━━━━━━━━━━━━━━━━━━\u001b[0m \u001b[32m67.3/67.3 kB\u001b[0m \u001b[31m5.7 MB/s\u001b[0m eta \u001b[36m0:00:00\u001b[0m\n",
            "\u001b[?25h  Installing build dependencies ... \u001b[?25l\u001b[?25hdone\n",
            "  Getting requirements to build wheel ... \u001b[?25l\u001b[?25hdone\n",
            "  Preparing metadata (pyproject.toml) ... \u001b[?25l\u001b[?25hdone\n",
            "Collecting overrides>=7.3.1 (from chromadb)\n",
            "  Downloading overrides-7.7.0-py3-none-any.whl.metadata (5.8 kB)\n",
            "Requirement already satisfied: importlib-resources in /usr/local/lib/python3.10/dist-packages (from chromadb) (6.4.0)\n",
            "Requirement already satisfied: grpcio>=1.58.0 in /usr/local/lib/python3.10/dist-packages (from chromadb) (1.64.1)\n",
            "Collecting bcrypt>=4.0.1 (from chromadb)\n",
            "  Downloading bcrypt-4.2.0-cp39-abi3-manylinux_2_28_x86_64.whl.metadata (9.6 kB)\n",
            "Requirement already satisfied: typer>=0.9.0 in /usr/local/lib/python3.10/dist-packages (from chromadb) (0.12.3)\n",
            "Collecting kubernetes>=28.1.0 (from chromadb)\n",
            "  Downloading kubernetes-30.1.0-py2.py3-none-any.whl.metadata (1.5 kB)\n",
            "Requirement already satisfied: tenacity>=8.2.3 in /usr/local/lib/python3.10/dist-packages (from chromadb) (8.5.0)\n",
            "Collecting mmh3>=4.0.1 (from chromadb)\n",
            "  Downloading mmh3-4.1.0-cp310-cp310-manylinux_2_5_x86_64.manylinux1_x86_64.manylinux_2_17_x86_64.manylinux2014_x86_64.whl.metadata (13 kB)\n",
            "Collecting orjson>=3.9.12 (from chromadb)\n",
            "  Downloading orjson-3.10.6-cp310-cp310-manylinux_2_17_x86_64.manylinux2014_x86_64.whl.metadata (50 kB)\n",
            "\u001b[2K     \u001b[90m━━━━━━━━━━━━━━━━━━━━━━━━━━━━━━━━━━━━━━━━\u001b[0m \u001b[32m50.4/50.4 kB\u001b[0m \u001b[31m2.3 MB/s\u001b[0m eta \u001b[36m0:00:00\u001b[0m\n",
            "\u001b[?25hCollecting httpx>=0.27.0 (from chromadb)\n",
            "  Downloading httpx-0.27.0-py3-none-any.whl.metadata (7.2 kB)\n",
            "Requirement already satisfied: pyproject_hooks in /usr/local/lib/python3.10/dist-packages (from build>=1.0.3->chromadb) (1.1.0)\n",
            "Requirement already satisfied: tomli>=1.1.0 in /usr/local/lib/python3.10/dist-packages (from build>=1.0.3->chromadb) (2.0.1)\n",
            "Collecting starlette<0.38.0,>=0.37.2 (from fastapi>=0.95.2->chromadb)\n",
            "  Downloading starlette-0.37.2-py3-none-any.whl.metadata (5.9 kB)\n",
            "Collecting fastapi-cli>=0.0.2 (from fastapi>=0.95.2->chromadb)\n",
            "  Downloading fastapi_cli-0.0.4-py3-none-any.whl.metadata (7.0 kB)\n",
            "Collecting python-multipart>=0.0.7 (from fastapi>=0.95.2->chromadb)\n",
            "  Downloading python_multipart-0.0.9-py3-none-any.whl.metadata (2.5 kB)\n",
            "Collecting email_validator>=2.0.0 (from fastapi>=0.95.2->chromadb)\n",
            "  Downloading email_validator-2.2.0-py3-none-any.whl.metadata (25 kB)\n",
            "Requirement already satisfied: anyio in /usr/local/lib/python3.10/dist-packages (from httpx>=0.27.0->chromadb) (3.7.1)\n",
            "Requirement already satisfied: certifi in /usr/local/lib/python3.10/dist-packages (from httpx>=0.27.0->chromadb) (2024.7.4)\n",
            "Collecting httpcore==1.* (from httpx>=0.27.0->chromadb)\n",
            "  Downloading httpcore-1.0.5-py3-none-any.whl.metadata (20 kB)\n",
            "Requirement already satisfied: idna in /usr/local/lib/python3.10/dist-packages (from httpx>=0.27.0->chromadb) (3.7)\n",
            "Requirement already satisfied: sniffio in /usr/local/lib/python3.10/dist-packages (from httpx>=0.27.0->chromadb) (1.3.1)\n",
            "Collecting h11<0.15,>=0.13 (from httpcore==1.*->httpx>=0.27.0->chromadb)\n",
            "  Downloading h11-0.14.0-py3-none-any.whl.metadata (8.2 kB)\n",
            "Requirement already satisfied: MarkupSafe>=2.0 in /usr/local/lib/python3.10/dist-packages (from jinja2->torch) (2.1.5)\n",
            "Requirement already satisfied: six>=1.9.0 in /usr/local/lib/python3.10/dist-packages (from kubernetes>=28.1.0->chromadb) (1.16.0)\n",
            "Requirement already satisfied: python-dateutil>=2.5.3 in /usr/local/lib/python3.10/dist-packages (from kubernetes>=28.1.0->chromadb) (2.8.2)\n",
            "Requirement already satisfied: google-auth>=1.0.1 in /usr/local/lib/python3.10/dist-packages (from kubernetes>=28.1.0->chromadb) (2.27.0)\n",
            "Requirement already satisfied: websocket-client!=0.40.0,!=0.41.*,!=0.42.*,>=0.32.0 in /usr/local/lib/python3.10/dist-packages (from kubernetes>=28.1.0->chromadb) (1.8.0)\n",
            "Requirement already satisfied: requests-oauthlib in /usr/local/lib/python3.10/dist-packages (from kubernetes>=28.1.0->chromadb) (1.3.1)\n",
            "Requirement already satisfied: oauthlib>=3.2.2 in /usr/local/lib/python3.10/dist-packages (from kubernetes>=28.1.0->chromadb) (3.2.2)\n",
            "Requirement already satisfied: urllib3>=1.24.2 in /usr/local/lib/python3.10/dist-packages (from kubernetes>=28.1.0->chromadb) (2.0.7)\n",
            "Collecting coloredlogs (from onnxruntime>=1.14.1->chromadb)\n",
            "  Downloading coloredlogs-15.0.1-py2.py3-none-any.whl.metadata (12 kB)\n",
            "Requirement already satisfied: flatbuffers in /usr/local/lib/python3.10/dist-packages (from onnxruntime>=1.14.1->chromadb) (24.3.25)\n",
            "Requirement already satisfied: protobuf in /usr/local/lib/python3.10/dist-packages (from onnxruntime>=1.14.1->chromadb) (3.20.3)\n",
            "Collecting deprecated>=1.2.6 (from opentelemetry-api>=1.2.0->chromadb)\n",
            "  Downloading Deprecated-1.2.14-py2.py3-none-any.whl.metadata (5.4 kB)\n",
            "Requirement already satisfied: importlib-metadata<=8.0.0,>=6.0 in /usr/local/lib/python3.10/dist-packages (from opentelemetry-api>=1.2.0->chromadb) (8.0.0)\n",
            "Requirement already satisfied: googleapis-common-protos~=1.52 in /usr/local/lib/python3.10/dist-packages (from opentelemetry-exporter-otlp-proto-grpc>=1.2.0->chromadb) (1.63.2)\n",
            "Collecting opentelemetry-exporter-otlp-proto-common==1.26.0 (from opentelemetry-exporter-otlp-proto-grpc>=1.2.0->chromadb)\n",
            "  Downloading opentelemetry_exporter_otlp_proto_common-1.26.0-py3-none-any.whl.metadata (1.8 kB)\n",
            "Collecting opentelemetry-proto==1.26.0 (from opentelemetry-exporter-otlp-proto-grpc>=1.2.0->chromadb)\n",
            "  Downloading opentelemetry_proto-1.26.0-py3-none-any.whl.metadata (2.3 kB)\n",
            "Collecting opentelemetry-instrumentation-asgi==0.47b0 (from opentelemetry-instrumentation-fastapi>=0.41b0->chromadb)\n",
            "  Downloading opentelemetry_instrumentation_asgi-0.47b0-py3-none-any.whl.metadata (2.0 kB)\n",
            "Collecting opentelemetry-instrumentation==0.47b0 (from opentelemetry-instrumentation-fastapi>=0.41b0->chromadb)\n",
            "  Downloading opentelemetry_instrumentation-0.47b0-py3-none-any.whl.metadata (6.1 kB)\n",
            "Collecting opentelemetry-semantic-conventions==0.47b0 (from opentelemetry-instrumentation-fastapi>=0.41b0->chromadb)\n",
            "  Downloading opentelemetry_semantic_conventions-0.47b0-py3-none-any.whl.metadata (2.4 kB)\n",
            "Collecting opentelemetry-util-http==0.47b0 (from opentelemetry-instrumentation-fastapi>=0.41b0->chromadb)\n",
            "  Downloading opentelemetry_util_http-0.47b0-py3-none-any.whl.metadata (2.5 kB)\n",
            "Requirement already satisfied: setuptools>=16.0 in /usr/local/lib/python3.10/dist-packages (from opentelemetry-instrumentation==0.47b0->opentelemetry-instrumentation-fastapi>=0.41b0->chromadb) (71.0.4)\n",
            "Requirement already satisfied: wrapt<2.0.0,>=1.0.0 in /usr/local/lib/python3.10/dist-packages (from opentelemetry-instrumentation==0.47b0->opentelemetry-instrumentation-fastapi>=0.41b0->chromadb) (1.14.1)\n",
            "Collecting asgiref~=3.0 (from opentelemetry-instrumentation-asgi==0.47b0->opentelemetry-instrumentation-fastapi>=0.41b0->chromadb)\n",
            "  Downloading asgiref-3.8.1-py3-none-any.whl.metadata (9.3 kB)\n",
            "Collecting monotonic>=1.5 (from posthog>=2.4.0->chromadb)\n",
            "  Downloading monotonic-1.6-py2.py3-none-any.whl.metadata (1.5 kB)\n",
            "Collecting backoff>=1.10.0 (from posthog>=2.4.0->chromadb)\n",
            "  Downloading backoff-2.2.1-py3-none-any.whl.metadata (14 kB)\n",
            "Requirement already satisfied: annotated-types>=0.4.0 in /usr/local/lib/python3.10/dist-packages (from pydantic>=1.9->chromadb) (0.7.0)\n",
            "Requirement already satisfied: pydantic-core==2.20.1 in /usr/local/lib/python3.10/dist-packages (from pydantic>=1.9->chromadb) (2.20.1)\n",
            "Requirement already satisfied: charset-normalizer<4,>=2 in /usr/local/lib/python3.10/dist-packages (from requests->transformers) (3.3.2)\n",
            "Requirement already satisfied: click>=8.0.0 in /usr/local/lib/python3.10/dist-packages (from typer>=0.9.0->chromadb) (8.1.7)\n",
            "Requirement already satisfied: shellingham>=1.3.0 in /usr/local/lib/python3.10/dist-packages (from typer>=0.9.0->chromadb) (1.5.4)\n",
            "Requirement already satisfied: rich>=10.11.0 in /usr/local/lib/python3.10/dist-packages (from typer>=0.9.0->chromadb) (13.7.1)\n",
            "Collecting httptools>=0.5.0 (from uvicorn[standard]>=0.18.3->chromadb)\n",
            "  Downloading httptools-0.6.1-cp310-cp310-manylinux_2_5_x86_64.manylinux1_x86_64.manylinux_2_17_x86_64.manylinux2014_x86_64.whl.metadata (3.6 kB)\n",
            "Collecting python-dotenv>=0.13 (from uvicorn[standard]>=0.18.3->chromadb)\n",
            "  Downloading python_dotenv-1.0.1-py3-none-any.whl.metadata (23 kB)\n",
            "Collecting uvloop!=0.15.0,!=0.15.1,>=0.14.0 (from uvicorn[standard]>=0.18.3->chromadb)\n",
            "  Downloading uvloop-0.19.0-cp310-cp310-manylinux_2_17_x86_64.manylinux2014_x86_64.whl.metadata (4.9 kB)\n",
            "Collecting watchfiles>=0.13 (from uvicorn[standard]>=0.18.3->chromadb)\n",
            "  Downloading watchfiles-0.22.0-cp310-cp310-manylinux_2_17_x86_64.manylinux2014_x86_64.whl.metadata (4.9 kB)\n",
            "Collecting websockets>=10.4 (from uvicorn[standard]>=0.18.3->chromadb)\n",
            "  Downloading websockets-12.0-cp310-cp310-manylinux_2_5_x86_64.manylinux1_x86_64.manylinux_2_17_x86_64.manylinux2014_x86_64.whl.metadata (6.6 kB)\n",
            "Requirement already satisfied: mpmath<1.4,>=1.1.0 in /usr/local/lib/python3.10/dist-packages (from sympy->torch) (1.3.0)\n",
            "Collecting dnspython>=2.0.0 (from email_validator>=2.0.0->fastapi>=0.95.2->chromadb)\n",
            "  Downloading dnspython-2.6.1-py3-none-any.whl.metadata (5.8 kB)\n",
            "Requirement already satisfied: cachetools<6.0,>=2.0.0 in /usr/local/lib/python3.10/dist-packages (from google-auth>=1.0.1->kubernetes>=28.1.0->chromadb) (5.4.0)\n",
            "Requirement already satisfied: pyasn1-modules>=0.2.1 in /usr/local/lib/python3.10/dist-packages (from google-auth>=1.0.1->kubernetes>=28.1.0->chromadb) (0.4.0)\n",
            "Requirement already satisfied: rsa<5,>=3.1.4 in /usr/local/lib/python3.10/dist-packages (from google-auth>=1.0.1->kubernetes>=28.1.0->chromadb) (4.9)\n",
            "Requirement already satisfied: zipp>=0.5 in /usr/local/lib/python3.10/dist-packages (from importlib-metadata<=8.0.0,>=6.0->opentelemetry-api>=1.2.0->chromadb) (3.19.2)\n",
            "Requirement already satisfied: markdown-it-py>=2.2.0 in /usr/local/lib/python3.10/dist-packages (from rich>=10.11.0->typer>=0.9.0->chromadb) (3.0.0)\n",
            "Requirement already satisfied: pygments<3.0.0,>=2.13.0 in /usr/local/lib/python3.10/dist-packages (from rich>=10.11.0->typer>=0.9.0->chromadb) (2.16.1)\n",
            "Requirement already satisfied: exceptiongroup in /usr/local/lib/python3.10/dist-packages (from anyio->httpx>=0.27.0->chromadb) (1.2.2)\n",
            "Collecting humanfriendly>=9.1 (from coloredlogs->onnxruntime>=1.14.1->chromadb)\n",
            "  Downloading humanfriendly-10.0-py2.py3-none-any.whl.metadata (9.2 kB)\n",
            "Requirement already satisfied: mdurl~=0.1 in /usr/local/lib/python3.10/dist-packages (from markdown-it-py>=2.2.0->rich>=10.11.0->typer>=0.9.0->chromadb) (0.1.2)\n",
            "Requirement already satisfied: pyasn1<0.7.0,>=0.4.6 in /usr/local/lib/python3.10/dist-packages (from pyasn1-modules>=0.2.1->google-auth>=1.0.1->kubernetes>=28.1.0->chromadb) (0.6.0)\n",
            "Using cached nvidia_cublas_cu12-12.1.3.1-py3-none-manylinux1_x86_64.whl (410.6 MB)\n",
            "Using cached nvidia_cuda_cupti_cu12-12.1.105-py3-none-manylinux1_x86_64.whl (14.1 MB)\n",
            "Using cached nvidia_cuda_nvrtc_cu12-12.1.105-py3-none-manylinux1_x86_64.whl (23.7 MB)\n",
            "Using cached nvidia_cuda_runtime_cu12-12.1.105-py3-none-manylinux1_x86_64.whl (823 kB)\n",
            "Using cached nvidia_cudnn_cu12-8.9.2.26-py3-none-manylinux1_x86_64.whl (731.7 MB)\n",
            "Using cached nvidia_cufft_cu12-11.0.2.54-py3-none-manylinux1_x86_64.whl (121.6 MB)\n",
            "Using cached nvidia_curand_cu12-10.3.2.106-py3-none-manylinux1_x86_64.whl (56.5 MB)\n",
            "Using cached nvidia_cusolver_cu12-11.4.5.107-py3-none-manylinux1_x86_64.whl (124.2 MB)\n",
            "Using cached nvidia_cusparse_cu12-12.1.0.106-py3-none-manylinux1_x86_64.whl (196.0 MB)\n",
            "Using cached nvidia_nccl_cu12-2.20.5-py3-none-manylinux2014_x86_64.whl (176.2 MB)\n",
            "Using cached nvidia_nvtx_cu12-12.1.105-py3-none-manylinux1_x86_64.whl (99 kB)\n",
            "Downloading chromadb-0.5.5-py3-none-any.whl (584 kB)\n",
            "\u001b[2K   \u001b[90m━━━━━━━━━━━━━━━━━━━━━━━━━━━━━━━━━━━━━━━━\u001b[0m \u001b[32m584.3/584.3 kB\u001b[0m \u001b[31m1.0 MB/s\u001b[0m eta \u001b[36m0:00:00\u001b[0m\n",
            "\u001b[?25hDownloading chroma_hnswlib-0.7.6-cp310-cp310-manylinux_2_17_x86_64.manylinux2014_x86_64.whl (2.4 MB)\n",
            "\u001b[2K   \u001b[90m━━━━━━━━━━━━━━━━━━━━━━━━━━━━━━━━━━━━━━━━\u001b[0m \u001b[32m2.4/2.4 MB\u001b[0m \u001b[31m62.2 MB/s\u001b[0m eta \u001b[36m0:00:00\u001b[0m\n",
            "\u001b[?25hDownloading bcrypt-4.2.0-cp39-abi3-manylinux_2_28_x86_64.whl (273 kB)\n",
            "\u001b[2K   \u001b[90m━━━━━━━━━━━━━━━━━━━━━━━━━━━━━━━━━━━━━━━━\u001b[0m \u001b[32m273.8/273.8 kB\u001b[0m \u001b[31m21.0 MB/s\u001b[0m eta \u001b[36m0:00:00\u001b[0m\n",
            "\u001b[?25hDownloading fastapi-0.111.1-py3-none-any.whl (92 kB)\n",
            "\u001b[2K   \u001b[90m━━━━━━━━━━━━━━━━━━━━━━━━━━━━━━━━━━━━━━━━\u001b[0m \u001b[32m92.2/92.2 kB\u001b[0m \u001b[31m8.3 MB/s\u001b[0m eta \u001b[36m0:00:00\u001b[0m\n",
            "\u001b[?25hDownloading httpx-0.27.0-py3-none-any.whl (75 kB)\n",
            "\u001b[2K   \u001b[90m━━━━━━━━━━━━━━━━━━━━━━━━━━━━━━━━━━━━━━━━\u001b[0m \u001b[32m75.6/75.6 kB\u001b[0m \u001b[31m6.0 MB/s\u001b[0m eta \u001b[36m0:00:00\u001b[0m\n",
            "\u001b[?25hDownloading httpcore-1.0.5-py3-none-any.whl (77 kB)\n",
            "\u001b[2K   \u001b[90m━━━━━━━━━━━━━━━━━━━━━━━━━━━━━━━━━━━━━━━━\u001b[0m \u001b[32m77.9/77.9 kB\u001b[0m \u001b[31m6.3 MB/s\u001b[0m eta \u001b[36m0:00:00\u001b[0m\n",
            "\u001b[?25hDownloading kubernetes-30.1.0-py2.py3-none-any.whl (1.7 MB)\n",
            "\u001b[2K   \u001b[90m━━━━━━━━━━━━━━━━━━━━━━━━━━━━━━━━━━━━━━━━\u001b[0m \u001b[32m1.7/1.7 MB\u001b[0m \u001b[31m50.3 MB/s\u001b[0m eta \u001b[36m0:00:00\u001b[0m\n",
            "\u001b[?25hDownloading mmh3-4.1.0-cp310-cp310-manylinux_2_5_x86_64.manylinux1_x86_64.manylinux_2_17_x86_64.manylinux2014_x86_64.whl (67 kB)\n",
            "\u001b[2K   \u001b[90m━━━━━━━━━━━━━━━━━━━━━━━━━━━━━━━━━━━━━━━━\u001b[0m \u001b[32m67.6/67.6 kB\u001b[0m \u001b[31m5.9 MB/s\u001b[0m eta \u001b[36m0:00:00\u001b[0m\n",
            "\u001b[?25hDownloading onnxruntime-1.18.1-cp310-cp310-manylinux_2_27_x86_64.manylinux_2_28_x86_64.whl (6.8 MB)\n",
            "\u001b[2K   \u001b[90m━━━━━━━━━━━━━━━━━━━━━━━━━━━━━━━━━━━━━━━━\u001b[0m \u001b[32m6.8/6.8 MB\u001b[0m \u001b[31m70.0 MB/s\u001b[0m eta \u001b[36m0:00:00\u001b[0m\n",
            "\u001b[?25hDownloading opentelemetry_api-1.26.0-py3-none-any.whl (61 kB)\n",
            "\u001b[2K   \u001b[90m━━━━━━━━━━━━━━━━━━━━━━━━━━━━━━━━━━━━━━━━\u001b[0m \u001b[32m61.5/61.5 kB\u001b[0m \u001b[31m4.1 MB/s\u001b[0m eta \u001b[36m0:00:00\u001b[0m\n",
            "\u001b[?25hDownloading opentelemetry_exporter_otlp_proto_grpc-1.26.0-py3-none-any.whl (18 kB)\n",
            "Downloading opentelemetry_exporter_otlp_proto_common-1.26.0-py3-none-any.whl (17 kB)\n",
            "Downloading opentelemetry_proto-1.26.0-py3-none-any.whl (52 kB)\n",
            "\u001b[2K   \u001b[90m━━━━━━━━━━━━━━━━━━━━━━━━━━━━━━━━━━━━━━━━\u001b[0m \u001b[32m52.5/52.5 kB\u001b[0m \u001b[31m4.6 MB/s\u001b[0m eta \u001b[36m0:00:00\u001b[0m\n",
            "\u001b[?25hDownloading opentelemetry_instrumentation_fastapi-0.47b0-py3-none-any.whl (11 kB)\n",
            "Downloading opentelemetry_instrumentation-0.47b0-py3-none-any.whl (29 kB)\n",
            "Downloading opentelemetry_instrumentation_asgi-0.47b0-py3-none-any.whl (15 kB)\n",
            "Downloading opentelemetry_semantic_conventions-0.47b0-py3-none-any.whl (138 kB)\n",
            "\u001b[2K   \u001b[90m━━━━━━━━━━━━━━━━━━━━━━━━━━━━━━━━━━━━━━━━\u001b[0m \u001b[32m138.0/138.0 kB\u001b[0m \u001b[31m12.0 MB/s\u001b[0m eta \u001b[36m0:00:00\u001b[0m\n",
            "\u001b[?25hDownloading opentelemetry_util_http-0.47b0-py3-none-any.whl (6.9 kB)\n",
            "Downloading opentelemetry_sdk-1.26.0-py3-none-any.whl (109 kB)\n",
            "\u001b[2K   \u001b[90m━━━━━━━━━━━━━━━━━━━━━━━━━━━━━━━━━━━━━━━━\u001b[0m \u001b[32m109.5/109.5 kB\u001b[0m \u001b[31m10.1 MB/s\u001b[0m eta \u001b[36m0:00:00\u001b[0m\n",
            "\u001b[?25hDownloading orjson-3.10.6-cp310-cp310-manylinux_2_17_x86_64.manylinux2014_x86_64.whl (141 kB)\n",
            "\u001b[2K   \u001b[90m━━━━━━━━━━━━━━━━━━━━━━━━━━━━━━━━━━━━━━━━\u001b[0m \u001b[32m141.1/141.1 kB\u001b[0m \u001b[31m11.1 MB/s\u001b[0m eta \u001b[36m0:00:00\u001b[0m\n",
            "\u001b[?25hDownloading overrides-7.7.0-py3-none-any.whl (17 kB)\n",
            "Downloading posthog-3.5.0-py2.py3-none-any.whl (41 kB)\n",
            "\u001b[2K   \u001b[90m━━━━━━━━━━━━━━━━━━━━━━━━━━━━━━━━━━━━━━━━\u001b[0m \u001b[32m41.3/41.3 kB\u001b[0m \u001b[31m3.1 MB/s\u001b[0m eta \u001b[36m0:00:00\u001b[0m\n",
            "\u001b[?25hDownloading uvicorn-0.30.3-py3-none-any.whl (62 kB)\n",
            "\u001b[2K   \u001b[90m━━━━━━━━━━━━━━━━━━━━━━━━━━━━━━━━━━━━━━━━\u001b[0m \u001b[32m62.8/62.8 kB\u001b[0m \u001b[31m5.9 MB/s\u001b[0m eta \u001b[36m0:00:00\u001b[0m\n",
            "\u001b[?25hDownloading backoff-2.2.1-py3-none-any.whl (15 kB)\n",
            "Downloading Deprecated-1.2.14-py2.py3-none-any.whl (9.6 kB)\n",
            "Downloading email_validator-2.2.0-py3-none-any.whl (33 kB)\n",
            "Downloading fastapi_cli-0.0.4-py3-none-any.whl (9.5 kB)\n",
            "Downloading h11-0.14.0-py3-none-any.whl (58 kB)\n",
            "\u001b[2K   \u001b[90m━━━━━━━━━━━━━━━━━━━━━━━━━━━━━━━━━━━━━━━━\u001b[0m \u001b[32m58.3/58.3 kB\u001b[0m \u001b[31m5.2 MB/s\u001b[0m eta \u001b[36m0:00:00\u001b[0m\n",
            "\u001b[?25hDownloading httptools-0.6.1-cp310-cp310-manylinux_2_5_x86_64.manylinux1_x86_64.manylinux_2_17_x86_64.manylinux2014_x86_64.whl (341 kB)\n",
            "\u001b[2K   \u001b[90m━━━━━━━━━━━━━━━━━━━━━━━━━━━━━━━━━━━━━━━━\u001b[0m \u001b[32m341.4/341.4 kB\u001b[0m \u001b[31m25.2 MB/s\u001b[0m eta \u001b[36m0:00:00\u001b[0m\n",
            "\u001b[?25hDownloading monotonic-1.6-py2.py3-none-any.whl (8.2 kB)\n",
            "Downloading python_dotenv-1.0.1-py3-none-any.whl (19 kB)\n",
            "Downloading python_multipart-0.0.9-py3-none-any.whl (22 kB)\n",
            "Downloading starlette-0.37.2-py3-none-any.whl (71 kB)\n",
            "\u001b[2K   \u001b[90m━━━━━━━━━━━━━━━━━━━━━━━━━━━━━━━━━━━━━━━━\u001b[0m \u001b[32m71.9/71.9 kB\u001b[0m \u001b[31m5.6 MB/s\u001b[0m eta \u001b[36m0:00:00\u001b[0m\n",
            "\u001b[?25hDownloading uvloop-0.19.0-cp310-cp310-manylinux_2_17_x86_64.manylinux2014_x86_64.whl (3.4 MB)\n",
            "\u001b[2K   \u001b[90m━━━━━━━━━━━━━━━━━━━━━━━━━━━━━━━━━━━━━━━━\u001b[0m \u001b[32m3.4/3.4 MB\u001b[0m \u001b[31m68.4 MB/s\u001b[0m eta \u001b[36m0:00:00\u001b[0m\n",
            "\u001b[?25hDownloading watchfiles-0.22.0-cp310-cp310-manylinux_2_17_x86_64.manylinux2014_x86_64.whl (1.2 MB)\n",
            "\u001b[2K   \u001b[90m━━━━━━━━━━━━━━━━━━━━━━━━━━━━━━━━━━━━━━━━\u001b[0m \u001b[32m1.2/1.2 MB\u001b[0m \u001b[31m56.4 MB/s\u001b[0m eta \u001b[36m0:00:00\u001b[0m\n",
            "\u001b[?25hDownloading websockets-12.0-cp310-cp310-manylinux_2_5_x86_64.manylinux1_x86_64.manylinux_2_17_x86_64.manylinux2014_x86_64.whl (130 kB)\n",
            "\u001b[2K   \u001b[90m━━━━━━━━━━━━━━━━━━━━━━━━━━━━━━━━━━━━━━━━\u001b[0m \u001b[32m130.2/130.2 kB\u001b[0m \u001b[31m10.8 MB/s\u001b[0m eta \u001b[36m0:00:00\u001b[0m\n",
            "\u001b[?25hDownloading coloredlogs-15.0.1-py2.py3-none-any.whl (46 kB)\n",
            "\u001b[2K   \u001b[90m━━━━━━━━━━━━━━━━━━━━━━━━━━━━━━━━━━━━━━━━\u001b[0m \u001b[32m46.0/46.0 kB\u001b[0m \u001b[31m3.6 MB/s\u001b[0m eta \u001b[36m0:00:00\u001b[0m\n",
            "\u001b[?25hDownloading nvidia_nvjitlink_cu12-12.5.82-py3-none-manylinux2014_x86_64.whl (21.3 MB)\n",
            "\u001b[2K   \u001b[90m━━━━━━━━━━━━━━━━━━━━━━━━━━━━━━━━━━━━━━━━\u001b[0m \u001b[32m21.3/21.3 MB\u001b[0m \u001b[31m75.0 MB/s\u001b[0m eta \u001b[36m0:00:00\u001b[0m\n",
            "\u001b[?25hDownloading asgiref-3.8.1-py3-none-any.whl (23 kB)\n",
            "Downloading dnspython-2.6.1-py3-none-any.whl (307 kB)\n",
            "\u001b[2K   \u001b[90m━━━━━━━━━━━━━━━━━━━━━━━━━━━━━━━━━━━━━━━━\u001b[0m \u001b[32m307.7/307.7 kB\u001b[0m \u001b[31m15.6 MB/s\u001b[0m eta \u001b[36m0:00:00\u001b[0m\n",
            "\u001b[?25hDownloading humanfriendly-10.0-py2.py3-none-any.whl (86 kB)\n",
            "\u001b[2K   \u001b[90m━━━━━━━━━━━━━━━━━━━━━━━━━━━━━━━━━━━━━━━━\u001b[0m \u001b[32m86.8/86.8 kB\u001b[0m \u001b[31m6.2 MB/s\u001b[0m eta \u001b[36m0:00:00\u001b[0m\n",
            "\u001b[?25hBuilding wheels for collected packages: pypika\n",
            "  Building wheel for pypika (pyproject.toml) ... \u001b[?25l\u001b[?25hdone\n",
            "  Created wheel for pypika: filename=PyPika-0.48.9-py2.py3-none-any.whl size=53724 sha256=459aa16b37e7aad0d1e19b3913f0306cc6a766e85ec2ca24ada96450de6d9bc0\n",
            "  Stored in directory: /root/.cache/pip/wheels/e1/26/51/d0bffb3d2fd82256676d7ad3003faea3bd6dddc9577af665f4\n",
            "Successfully built pypika\n",
            "Installing collected packages: pypika, monotonic, mmh3, websockets, uvloop, python-multipart, python-dotenv, overrides, orjson, opentelemetry-util-http, opentelemetry-proto, nvidia-nvtx-cu12, nvidia-nvjitlink-cu12, nvidia-nccl-cu12, nvidia-curand-cu12, nvidia-cufft-cu12, nvidia-cuda-runtime-cu12, nvidia-cuda-nvrtc-cu12, nvidia-cuda-cupti-cu12, nvidia-cublas-cu12, humanfriendly, httptools, h11, dnspython, deprecated, chroma-hnswlib, bcrypt, backoff, asgiref, watchfiles, uvicorn, starlette, posthog, opentelemetry-exporter-otlp-proto-common, opentelemetry-api, nvidia-cusparse-cu12, nvidia-cudnn-cu12, httpcore, email_validator, coloredlogs, opentelemetry-semantic-conventions, opentelemetry-instrumentation, onnxruntime, nvidia-cusolver-cu12, kubernetes, httpx, opentelemetry-sdk, opentelemetry-instrumentation-asgi, fastapi-cli, opentelemetry-instrumentation-fastapi, opentelemetry-exporter-otlp-proto-grpc, fastapi, chromadb\n",
            "Successfully installed asgiref-3.8.1 backoff-2.2.1 bcrypt-4.2.0 chroma-hnswlib-0.7.6 chromadb-0.5.5 coloredlogs-15.0.1 deprecated-1.2.14 dnspython-2.6.1 email_validator-2.2.0 fastapi-0.111.1 fastapi-cli-0.0.4 h11-0.14.0 httpcore-1.0.5 httptools-0.6.1 httpx-0.27.0 humanfriendly-10.0 kubernetes-30.1.0 mmh3-4.1.0 monotonic-1.6 nvidia-cublas-cu12-12.1.3.1 nvidia-cuda-cupti-cu12-12.1.105 nvidia-cuda-nvrtc-cu12-12.1.105 nvidia-cuda-runtime-cu12-12.1.105 nvidia-cudnn-cu12-8.9.2.26 nvidia-cufft-cu12-11.0.2.54 nvidia-curand-cu12-10.3.2.106 nvidia-cusolver-cu12-11.4.5.107 nvidia-cusparse-cu12-12.1.0.106 nvidia-nccl-cu12-2.20.5 nvidia-nvjitlink-cu12-12.5.82 nvidia-nvtx-cu12-12.1.105 onnxruntime-1.18.1 opentelemetry-api-1.26.0 opentelemetry-exporter-otlp-proto-common-1.26.0 opentelemetry-exporter-otlp-proto-grpc-1.26.0 opentelemetry-instrumentation-0.47b0 opentelemetry-instrumentation-asgi-0.47b0 opentelemetry-instrumentation-fastapi-0.47b0 opentelemetry-proto-1.26.0 opentelemetry-sdk-1.26.0 opentelemetry-semantic-conventions-0.47b0 opentelemetry-util-http-0.47b0 orjson-3.10.6 overrides-7.7.0 posthog-3.5.0 pypika-0.48.9 python-dotenv-1.0.1 python-multipart-0.0.9 starlette-0.37.2 uvicorn-0.30.3 uvloop-0.19.0 watchfiles-0.22.0 websockets-12.0\n"
          ]
        }
      ],
      "source": [
        "!pip install transformers torch chromadb"
      ]
    },
    {
      "cell_type": "code",
      "execution_count": null,
      "metadata": {
        "id": "LmykIfdBLSNl"
      },
      "outputs": [],
      "source": [
        "import requests\n",
        "from bs4 import BeautifulSoup\n",
        "from transformers import AutoTokenizer, AutoModel\n",
        "import torch\n",
        "import chromadb"
      ]
    },
    {
      "cell_type": "code",
      "execution_count": null,
      "metadata": {
        "id": "HsFYOBt8Ki-w"
      },
      "outputs": [],
      "source": [
        "def extract_news_data():\n",
        "    url = \"https://www.tecmundo.com.br/tecnologia\"\n",
        "    response = requests.get(url)\n",
        "\n",
        "    soup = BeautifulSoup(response.text, \"html.parser\")\n",
        "\n",
        "    list_items = soup.find_all(\"div\", class_=\"tec--list__item\")\n",
        "\n",
        "    titles = []\n",
        "    links = []\n",
        "    contents = []\n",
        "    articles = []\n",
        "\n",
        "    # Obtendo títulos e links\n",
        "    for item in list_items[:5]:\n",
        "        title = item.find(\"h4\", class_=\"tec--card__title\")\n",
        "        link = item.find(\"a\", class_=\"tec--card__title__link\")\n",
        "\n",
        "        if title and link:\n",
        "            titles.append(title.get_text(strip=True))\n",
        "            links.append(link['href'])\n",
        "\n",
        "    # Obtendo conteúdo dos links\n",
        "    for link in links:\n",
        "        response = requests.get(link)\n",
        "        new_soup = BeautifulSoup(response.text, \"html.parser\")\n",
        "\n",
        "        paragraphs = new_soup.find_all('p')\n",
        "        article_text = '\\n'.join([p.get_text().strip() for p in paragraphs if p.get_text().strip()])\n",
        "\n",
        "        contents.append(article_text)\n",
        "\n",
        "    # Criando lista de listas\n",
        "    for i in range(len(titles)):\n",
        "        articles.append([titles[i], links[i], contents[i]])\n",
        "\n",
        "    return articles"
      ]
    },
    {
      "cell_type": "code",
      "execution_count": null,
      "metadata": {
        "id": "EuRjc2iWKqn1"
      },
      "outputs": [],
      "source": [
        "def tokenize_articles(articles):\n",
        "    tokenizer = AutoTokenizer.from_pretrained(\"sentence-transformers/LaBSE\")\n",
        "    model = AutoModel.from_pretrained(\"sentence-transformers/LaBSE\")\n",
        "\n",
        "    tokens = []\n",
        "    for article in articles:\n",
        "        inputs = tokenizer(article[2], return_tensors=\"pt\", truncation=True, padding=True)\n",
        "        with torch.no_grad():\n",
        "            outputs = model(**inputs)\n",
        "        tokens.append(outputs.last_hidden_state.mean(dim=1).squeeze().tolist())\n",
        "\n",
        "    return tokens"
      ]
    },
    {
      "cell_type": "code",
      "execution_count": null,
      "metadata": {
        "id": "USWGNSYsLMRS"
      },
      "outputs": [],
      "source": [
        "def index_with_chroma(articles, tokens):\n",
        "    client = chromadb.Client()\n",
        "\n",
        "    # Criando uma nova coleção\n",
        "    try:\n",
        "      collection = client.create_collection(name=\"news_articles\")\n",
        "    except:\n",
        "      collection = client.get_collection(name=\"news_articles\")\n",
        "\n",
        "    # Adicionando documentos à coleção\n",
        "    collection.add(\n",
        "        ids=[str(i) for i, _ in enumerate(articles)],\n",
        "        documents=[article for _, _, article in articles],\n",
        "        metadatas=[{\"metadata\": metadata} for _, metadata, _ in articles]\n",
        "    )\n",
        "\n",
        "    return collection"
      ]
    },
    {
      "cell_type": "markdown",
      "source": [
        "# **Retriever**"
      ],
      "metadata": {
        "id": "VqDH-GQESp8W"
      }
    },
    {
      "cell_type": "code",
      "source": [
        "articles = extract_news_data()"
      ],
      "metadata": {
        "id": "Oyp8Bng7P3sW"
      },
      "execution_count": null,
      "outputs": []
    },
    {
      "cell_type": "code",
      "source": [
        "tokens = tokenize_articles(articles)"
      ],
      "metadata": {
        "id": "SPwap4dWQG0n",
        "colab": {
          "base_uri": "https://localhost:8080/",
          "height": 313,
          "referenced_widgets": [
            "843774f8dab24a84bf92b83e518ebfc2",
            "86a00de3e325430fa91bdd3f537edd06",
            "9e5e0f36f15543b6ac68f7c4227e0db3",
            "d55b363f1e144b788a441d917344a367",
            "8ed7f84d4af04edd8d3434c64c21f1ee",
            "4a2528935ff84914a1829a46fc7bc81f",
            "5cd582a5771d4d91ae8d3168bd40b350",
            "ccdce7f266db43d88ec15e27ad1bebf4",
            "780b24f7bd6641a59cde869df459c986",
            "74f5eb3820f44af19c50745ffb22180b",
            "26fb4873f13243a3a526b632fc17d6ae",
            "d58ce165ab4b4a878df0490f71e4483e",
            "3704ef191ac74a34be2f40ec506b6360",
            "3347d69852b8405183eccbd1596266e0",
            "8af52951ac934433bcd5fdebf7d749fe",
            "a5e8cdf943a0481abcb27f50ca33c4bc",
            "0da6cf3198324168a0102091502436e5",
            "4b51481dba4f44398b52351eb806343e",
            "556492d2b3e04747889947e276de74c5",
            "6beced939f494c8890413f9ffacfa61f",
            "c44e1d1b01a9426bb3259d3cf8f0474d",
            "cda5b346f0d44a26bef75c7a7f3bddfd",
            "157724d67c8b47479a07f3a2057fa0c4",
            "de3f0cc8a38a40a6a7115428c2fa8fb0",
            "84a3de39af5d4a64993e706038996c08",
            "71a65974842749369cd89e4bf15283c7",
            "df47d10d38b343b6b3edcc3f7205c44b",
            "77b818d1dc6d4d77846f31916d11a381",
            "58e40b68dd3d4d998e31a638568f9ce3",
            "fd4e15f1118044dcbc59a8863ca39395",
            "b3c6e7961e01407199f22ef90db3ef22",
            "463c88526f5f44ff8d01d4cc3509e793",
            "181c70560dca4081b33f725c46c3bb81",
            "f9d4763fcb5049708ed1cf6b0a425236",
            "0fe2195e85de45769036cdb07b34f92f",
            "177993a31dde46308f740400438e9d67",
            "02d4344bfaf94032be3e87801c65ab9c",
            "6415d77e4920442bb44b8ae1fbb7eb2f",
            "e41c5d7986f440a89887659a06ca172a",
            "56e00f32471f4151964eb70ef0e8b526",
            "12e0ac8ed77d478083f75e4f84412012",
            "3d17297a266e4ba7a24cccca403ed51f",
            "f913c06c10954a15bf623878f5cb71c0",
            "985e72fe248a4bf8ba9f025f3d8b31ae",
            "ce51238a3e1f4e0f9fab169ee77fa723",
            "f9922952ae24499cbdb9cd8239cf9af5",
            "5aee9cc189c94950a6938d23269ba7ee",
            "a32254567b4a43c8b127f73427ab6a62",
            "72fba391b44842e7bebfd8ffbe513e1e",
            "a1b0086f10e443aba6df3a1aebdfea5d",
            "a4bebd554db747b98c0250999926c1e5",
            "79fec09858c24570984f26438ed6f845",
            "b80b00cf2b1248da8bbdf9d427f39805",
            "01c78cff57ac44c990823d85fece336e",
            "f8e372817d1a47488747741d147c1756",
            "1060fe9e00a5498baa79acf4512afcc3",
            "c80cc45b3ddf4a3abbe08cdec585920c",
            "7403ac3336824057ac874e284ab12158",
            "e2e5ccd8cb164c68a7f5920c3a5b37ee",
            "fd5ae66c57164434ac9dd93c6c4e737d",
            "ee2e33018bca4c6caa4136a3c2e606e5",
            "7fdd2963642c409cbcd3b84cf0464d34",
            "b739ee0dccc948e3a3f39572d1458ef2",
            "5a67b1c4987d46d498ee4f45700e3861",
            "0e80cc7e6a1540608fc3aec90e483e6d",
            "d541ceba7d0d4b9f8449af08bc7366a9"
          ]
        },
        "outputId": "2be4f267-753f-4433-fc86-3ec20658a75e"
      },
      "execution_count": null,
      "outputs": [
        {
          "output_type": "stream",
          "name": "stderr",
          "text": [
            "/usr/local/lib/python3.10/dist-packages/huggingface_hub/utils/_token.py:89: UserWarning: \n",
            "The secret `HF_TOKEN` does not exist in your Colab secrets.\n",
            "To authenticate with the Hugging Face Hub, create a token in your settings tab (https://huggingface.co/settings/tokens), set it as secret in your Google Colab and restart your session.\n",
            "You will be able to reuse this secret in all of your notebooks.\n",
            "Please note that authentication is recommended but still optional to access public models or datasets.\n",
            "  warnings.warn(\n"
          ]
        },
        {
          "output_type": "display_data",
          "data": {
            "text/plain": [
              "tokenizer_config.json:   0%|          | 0.00/397 [00:00<?, ?B/s]"
            ],
            "application/vnd.jupyter.widget-view+json": {
              "version_major": 2,
              "version_minor": 0,
              "model_id": "843774f8dab24a84bf92b83e518ebfc2"
            }
          },
          "metadata": {}
        },
        {
          "output_type": "display_data",
          "data": {
            "text/plain": [
              "config.json:   0%|          | 0.00/804 [00:00<?, ?B/s]"
            ],
            "application/vnd.jupyter.widget-view+json": {
              "version_major": 2,
              "version_minor": 0,
              "model_id": "d58ce165ab4b4a878df0490f71e4483e"
            }
          },
          "metadata": {}
        },
        {
          "output_type": "display_data",
          "data": {
            "text/plain": [
              "vocab.txt:   0%|          | 0.00/5.22M [00:00<?, ?B/s]"
            ],
            "application/vnd.jupyter.widget-view+json": {
              "version_major": 2,
              "version_minor": 0,
              "model_id": "157724d67c8b47479a07f3a2057fa0c4"
            }
          },
          "metadata": {}
        },
        {
          "output_type": "display_data",
          "data": {
            "text/plain": [
              "tokenizer.json:   0%|          | 0.00/9.62M [00:00<?, ?B/s]"
            ],
            "application/vnd.jupyter.widget-view+json": {
              "version_major": 2,
              "version_minor": 0,
              "model_id": "f9d4763fcb5049708ed1cf6b0a425236"
            }
          },
          "metadata": {}
        },
        {
          "output_type": "display_data",
          "data": {
            "text/plain": [
              "special_tokens_map.json:   0%|          | 0.00/112 [00:00<?, ?B/s]"
            ],
            "application/vnd.jupyter.widget-view+json": {
              "version_major": 2,
              "version_minor": 0,
              "model_id": "ce51238a3e1f4e0f9fab169ee77fa723"
            }
          },
          "metadata": {}
        },
        {
          "output_type": "display_data",
          "data": {
            "text/plain": [
              "pytorch_model.bin:   0%|          | 0.00/1.88G [00:00<?, ?B/s]"
            ],
            "application/vnd.jupyter.widget-view+json": {
              "version_major": 2,
              "version_minor": 0,
              "model_id": "1060fe9e00a5498baa79acf4512afcc3"
            }
          },
          "metadata": {}
        }
      ]
    },
    {
      "cell_type": "code",
      "source": [
        "collection = index_with_chroma(articles, tokens)"
      ],
      "metadata": {
        "id": "P-pCbiE3QLfU",
        "colab": {
          "base_uri": "https://localhost:8080/"
        },
        "outputId": "2cebb311-2f21-496c-dae2-cb4db560cd0f"
      },
      "execution_count": null,
      "outputs": [
        {
          "output_type": "stream",
          "name": "stderr",
          "text": [
            "/root/.cache/chroma/onnx_models/all-MiniLM-L6-v2/onnx.tar.gz: 100%|██████████| 79.3M/79.3M [00:00<00:00, 101MiB/s] \n"
          ]
        }
      ]
    },
    {
      "cell_type": "code",
      "source": [
        "results = collection.query(\n",
        "    query_texts=[\"futebol e no basquete\"],\n",
        "    n_results=1\n",
        ")\n",
        "print(results)"
      ],
      "metadata": {
        "colab": {
          "base_uri": "https://localhost:8080/"
        },
        "id": "Ex-zowCCSGkm",
        "outputId": "7efdf7ec-b4d8-40ba-9811-5c5fec92e686"
      },
      "execution_count": null,
      "outputs": [
        {
          "output_type": "stream",
          "name": "stdout",
          "text": [
            "{'ids': [['2']], 'distances': [[1.3226877450942993]], 'metadatas': [[{'metadata': 'https://www.tecmundo.com.br/mercado/287342-startup-criou-aparelho-ajudar-pessoas-surdas-ganha-financiamento.htm'}]], 'embeddings': None, 'documents': [['Nilton Kleina\\nvia nexperts\\nUma startup criada com um propósito bastante pessoal está se destacando no campo da acessibilidade. Trata-se da Speaksee, uma pequena companhia fundada em 2017 nos Países Baixos que tenta melhorar a comunicação de pessoas com surdez.\\nA Speaksee é tida como o primeiro sistema de microfone do mundo que converte conversas em texto, incluindo interações em grupo. Basicamente, ela funciona com base em um conjunto de microfones, que transcreve o áudio para um aplicativo no celular.\\nAssine já o The BRIEF, a newsletter diária que te deixa por dentro de tudo\\nO dispositivo criado pela startup. (Imagem: Speaksee/Divulgação)Fonte: \\xa0Speaksee\\nA startup foi criada por Jari Hazelebach para ajudar os próprios pais, que são surdos e reclamavam que não havia um sistema de conversão de áudio para texto que fosse ao mesmo tempo rápido e preciso.\\nA novidade é que Jari anunciou um financiamento de US$ 1 milhão para a companhia. O dinheiro será usado para escalar os negócios em termos de território e tecnologia, chegando a mais países da Europa.\\nAlém disso, o projeto conseguiu aprovação em fundos governamentais dos Países Baixos e no Reino Unido. Com essa verba, ele pode ser usado por funcionários públicos e estudantes, ajudando a atingir ainda mais pessoas.\\nA plataforma utiliza inteligência artificial (IA) no sistema para gerar os textos em tempo real, que são como legendas automáticas. Elas são separadas por balões em diferentes cores, cada uma representando um dos participantes da conversa.\\nOs microfones da Speaksee usam uma tecnologia de direcionamento para isolar ruídos que não sejam a voz de quem está usando o acessório. Até por isso, cada participante precisa usar o seu próprio microfone de lapela, que pode ser preso na roupa.\\nO software em funcionamento em chamadas de vídeo. (Imagem: Speaksee/Divulgação)Fonte: \\xa0Speaksee\\nO programa também pode ser usado separadamente, a partir de videoconferências. Segundo a companhia, todo o conteúdo convertido para texto é protegido por criptografia a nível de software e hardware para garantir a privacidade dos usuários.\\nAtualmente, o sistema suporta 40 idiomas e até três microfones de uma vez. Com o novo investimento, a ideia é triplicar a quantidade máxima de pessoas em uma interação.\\nAssine já o The BRIEF, a newsletter diária que te deixa por dentro de tudo\\nFontes\\nCategorias\\nPUBLICIDADE\\n© COPYRIGHT 2024 - NO ZEBRA NETWORK S.A. TODOS OS DIREITOS RESERVADOS.']], 'uris': None, 'data': None, 'included': ['metadatas', 'documents', 'distances']}\n"
          ]
        }
      ]
    },
    {
      "cell_type": "code",
      "source": [
        "len(articles)"
      ],
      "metadata": {
        "colab": {
          "base_uri": "https://localhost:8080/"
        },
        "id": "w80hWz6f9d1v",
        "outputId": "f7d6bcdb-ab48-443e-bcd0-aeb7e5028663"
      },
      "execution_count": null,
      "outputs": [
        {
          "output_type": "execute_result",
          "data": {
            "text/plain": [
              "5"
            ]
          },
          "metadata": {},
          "execution_count": 19
        }
      ]
    },
    {
      "cell_type": "code",
      "source": [
        "articles[0]"
      ],
      "metadata": {
        "colab": {
          "base_uri": "https://localhost:8080/"
        },
        "id": "GAaQkqfi9ZV8",
        "outputId": "76d140a5-ccbc-4fce-aa0a-fb99931f508b"
      },
      "execution_count": null,
      "outputs": [
        {
          "output_type": "execute_result",
          "data": {
            "text/plain": [
              "['Tecnologia da Informação: 5 profissões do futuro para quem está entrando na universidade',\n",
              " 'https://www.tecmundo.com.br/mercado/287366-tecnologia-informacao-5-profissoes-futuro-entrando-universidade.htm',\n",
              " 'Equipe TecMundo\\nA área de Tecnologia da Informação (TI) tem alta demanda e potencial de crescimento num mundo em constante evolução. De acordo com o LinkedIn, as 25 profissões mais promissoras para 2024 exigem habilidades em inovação e análise de dados. Profissionais com conhecimento em TI podem ter sucesso em áreas diversas, como Business\\xa0Intelligence\\xa0(BI), Big Data e Análise de Dados, além de tecnologias emergentes, como Inteligência das Coisas (IoT), Realidade Virtual (VR) e Realidade Aumentada (AR).\\nOu seja: as possibilidades para quem quer investir nas carreiras em tecnologia são inúmeras. Selecionamos aqui cinco opções que são ótimas apostas para quem vai entrar na universidade agora. Confira!\\nO que faz um cientista de dados? Ele é responsável por coletar, organizar e analisar conjuntos de dados que ajudam na tomada de decisões estratégicas em diversos setores de uma empresa. A carreira é promissora porque as empresas têm reconhecido, cada vez mais, a importância das decisões baseadas em dados, visto que abrem caminho para novas soluções, garantem a economia de recursos e impulsionam os negócios.\\nO curso de Análise e Desenvolvimento de Sistemas prepara o profissional para atuar com análise de mercado, Inteligência Artificial e\\xa0machine learning, por exemplo.\\nCriar, projetar, testar e implementar\\xa0softwares\\xa0para diversos sistemas, desde aplicativos\\xa0mobile\\xa0a\\xa0websites\\xa0complexos, basicamente, é isso o que faz um desenvolvedor de\\xa0software. A carreira é promissora, justamente por ser indispensável à inovação de diferentes áreas. Profissionais desenvolvedores são responsáveis por identificar as necessidades do negócio e construir aplicativos que apoiem as metas e objetivos das empresas.\\nPara estudar Engenharia de\\xa0Software\\xa0e atuar como desenvolvedor, é possível apostar em uma graduação ou em um mestrado.\\nUm engenheiro de Inteligência Artificial (IA) projeta, desenvolve e implementa sistemas inteligentes que simulam a capacidade humana de raciocinar, aprender e tomar decisões. Com as ferramentas de IA se tornando cada vez mais comuns em empresas de diferentes setores para automatizar processos e garantir agilidade e precisão, o investimento nessa carreira acaba sendo uma boa opção para o futuro.\\nO curso de Ciência da Computação é a escolha certa para quem quer desenvolver o conhecimento em tecnologias disruptivas.\\nSe existe cada vez mais espaço de atuação para um cientista de dados, também há necessidade de se investir em segurança para eles. É aí que o especialista em segurança cibernética entra: ele protege sistemas, redes e dados\\xa0contra ataques\\xa0diversos, garantindo a confidencialidade, integridade e disponibilidade das informações.\\nPara essa carreira, uma graduação e/ou pós-graduação em Sistemas da Informação são a melhor escolha. Os cursos ajudam a desenvolver habilidades em programação, algoritmos, redes e sistemas operacionais fundamentais para a segurança cibernética.\\nCom o aumento de carreiras e recursos em tecnologia, torna-se necessário haver um profissional responsável pela conexão entre eles. O gestor de TI planeja, organiza e dirige os recursos tecnológicos de uma empresa, garantindo que eles funcionem de forma eficiente e segura para atender às necessidades do negócio. Ele atua na implementação de medidas em diferentes áreas, que vão desde segurança e políticas à conformidade regulatória. Também está no escopo do gestor de TI a identificação e implementação de novas tecnologias que podem melhorar os processos das empresas.\\nNeste caso, o curso escolhido deve ser o de Gestão da Tecnologia da Informação, que aprofunda o conhecimento do aluno nessas tecnologias, em comunicação, práticas de gestão, metodologias ágeis e gestão de riscos.\\nAinda quer investir em uma carreira em tecnologia, mas não encontrou o curso ideal? Dê uma olhada nas\\xa0opções do catálogo da UNIP. Entre os mais de 200 cursos disponíveis, algum certamente irá atender às suas expectativas!\\nCategorias\\n© COPYRIGHT 2024 - NO ZEBRA NETWORK S.A. TODOS OS DIREITOS RESERVADOS.']"
            ]
          },
          "metadata": {},
          "execution_count": 20
        }
      ]
    },
    {
      "cell_type": "markdown",
      "source": [
        "# **Classificação**"
      ],
      "metadata": {
        "id": "lG6QCmS4S6E6"
      }
    },
    {
      "cell_type": "code",
      "source": [
        "from google.colab import userdata\n",
        "GROQ_KEY = userdata.get('GROQ_API_KEY')"
      ],
      "metadata": {
        "id": "_6HJv9H6hLMN"
      },
      "execution_count": null,
      "outputs": []
    },
    {
      "cell_type": "code",
      "source": [
        "!pip install langchain langchain_community"
      ],
      "metadata": {
        "id": "-whfvTtghLMP",
        "colab": {
          "base_uri": "https://localhost:8080/"
        },
        "collapsed": true,
        "outputId": "43864ee1-bf69-415b-9cf7-cbfd1c637efb"
      },
      "execution_count": null,
      "outputs": [
        {
          "output_type": "stream",
          "name": "stdout",
          "text": [
            "Collecting langchain\n",
            "  Downloading langchain-0.2.11-py3-none-any.whl.metadata (7.1 kB)\n",
            "Collecting langchain_community\n",
            "  Downloading langchain_community-0.2.10-py3-none-any.whl.metadata (2.7 kB)\n",
            "Requirement already satisfied: PyYAML>=5.3 in /usr/local/lib/python3.10/dist-packages (from langchain) (6.0.1)\n",
            "Requirement already satisfied: SQLAlchemy<3,>=1.4 in /usr/local/lib/python3.10/dist-packages (from langchain) (2.0.31)\n",
            "Requirement already satisfied: aiohttp<4.0.0,>=3.8.3 in /usr/local/lib/python3.10/dist-packages (from langchain) (3.9.5)\n",
            "Requirement already satisfied: async-timeout<5.0.0,>=4.0.0 in /usr/local/lib/python3.10/dist-packages (from langchain) (4.0.3)\n",
            "Collecting langchain-core<0.3.0,>=0.2.23 (from langchain)\n",
            "  Downloading langchain_core-0.2.23-py3-none-any.whl.metadata (6.2 kB)\n",
            "Collecting langchain-text-splitters<0.3.0,>=0.2.0 (from langchain)\n",
            "  Downloading langchain_text_splitters-0.2.2-py3-none-any.whl.metadata (2.1 kB)\n",
            "Collecting langsmith<0.2.0,>=0.1.17 (from langchain)\n",
            "  Downloading langsmith-0.1.93-py3-none-any.whl.metadata (13 kB)\n",
            "Requirement already satisfied: numpy<2,>=1 in /usr/local/lib/python3.10/dist-packages (from langchain) (1.25.2)\n",
            "Requirement already satisfied: pydantic<3,>=1 in /usr/local/lib/python3.10/dist-packages (from langchain) (2.8.2)\n",
            "Requirement already satisfied: requests<3,>=2 in /usr/local/lib/python3.10/dist-packages (from langchain) (2.31.0)\n",
            "Requirement already satisfied: tenacity!=8.4.0,<9.0.0,>=8.1.0 in /usr/local/lib/python3.10/dist-packages (from langchain) (8.5.0)\n",
            "Collecting dataclasses-json<0.7,>=0.5.7 (from langchain_community)\n",
            "  Downloading dataclasses_json-0.6.7-py3-none-any.whl.metadata (25 kB)\n",
            "Requirement already satisfied: aiosignal>=1.1.2 in /usr/local/lib/python3.10/dist-packages (from aiohttp<4.0.0,>=3.8.3->langchain) (1.3.1)\n",
            "Requirement already satisfied: attrs>=17.3.0 in /usr/local/lib/python3.10/dist-packages (from aiohttp<4.0.0,>=3.8.3->langchain) (23.2.0)\n",
            "Requirement already satisfied: frozenlist>=1.1.1 in /usr/local/lib/python3.10/dist-packages (from aiohttp<4.0.0,>=3.8.3->langchain) (1.4.1)\n",
            "Requirement already satisfied: multidict<7.0,>=4.5 in /usr/local/lib/python3.10/dist-packages (from aiohttp<4.0.0,>=3.8.3->langchain) (6.0.5)\n",
            "Requirement already satisfied: yarl<2.0,>=1.0 in /usr/local/lib/python3.10/dist-packages (from aiohttp<4.0.0,>=3.8.3->langchain) (1.9.4)\n",
            "Collecting marshmallow<4.0.0,>=3.18.0 (from dataclasses-json<0.7,>=0.5.7->langchain_community)\n",
            "  Downloading marshmallow-3.21.3-py3-none-any.whl.metadata (7.1 kB)\n",
            "Collecting typing-inspect<1,>=0.4.0 (from dataclasses-json<0.7,>=0.5.7->langchain_community)\n",
            "  Downloading typing_inspect-0.9.0-py3-none-any.whl.metadata (1.5 kB)\n",
            "Collecting jsonpatch<2.0,>=1.33 (from langchain-core<0.3.0,>=0.2.23->langchain)\n",
            "  Downloading jsonpatch-1.33-py2.py3-none-any.whl.metadata (3.0 kB)\n",
            "Requirement already satisfied: packaging<25,>=23.2 in /usr/local/lib/python3.10/dist-packages (from langchain-core<0.3.0,>=0.2.23->langchain) (24.1)\n",
            "Requirement already satisfied: orjson<4.0.0,>=3.9.14 in /usr/local/lib/python3.10/dist-packages (from langsmith<0.2.0,>=0.1.17->langchain) (3.10.6)\n",
            "Requirement already satisfied: annotated-types>=0.4.0 in /usr/local/lib/python3.10/dist-packages (from pydantic<3,>=1->langchain) (0.7.0)\n",
            "Requirement already satisfied: pydantic-core==2.20.1 in /usr/local/lib/python3.10/dist-packages (from pydantic<3,>=1->langchain) (2.20.1)\n",
            "Requirement already satisfied: typing-extensions>=4.6.1 in /usr/local/lib/python3.10/dist-packages (from pydantic<3,>=1->langchain) (4.12.2)\n",
            "Requirement already satisfied: charset-normalizer<4,>=2 in /usr/local/lib/python3.10/dist-packages (from requests<3,>=2->langchain) (3.3.2)\n",
            "Requirement already satisfied: idna<4,>=2.5 in /usr/local/lib/python3.10/dist-packages (from requests<3,>=2->langchain) (3.7)\n",
            "Requirement already satisfied: urllib3<3,>=1.21.1 in /usr/local/lib/python3.10/dist-packages (from requests<3,>=2->langchain) (2.0.7)\n",
            "Requirement already satisfied: certifi>=2017.4.17 in /usr/local/lib/python3.10/dist-packages (from requests<3,>=2->langchain) (2024.7.4)\n",
            "Requirement already satisfied: greenlet!=0.4.17 in /usr/local/lib/python3.10/dist-packages (from SQLAlchemy<3,>=1.4->langchain) (3.0.3)\n",
            "Collecting jsonpointer>=1.9 (from jsonpatch<2.0,>=1.33->langchain-core<0.3.0,>=0.2.23->langchain)\n",
            "  Downloading jsonpointer-3.0.0-py2.py3-none-any.whl.metadata (2.3 kB)\n",
            "Collecting mypy-extensions>=0.3.0 (from typing-inspect<1,>=0.4.0->dataclasses-json<0.7,>=0.5.7->langchain_community)\n",
            "  Downloading mypy_extensions-1.0.0-py3-none-any.whl.metadata (1.1 kB)\n",
            "Downloading langchain-0.2.11-py3-none-any.whl (990 kB)\n",
            "\u001b[2K   \u001b[90m━━━━━━━━━━━━━━━━━━━━━━━━━━━━━━━━━━━━━━━━\u001b[0m \u001b[32m990.3/990.3 kB\u001b[0m \u001b[31m40.8 MB/s\u001b[0m eta \u001b[36m0:00:00\u001b[0m\n",
            "\u001b[?25hDownloading langchain_community-0.2.10-py3-none-any.whl (2.3 MB)\n",
            "\u001b[2K   \u001b[90m━━━━━━━━━━━━━━━━━━━━━━━━━━━━━━━━━━━━━━━━\u001b[0m \u001b[32m2.3/2.3 MB\u001b[0m \u001b[31m79.8 MB/s\u001b[0m eta \u001b[36m0:00:00\u001b[0m\n",
            "\u001b[?25hDownloading dataclasses_json-0.6.7-py3-none-any.whl (28 kB)\n",
            "Downloading langchain_core-0.2.23-py3-none-any.whl (374 kB)\n",
            "\u001b[2K   \u001b[90m━━━━━━━━━━━━━━━━━━━━━━━━━━━━━━━━━━━━━━━━\u001b[0m \u001b[32m374.2/374.2 kB\u001b[0m \u001b[31m27.9 MB/s\u001b[0m eta \u001b[36m0:00:00\u001b[0m\n",
            "\u001b[?25hDownloading langchain_text_splitters-0.2.2-py3-none-any.whl (25 kB)\n",
            "Downloading langsmith-0.1.93-py3-none-any.whl (139 kB)\n",
            "\u001b[2K   \u001b[90m━━━━━━━━━━━━━━━━━━━━━━━━━━━━━━━━━━━━━━━━\u001b[0m \u001b[32m139.8/139.8 kB\u001b[0m \u001b[31m13.1 MB/s\u001b[0m eta \u001b[36m0:00:00\u001b[0m\n",
            "\u001b[?25hDownloading jsonpatch-1.33-py2.py3-none-any.whl (12 kB)\n",
            "Downloading marshmallow-3.21.3-py3-none-any.whl (49 kB)\n",
            "\u001b[2K   \u001b[90m━━━━━━━━━━━━━━━━━━━━━━━━━━━━━━━━━━━━━━━━\u001b[0m \u001b[32m49.2/49.2 kB\u001b[0m \u001b[31m4.3 MB/s\u001b[0m eta \u001b[36m0:00:00\u001b[0m\n",
            "\u001b[?25hDownloading typing_inspect-0.9.0-py3-none-any.whl (8.8 kB)\n",
            "Downloading jsonpointer-3.0.0-py2.py3-none-any.whl (7.6 kB)\n",
            "Downloading mypy_extensions-1.0.0-py3-none-any.whl (4.7 kB)\n",
            "Installing collected packages: mypy-extensions, marshmallow, jsonpointer, typing-inspect, jsonpatch, langsmith, dataclasses-json, langchain-core, langchain-text-splitters, langchain, langchain_community\n",
            "Successfully installed dataclasses-json-0.6.7 jsonpatch-1.33 jsonpointer-3.0.0 langchain-0.2.11 langchain-core-0.2.23 langchain-text-splitters-0.2.2 langchain_community-0.2.10 langsmith-0.1.93 marshmallow-3.21.3 mypy-extensions-1.0.0 typing-inspect-0.9.0\n"
          ]
        }
      ]
    },
    {
      "cell_type": "code",
      "source": [
        "!pip install -qU langchain-groq"
      ],
      "metadata": {
        "colab": {
          "base_uri": "https://localhost:8080/"
        },
        "outputId": "cab17056-4b0d-4171-cd02-71b763312930",
        "id": "LxFpD3_NhLMQ"
      },
      "execution_count": null,
      "outputs": [
        {
          "output_type": "stream",
          "name": "stdout",
          "text": [
            "\u001b[?25l   \u001b[90m━━━━━━━━━━━━━━━━━━━━━━━━━━━━━━━━━━━━━━━━\u001b[0m \u001b[32m0.0/103.5 kB\u001b[0m \u001b[31m?\u001b[0m eta \u001b[36m-:--:--\u001b[0m\r\u001b[2K   \u001b[90m━━━━━━━━━━━━━━━━━━━━━━━━━━━━━━━━━━━━━━━━\u001b[0m \u001b[32m103.5/103.5 kB\u001b[0m \u001b[31m6.8 MB/s\u001b[0m eta \u001b[36m0:00:00\u001b[0m\n",
            "\u001b[?25h"
          ]
        }
      ]
    },
    {
      "cell_type": "code",
      "source": [
        "from langchain_core.output_parsers import StrOutputParser\n",
        "from langchain_core.output_parsers import JsonOutputParser\n",
        "from langchain.prompts import ChatPromptTemplate\n",
        "from langchain.chat_models import ChatOpenAI\n",
        "from langchain import PromptTemplate, OpenAI, LLMChain\n",
        "from langchain_groq import ChatGroq\n",
        "\n",
        "llm = ChatGroq(\n",
        "    temperature=0,\n",
        "    model=\"llama3-8b-8192\",\n",
        "    api_key=GROQ_KEY\n",
        ")\n",
        "\n",
        "prompt = PromptTemplate(\n",
        "    template=\"\"\"\n",
        "    <|begin_of_text|><|start_header_id|>system<|end_header_id|>\n",
        "    Você é um agente brasileiro, que fala português, e realiza a classificação de notícias para serem vinculadas a\n",
        "    uma newsletter que será enviada ao email de usuários que assinam essa newsletter BiaNews.\n",
        "\n",
        "    Essas são as possíveis classificações que você pode dar para a notícia:\n",
        "\n",
        "    - Educação\n",
        "    - Saúde\n",
        "    - Economia\n",
        "    - Segurança\n",
        "    - Direito\n",
        "    - Política\n",
        "    - Ciência\n",
        "\n",
        "    Seu output deve ser uma das categorias possíveis ('Educação', 'Saúde', 'Economia', 'Segurança', 'Direito', 'Política', 'Ciência')\n",
        "    <|eot_id|><|start_header_id|>user<|end_header_id|>\n",
        "    ARTICLE: {article}\n",
        "    <|eot_id|>\n",
        "    <|start_header_id|>assistant<|end_header_id|>\n",
        "    \"\"\",\n",
        "    input_variables=[\"article\"]\n",
        ")\n",
        "\n",
        "email_category_generator = prompt | llm | StrOutputParser()\n",
        "article = articles[0]\n",
        "result = email_category_generator.invoke({\"article\": article})\n",
        "\n",
        "print(result)"
      ],
      "metadata": {
        "id": "K1q38cwQhLMQ",
        "colab": {
          "base_uri": "https://localhost:8080/"
        },
        "outputId": "57e7196a-961e-45ce-c41b-1a0b77dd1c44"
      },
      "execution_count": null,
      "outputs": [
        {
          "output_type": "stream",
          "name": "stdout",
          "text": [
            "Educação\n"
          ]
        }
      ]
    },
    {
      "cell_type": "markdown",
      "source": [
        "# **Sumarização**"
      ],
      "metadata": {
        "id": "xfcGdWAxTEg2"
      }
    },
    {
      "cell_type": "code",
      "source": [
        "from langchain.output_parsers import ResponseSchema, StructuredOutputParser\n",
        "from langchain.prompts import ChatPromptTemplate\n",
        "from langchain.chat_models import ChatOpenAI\n",
        "from langchain import PromptTemplate, OpenAI, LLMChain\n",
        "from langchain_groq import ChatGroq\n",
        "\n",
        "llm = ChatGroq(\n",
        "    temperature=0,\n",
        "    model=\"llama3-8b-8192\",\n",
        "    api_key=GROQ_KEY\n",
        ")\n",
        "\n",
        "sumarization_template = PromptTemplate(\n",
        "    template=\"\"\"\n",
        "    <|begin_of_text|><|start_header_id|>system<|end_header_id|>\n",
        "    Você é um agente brasileiro, que fala português, e realiza a sumarização de notícias para serem vinculadas a\n",
        "    uma newsletter que será enviada ao email de usuários que assinam essa newsletter.\n",
        "    Você deve se basear na CLASSIFICATION do artigo para fazer a sua sumarização, pois isso vai limitar\n",
        "    os pontos de enfase do sumário.\n",
        "    Pegue o ARTICLE abaixo\n",
        "    Pegue a CLASSIFICATION que o agente categorizador atribuiu\n",
        "    E escreva uma sumarização de maneira atenciosa e amigável.\n",
        "    Lembre-se de que você deve fazer o melhor resumo possível, pois a pessoa quer saber da notícia por completo, mas\n",
        "    sem ter que ler ela inteira, por isso ele assina a nossa Newsletter.\n",
        "\n",
        "            Baseie sua resposta na CLASSIFICATION do artigo para termos e palavras específicas.\n",
        "\n",
        "            Você nunca deve inventar informações que não tenham sido fornecidas no ARTICLE.\n",
        "            Sempre assine as saídas de maneira apropriada e com a assinatura de Newsletter BiaNews.\n",
        "            Nunca nomeie a Newsletter por outro nome, apenas BiaNews.\n",
        "\n",
        "            Retorne a resposta como um JSON com uma única chave 'sumarization' e sem premissas ou explicações.\n",
        "\n",
        "    <|eot_id|><|start_header_id|>user<|end_header_id|>\n",
        "    ARTICLE: {article}\n",
        "    CLASSIFICATION: {classification}\n",
        "    <|eot_id|>\n",
        "    <|start_header_id|>assistant<|end_header_id|>\n",
        "\"\"\",\n",
        "    input_variables=[\"article\",\"classification\"],\n",
        ")\n",
        "\n",
        "draft_writer_chain = sumarization_template | llm | JsonOutputParser()\n",
        "\n",
        "article = articles[4][2]\n",
        "classification = 'Ciência'\n",
        "\n",
        "print(draft_writer_chain.invoke({\"article\": article, \"classification\":classification}))"
      ],
      "metadata": {
        "id": "HUKCmgN4aPHh",
        "colab": {
          "base_uri": "https://localhost:8080/"
        },
        "outputId": "fd1a35ab-d981-4328-9e96-a22265505663"
      },
      "execution_count": null,
      "outputs": [
        {
          "output_type": "stream",
          "name": "stdout",
          "text": [
            "{'sumarization': \"Aqui estão as principais notícias da Ciência e Tecnologia da última segunda-feira (22). A NASA divulgou um estudo que aponta o Brasil como um dos 5 lugares inabitáveis da Terra em 50 anos. Além disso, a empresa BYD lançou uma versão de cinco lugares do carro Dolphin Mini por R$119.800. A Amazon também bateu recorde de vendas no Prime Day 2024 e revelou os itens mais comprados. A NASA e a SpaceX planejam destruir a Estação Espacial Internacional em junho. Outras notícias incluem a entrega errada de um Air Fryer com um lagarto na caixa, a Samsung lançando um acessório para celulares Android e a Aiwa apresentando uma TV à prova d'água.assinado, BiaNews\"}\n"
          ]
        }
      ]
    },
    {
      "cell_type": "markdown",
      "source": [
        "# **Rewriter**"
      ],
      "metadata": {
        "id": "8Kz5CH3uTN8M"
      }
    },
    {
      "cell_type": "code",
      "source": [
        "rewrite_router_prompt = PromptTemplate(\n",
        "    template=\"\"\"\n",
        "    <|begin_of_text|><|start_header_id|>system<|end_header_id|>\n",
        "    Você é especialista em avaliar o resumo de noticías do mundo da IA que são rascunhos para o\n",
        "    uma NewsLetter e decidir se eles precisam ser reescritos para ficarem melhores.\n",
        "\n",
        "    Use os seguintes critérios para decidir se o ARTICLE precisa ser reescrito:\n",
        "\n",
        "    Se a SUMARIZATION abordar todos os temas e assuntos que o ARTICLE contém, ele não precisará ser reescrito.\n",
        "    Se a SUMARIZATION abordar todas as preocupações do ARTICLE, ele não precisará ser reescrito.\n",
        "    Se a SUMARIZATION estiver faltando informações que o ARTICLE exige, ele precisará ser reescrito.\n",
        "\n",
        "    Fornecer uma opção binária “rewrite” (para precisar ser reescrito) ou “no_rewrite” (para não precisar ser reescrito) com base no ARTICLE e nos critérios.\n",
        "    Retornar um JSON com uma única chave “router_decision” e nenhuma premissa ou explicação.\n",
        "\n",
        "    <|eot_id|><|start_header_id|>user<|end_header_id|>\n",
        "    ARTICLE: {article}\n",
        "    CLASSIFICATION: {classification}\n",
        "    SUMARIZATION: {sumarization}\n",
        "    <|eot_id|>\n",
        "    <|start_header_id|>assistant<|end_header_id|>\n",
        "    \"\"\",\n",
        "    input_variables=[\"article\",\"classification\",\"sumarization\"],\n",
        ")\n",
        "\n",
        "rewrite_router = rewrite_router_prompt | llm | JsonOutputParser()\n",
        "article = articles[4][2]\n",
        "classification = 'Ciência'\n",
        "sumarization = 'A tecnologia está revolucionando a previsão de resultados em esportes, especialmente na Olimpíada de 2024 em Paris. O aprendizado de máquina e a inteligência artificial estão sendo utilizados para analisar dados históricos e fazer previsões precisas sobre desempenhos de atletas e resultados de jogos. Essas tecnologias permitem a coleta de dados em tempo real, análise de biomecânica e estratégias para melhorar o desempenho. A Olimpíada será um palco para demonstrar como a técnica pode transformar o mundo esportivo.'\n",
        "\n",
        "print(rewrite_router.invoke({\"article\": article, \"classification\":classification, \"sumarization\":sumarization}))"
      ],
      "metadata": {
        "colab": {
          "base_uri": "https://localhost:8080/"
        },
        "id": "yoBi_n-ZueoX",
        "outputId": "c6c855cb-917b-46d7-8bcc-bc8e624c0ec7"
      },
      "execution_count": null,
      "outputs": [
        {
          "output_type": "stream",
          "name": "stdout",
          "text": [
            "{'router_decision': 'rewrite'}\n"
          ]
        }
      ]
    },
    {
      "cell_type": "markdown",
      "source": [
        "# **Analysis Email**"
      ],
      "metadata": {
        "id": "jmmqLETTzlrL"
      }
    },
    {
      "cell_type": "code",
      "source": [
        "## Draft Email Analysis\n",
        "draft_analysis_prompt = PromptTemplate(\n",
        "    template=\"\"\"\n",
        "    <|begin_of_text|><|start_header_id|>system<|end_header_id|>\n",
        "    Você é o Agente de Controle de Qualidade de resumos em Português-BR, leia o ARTICLE abaixo, a categoria do ARTICLE que o agente categorizador\n",
        "    forneceu e a pesquisa do agente de pesquisa e escreva uma análise de como a resposta foi escrita.\n",
        "\n",
        "    Verifique se a SUMARIZATION aborda os temas e assuntos do ARTICLE com base na CLASSIFICATION do ARTICLE e no conteúdo do ARTICLE.\n",
        "\n",
        "    Forneça feedback sobre como a SUMARIZATION pode ser aprimorada e que coisas específicas podem ser\n",
        "    adicionadas ou alteradas para tornar a SUMARIZATION mais eficaz para a nossa NewsLetter sobre o mundo da IA.\n",
        "\n",
        "    Você nunca inventa ou adiciona informações que não tenham sido fornecidas no ARTICLE.\n",
        "\n",
        "    Retorna a análise como um JSON com a chave principal “draft_analysis” e nenhuma premissa ou explicação.\n",
        "    A estrutura do JSON deve incluir:\n",
        "      - \"addresses_customer_issue\": um valor booleano indicando se a SUMARIZATION aborda os temas e assuntos do ARTICLE\n",
        "      - \"feedback\": uma lista de strings com comentários sobre como a SUMARIZATION pode ser aprimorada\n",
        "      - \"suggestions\": uma lista de strings com sugestões específicas para tornar a SUMARIZATION mais correta e eficaz\n",
        "\n",
        "    A análise e feedback devem ser fornecidos em português.\n",
        "    Sempre assine as saídas de maneira apropriada e com a assinatura de Newsletter BiaNews.\n",
        "    Nunca nomeie a Newsletter por outro nome, apenas BiaNews.\n",
        "\n",
        "    <|eot_id|><|start_header_id|>user<|end_header_id|>\n",
        "    ARTICLE: {article} \\n\\n\n",
        "    CLASSIFICATION: {classification} \\n\\n\n",
        "    SUMARIZATION: {sumarization} \\n\\n\n",
        "    <|eot_id|>\n",
        "    <|start_header_id|>assistant<|end_header_id|>\n",
        "    \"\"\",\n",
        "    input_variables=[\"article\",\"classification\",\"sumarization\"],\n",
        ")\n",
        "\n",
        "draft_analysis_chain = draft_analysis_prompt | llm | JsonOutputParser()\n",
        "article = articles[4][2]\n",
        "classification = 'Ciência'\n",
        "sumarization = 'A tecnologia está revolucionando a previsão de resultados em esportes, especialmente na Olimpíada de 2024 em Paris. O aprendizado de máquina e a inteligência artificial estão sendo utilizados para analisar dados históricos e fazer previsões precisas sobre desempenhos de atletas e resultados de jogos. Essas tecnologias permitem a coleta de dados em tempo real, análise de biomecânica e estratégias para melhorar o desempenho. A Olimpíada será um palco para demonstrar como a técnica pode transformar o mundo esportivo.'\n",
        "draft_analysis = draft_analysis_chain.invoke({\"article\": article,\n",
        "                                 \"classification\":classification,\n",
        "                                 \"sumarization\": sumarization})\n",
        "\n",
        "print(draft_analysis)"
      ],
      "metadata": {
        "colab": {
          "base_uri": "https://localhost:8080/"
        },
        "id": "EKzW40I0zpT5",
        "outputId": "6a2707f0-b8cd-4bd8-8214-97b22610371e"
      },
      "execution_count": null,
      "outputs": [
        {
          "output_type": "stream",
          "name": "stdout",
          "text": [
            "{'draft_analysis': {'addresses_customer_issue': False, 'feedback': ['A SUMARIZATION não aborda os temas e assuntos do ARTICLE, que são sobre notícias de Ciência e Tecnologia, e não sobre a Olimpíada de 2024 em Paris.', 'A SUMARIZATION não menciona nenhuma das notícias presentes no ARTICLE, como a entrega errada da Amazon, o estudo da NASA sobre regiões inabitáveis, o acessório da Samsung, entre outras.', 'A SUMARIZATION não segue a estrutura do ARTICLE, que apresenta várias notícias independentes e não tem relação com a Olimpíada de 2024 em Paris.'], 'suggestions': ['Reescrever a SUMARIZATION para abordar os temas e assuntos do ARTICLE, como a entrega errada da Amazon, o estudo da NASA, o acessório da Samsung, entre outras.', 'Incluir links para as notícias originais para que os leitores possam acessar mais informações.', 'Adicionar uma estrutura mais clara e organizada para a SUMARIZATION, para que os leitores possam facilmente entender as notícias apresentadas.']}}\n"
          ]
        }
      ]
    },
    {
      "cell_type": "markdown",
      "source": [
        "# **Rewrite draft with Analysis**"
      ],
      "metadata": {
        "id": "rIvA2JL84g12"
      }
    },
    {
      "cell_type": "code",
      "source": [
        "rewrite_draft_prompt = PromptTemplate(\n",
        "    template=\"\"\"\n",
        "    <|begin_of_text|><|start_header_id|>system<|end_header_id|>\n",
        "    Você é o agente que escreve o email final, leia a análise de resposta abaixo do agente de Análise\n",
        "    e use-a para reescrever e melhorar a SUMARIZATION para criar um email final.\n",
        "\n",
        "    Você nunca inventa ou adiciona informações que não tenham sido fornecidas pelo o ARTICLE.\n",
        "\n",
        "    Seu output deve ser um JSON com uma única chave \"email_final\", que é uma cadeia de caracteres sem premissa ou explicação.\n",
        "    Sempre assine as saídas de maneira apropriada e com a assinatura de Newsletter BIAMIGOS.\n",
        "\n",
        "    <|eot_id|><|start_header_id|>user<|end_header_id|>\n",
        "    ARTICLE: {article} \\n\\n\n",
        "    CLASSIFICATION: {classification} \\n\\n\n",
        "    SUMARIZATION: {sumarization} \\n\\n\n",
        "    SUMARIZATION_FEEDBACK: {draft_analysis} \\n\\n\n",
        "    <|eot_id|>\n",
        "    <|start_header_id|>assistant<|end_header_id|>\n",
        "    \"\"\",\n",
        "    input_variables=[\"article\",\n",
        "                     \"classification\",\n",
        "                     \"draft_analysis\",\n",
        "                     \"sumarization\",\n",
        "                     ],\n",
        ")\n",
        "\n",
        "rewrite_chain = rewrite_draft_prompt | llm | JsonOutputParser()\n",
        "article = articles[0]\n",
        "classification = 'Ciência'\n",
        "sumarization = 'A tecnologia está revolucionando a previsão de resultados em esportes, especialmente na Olimpíada de 2024 em Paris. O aprendizado de máquina e a inteligência artificial estão sendo utilizados para analisar dados históricos e fazer previsões precisas sobre desempenhos de atletas e resultados de jogos. Essas tecnologias permitem a coleta de dados em tempo real, análise de biomecânica e estratégias para melhorar o desempenho. A Olimpíada será um palco para demonstrar como a técnica pode transformar o mundo esportivo.'\n",
        "draft_analysis = \"\"\"\n",
        "{'draft_analysis': {'addresses_customer_issue': True, 'feedback': ['A SUMARIZATION é geralmente clara e concisa, mas pode ser mais específica em relação aos exemplos de esportes mencionados no ARTICLE.', 'A SUMARIZATION não destaca suficientemente a importância da coleta de dados em tempo real para a precisão das previsões.'], 'suggestions': ['Adicionar mais exemplos de esportes que utilizam a tecnologia de aprendizado de máquina e inteligência artificial para prever resultados.', 'Destacar a importância da coleta de dados em tempo real e como isso melhora a precisão das previsões.', 'Incluir mais informações sobre como a Olimpíada de 2024 em Paris será um palco para demonstrar a aplicação dessas tecnologias no mundo esportivo.']}}\n",
        "\"\"\"\n",
        "email_final = rewrite_chain.invoke({\"article\": article,\n",
        "                                 \"classification\":classification,\n",
        "                                 \"sumarization\": sumarization,\n",
        "                                \"draft_analysis\":draft_analysis})\n",
        "\n",
        "email_final['email_final']"
      ],
      "metadata": {
        "colab": {
          "base_uri": "https://localhost:8080/",
          "height": 807
        },
        "id": "AraE55Op4i4p",
        "outputId": "eca2e6d3-a983-46ee-f4c3-73fc9c51888b"
      },
      "execution_count": null,
      "outputs": [
        {
          "output_type": "error",
          "ename": "OutputParserException",
          "evalue": "Invalid json output: Here is the rewritten email based on the analysis feedback:\n\n{\n\"email_final\": \"Assunto: 5 Profissões do Futuro em Tecnologia da Informação para Quem Está Entrando na Universidade\n\nPrezados estudantes,\n\nA área de Tecnologia da Informação (TI) está em constante evolução e oferece muitas oportunidades para quem está começando a estudar. De acordo com o LinkedIn, as 25 profissões mais promissoras para 2024 exigem habilidades em inovação e análise de dados.\n\nNesse sentido, selecionamos 5 profissões que são ótimas apostas para quem está entrando na universidade agora. São elas:\n\n* Cientista de Dados: responsável por coletar, organizar e analisar conjuntos de dados para ajudar na tomada de decisões estratégicas em empresas.\n* Desenvolvedor de Software: cria, projeta, testa e implementa softwares para diferentes sistemas, desde aplicativos móveis a websites complexos.\n* Engenheiro de Inteligência Artificial (IA): projeta, desenvolve e implementa sistemas inteligentes que simulam a capacidade humana de raciocinar, aprender e tomar decisões.\n* Especialista em Segurança Cibernética: protege sistemas, redes e dados contra ataques diversos, garantindo a confidencialidade, integridade e disponibilidade das informações.\n* Gestor de TI: planeja, organiza e dirige os recursos tecnológicos de uma empresa, garantindo que eles funcionem de forma eficiente e segura para atender às necessidades do negócio.\n\nEssas profissões são promissoras e oferecem muitas oportunidades para quem está começando a estudar. Além disso, é importante lembrar que a coleta de dados em tempo real é fundamental para a precisão das previsões e análises.\n\nSe você está procurando por uma carreira em tecnologia, mas não encontrou o curso ideal, dê uma olhada nas opções do catálogo da UNIP. Entre os mais de 200 cursos disponíveis, algum certamente irá atender às suas expectativas!\n\nAtenciosamente,\nNewsletter BIAMIGOS\"",
          "traceback": [
            "\u001b[0;31m---------------------------------------------------------------------------\u001b[0m",
            "\u001b[0;31mJSONDecodeError\u001b[0m                           Traceback (most recent call last)",
            "\u001b[0;32m/usr/local/lib/python3.10/dist-packages/langchain_core/output_parsers/json.py\u001b[0m in \u001b[0;36mparse_result\u001b[0;34m(self, result, partial)\u001b[0m\n\u001b[1;32m     83\u001b[0m             \u001b[0;32mtry\u001b[0m\u001b[0;34m:\u001b[0m\u001b[0;34m\u001b[0m\u001b[0;34m\u001b[0m\u001b[0m\n\u001b[0;32m---> 84\u001b[0;31m                 \u001b[0;32mreturn\u001b[0m \u001b[0mparse_json_markdown\u001b[0m\u001b[0;34m(\u001b[0m\u001b[0mtext\u001b[0m\u001b[0;34m)\u001b[0m\u001b[0;34m\u001b[0m\u001b[0;34m\u001b[0m\u001b[0m\n\u001b[0m\u001b[1;32m     85\u001b[0m             \u001b[0;32mexcept\u001b[0m \u001b[0mJSONDecodeError\u001b[0m \u001b[0;32mas\u001b[0m \u001b[0me\u001b[0m\u001b[0;34m:\u001b[0m\u001b[0;34m\u001b[0m\u001b[0;34m\u001b[0m\u001b[0m\n",
            "\u001b[0;32m/usr/local/lib/python3.10/dist-packages/langchain_core/utils/json.py\u001b[0m in \u001b[0;36mparse_json_markdown\u001b[0;34m(json_string, parser)\u001b[0m\n\u001b[1;32m    146\u001b[0m             \u001b[0mjson_str\u001b[0m \u001b[0;34m=\u001b[0m \u001b[0mmatch\u001b[0m\u001b[0;34m.\u001b[0m\u001b[0mgroup\u001b[0m\u001b[0;34m(\u001b[0m\u001b[0;36m2\u001b[0m\u001b[0;34m)\u001b[0m\u001b[0;34m\u001b[0m\u001b[0;34m\u001b[0m\u001b[0m\n\u001b[0;32m--> 147\u001b[0;31m     \u001b[0;32mreturn\u001b[0m \u001b[0m_parse_json\u001b[0m\u001b[0;34m(\u001b[0m\u001b[0mjson_str\u001b[0m\u001b[0;34m,\u001b[0m \u001b[0mparser\u001b[0m\u001b[0;34m=\u001b[0m\u001b[0mparser\u001b[0m\u001b[0;34m)\u001b[0m\u001b[0;34m\u001b[0m\u001b[0;34m\u001b[0m\u001b[0m\n\u001b[0m\u001b[1;32m    148\u001b[0m \u001b[0;34m\u001b[0m\u001b[0m\n",
            "\u001b[0;32m/usr/local/lib/python3.10/dist-packages/langchain_core/utils/json.py\u001b[0m in \u001b[0;36m_parse_json\u001b[0;34m(json_str, parser)\u001b[0m\n\u001b[1;32m    162\u001b[0m     \u001b[0;31m# Parse the JSON string into a Python dictionary\u001b[0m\u001b[0;34m\u001b[0m\u001b[0;34m\u001b[0m\u001b[0m\n\u001b[0;32m--> 163\u001b[0;31m     \u001b[0;32mreturn\u001b[0m \u001b[0mparser\u001b[0m\u001b[0;34m(\u001b[0m\u001b[0mjson_str\u001b[0m\u001b[0;34m)\u001b[0m\u001b[0;34m\u001b[0m\u001b[0;34m\u001b[0m\u001b[0m\n\u001b[0m\u001b[1;32m    164\u001b[0m \u001b[0;34m\u001b[0m\u001b[0m\n",
            "\u001b[0;32m/usr/local/lib/python3.10/dist-packages/langchain_core/utils/json.py\u001b[0m in \u001b[0;36mparse_partial_json\u001b[0;34m(s, strict)\u001b[0m\n\u001b[1;32m    117\u001b[0m     \u001b[0;31m# for the original string.\u001b[0m\u001b[0;34m\u001b[0m\u001b[0;34m\u001b[0m\u001b[0m\n\u001b[0;32m--> 118\u001b[0;31m     \u001b[0;32mreturn\u001b[0m \u001b[0mjson\u001b[0m\u001b[0;34m.\u001b[0m\u001b[0mloads\u001b[0m\u001b[0;34m(\u001b[0m\u001b[0ms\u001b[0m\u001b[0;34m,\u001b[0m \u001b[0mstrict\u001b[0m\u001b[0;34m=\u001b[0m\u001b[0mstrict\u001b[0m\u001b[0;34m)\u001b[0m\u001b[0;34m\u001b[0m\u001b[0;34m\u001b[0m\u001b[0m\n\u001b[0m\u001b[1;32m    119\u001b[0m \u001b[0;34m\u001b[0m\u001b[0m\n",
            "\u001b[0;32m/usr/lib/python3.10/json/__init__.py\u001b[0m in \u001b[0;36mloads\u001b[0;34m(s, cls, object_hook, parse_float, parse_int, parse_constant, object_pairs_hook, **kw)\u001b[0m\n\u001b[1;32m    358\u001b[0m         \u001b[0mkw\u001b[0m\u001b[0;34m[\u001b[0m\u001b[0;34m'parse_constant'\u001b[0m\u001b[0;34m]\u001b[0m \u001b[0;34m=\u001b[0m \u001b[0mparse_constant\u001b[0m\u001b[0;34m\u001b[0m\u001b[0;34m\u001b[0m\u001b[0m\n\u001b[0;32m--> 359\u001b[0;31m     \u001b[0;32mreturn\u001b[0m \u001b[0mcls\u001b[0m\u001b[0;34m(\u001b[0m\u001b[0;34m**\u001b[0m\u001b[0mkw\u001b[0m\u001b[0;34m)\u001b[0m\u001b[0;34m.\u001b[0m\u001b[0mdecode\u001b[0m\u001b[0;34m(\u001b[0m\u001b[0ms\u001b[0m\u001b[0;34m)\u001b[0m\u001b[0;34m\u001b[0m\u001b[0;34m\u001b[0m\u001b[0m\n\u001b[0m",
            "\u001b[0;32m/usr/lib/python3.10/json/decoder.py\u001b[0m in \u001b[0;36mdecode\u001b[0;34m(self, s, _w)\u001b[0m\n\u001b[1;32m    336\u001b[0m         \"\"\"\n\u001b[0;32m--> 337\u001b[0;31m         \u001b[0mobj\u001b[0m\u001b[0;34m,\u001b[0m \u001b[0mend\u001b[0m \u001b[0;34m=\u001b[0m \u001b[0mself\u001b[0m\u001b[0;34m.\u001b[0m\u001b[0mraw_decode\u001b[0m\u001b[0;34m(\u001b[0m\u001b[0ms\u001b[0m\u001b[0;34m,\u001b[0m \u001b[0midx\u001b[0m\u001b[0;34m=\u001b[0m\u001b[0m_w\u001b[0m\u001b[0;34m(\u001b[0m\u001b[0ms\u001b[0m\u001b[0;34m,\u001b[0m \u001b[0;36m0\u001b[0m\u001b[0;34m)\u001b[0m\u001b[0;34m.\u001b[0m\u001b[0mend\u001b[0m\u001b[0;34m(\u001b[0m\u001b[0;34m)\u001b[0m\u001b[0;34m)\u001b[0m\u001b[0;34m\u001b[0m\u001b[0;34m\u001b[0m\u001b[0m\n\u001b[0m\u001b[1;32m    338\u001b[0m         \u001b[0mend\u001b[0m \u001b[0;34m=\u001b[0m \u001b[0m_w\u001b[0m\u001b[0;34m(\u001b[0m\u001b[0ms\u001b[0m\u001b[0;34m,\u001b[0m \u001b[0mend\u001b[0m\u001b[0;34m)\u001b[0m\u001b[0;34m.\u001b[0m\u001b[0mend\u001b[0m\u001b[0;34m(\u001b[0m\u001b[0;34m)\u001b[0m\u001b[0;34m\u001b[0m\u001b[0;34m\u001b[0m\u001b[0m\n",
            "\u001b[0;32m/usr/lib/python3.10/json/decoder.py\u001b[0m in \u001b[0;36mraw_decode\u001b[0;34m(self, s, idx)\u001b[0m\n\u001b[1;32m    354\u001b[0m         \u001b[0;32mexcept\u001b[0m \u001b[0mStopIteration\u001b[0m \u001b[0;32mas\u001b[0m \u001b[0merr\u001b[0m\u001b[0;34m:\u001b[0m\u001b[0;34m\u001b[0m\u001b[0;34m\u001b[0m\u001b[0m\n\u001b[0;32m--> 355\u001b[0;31m             \u001b[0;32mraise\u001b[0m \u001b[0mJSONDecodeError\u001b[0m\u001b[0;34m(\u001b[0m\u001b[0;34m\"Expecting value\"\u001b[0m\u001b[0;34m,\u001b[0m \u001b[0ms\u001b[0m\u001b[0;34m,\u001b[0m \u001b[0merr\u001b[0m\u001b[0;34m.\u001b[0m\u001b[0mvalue\u001b[0m\u001b[0;34m)\u001b[0m \u001b[0;32mfrom\u001b[0m \u001b[0;32mNone\u001b[0m\u001b[0;34m\u001b[0m\u001b[0;34m\u001b[0m\u001b[0m\n\u001b[0m\u001b[1;32m    356\u001b[0m         \u001b[0;32mreturn\u001b[0m \u001b[0mobj\u001b[0m\u001b[0;34m,\u001b[0m \u001b[0mend\u001b[0m\u001b[0;34m\u001b[0m\u001b[0;34m\u001b[0m\u001b[0m\n",
            "\u001b[0;31mJSONDecodeError\u001b[0m: Expecting value: line 1 column 1 (char 0)",
            "\nThe above exception was the direct cause of the following exception:\n",
            "\u001b[0;31mOutputParserException\u001b[0m                     Traceback (most recent call last)",
            "\u001b[0;32m<ipython-input-28-75b274b7601f>\u001b[0m in \u001b[0;36m<cell line: 34>\u001b[0;34m()\u001b[0m\n\u001b[1;32m     32\u001b[0m \u001b[0;34m{\u001b[0m\u001b[0;34m'draft_analysis'\u001b[0m\u001b[0;34m:\u001b[0m \u001b[0;34m{\u001b[0m\u001b[0;34m'addresses_customer_issue'\u001b[0m\u001b[0;34m:\u001b[0m \u001b[0;32mTrue\u001b[0m\u001b[0;34m,\u001b[0m \u001b[0;34m'feedback'\u001b[0m\u001b[0;34m:\u001b[0m \u001b[0;34m[\u001b[0m\u001b[0;34m'A SUMARIZATION é geralmente clara e concisa, mas pode ser mais específica em relação aos exemplos de esportes mencionados no ARTICLE.'\u001b[0m\u001b[0;34m,\u001b[0m \u001b[0;34m'A SUMARIZATION não destaca suficientemente a importância da coleta de dados em tempo real para a precisão das previsões.'\u001b[0m\u001b[0;34m]\u001b[0m\u001b[0;34m,\u001b[0m \u001b[0;34m'suggestions'\u001b[0m\u001b[0;34m:\u001b[0m \u001b[0;34m[\u001b[0m\u001b[0;34m'Adicionar mais exemplos de esportes que utilizam a tecnologia de aprendizado de máquina e inteligência artificial para prever resultados.'\u001b[0m\u001b[0;34m,\u001b[0m \u001b[0;34m'Destacar a importância da coleta de dados em tempo real e como isso melhora a precisão das previsões.'\u001b[0m\u001b[0;34m,\u001b[0m \u001b[0;34m'Incluir mais informações sobre como a Olimpíada de 2024 em Paris será um palco para demonstrar a aplicação dessas tecnologias no mundo esportivo.'\u001b[0m\u001b[0;34m]\u001b[0m\u001b[0;34m}\u001b[0m\u001b[0;34m}\u001b[0m\u001b[0;34m\u001b[0m\u001b[0;34m\u001b[0m\u001b[0m\n\u001b[1;32m     33\u001b[0m \"\"\"\n\u001b[0;32m---> 34\u001b[0;31m email_final = rewrite_chain.invoke({\"article\": article,\n\u001b[0m\u001b[1;32m     35\u001b[0m                                  \u001b[0;34m\"classification\"\u001b[0m\u001b[0;34m:\u001b[0m\u001b[0mclassification\u001b[0m\u001b[0;34m,\u001b[0m\u001b[0;34m\u001b[0m\u001b[0;34m\u001b[0m\u001b[0m\n\u001b[1;32m     36\u001b[0m                                  \u001b[0;34m\"sumarization\"\u001b[0m\u001b[0;34m:\u001b[0m \u001b[0msumarization\u001b[0m\u001b[0;34m,\u001b[0m\u001b[0;34m\u001b[0m\u001b[0;34m\u001b[0m\u001b[0m\n",
            "\u001b[0;32m/usr/local/lib/python3.10/dist-packages/langchain_core/runnables/base.py\u001b[0m in \u001b[0;36minvoke\u001b[0;34m(self, input, config, **kwargs)\u001b[0m\n\u001b[1;32m   2873\u001b[0m                     \u001b[0minput\u001b[0m \u001b[0;34m=\u001b[0m \u001b[0mstep\u001b[0m\u001b[0;34m.\u001b[0m\u001b[0minvoke\u001b[0m\u001b[0;34m(\u001b[0m\u001b[0minput\u001b[0m\u001b[0;34m,\u001b[0m \u001b[0mconfig\u001b[0m\u001b[0;34m,\u001b[0m \u001b[0;34m**\u001b[0m\u001b[0mkwargs\u001b[0m\u001b[0;34m)\u001b[0m\u001b[0;34m\u001b[0m\u001b[0;34m\u001b[0m\u001b[0m\n\u001b[1;32m   2874\u001b[0m                 \u001b[0;32melse\u001b[0m\u001b[0;34m:\u001b[0m\u001b[0;34m\u001b[0m\u001b[0;34m\u001b[0m\u001b[0m\n\u001b[0;32m-> 2875\u001b[0;31m                     \u001b[0minput\u001b[0m \u001b[0;34m=\u001b[0m \u001b[0mstep\u001b[0m\u001b[0;34m.\u001b[0m\u001b[0minvoke\u001b[0m\u001b[0;34m(\u001b[0m\u001b[0minput\u001b[0m\u001b[0;34m,\u001b[0m \u001b[0mconfig\u001b[0m\u001b[0;34m)\u001b[0m\u001b[0;34m\u001b[0m\u001b[0;34m\u001b[0m\u001b[0m\n\u001b[0m\u001b[1;32m   2876\u001b[0m         \u001b[0;31m# finish the root run\u001b[0m\u001b[0;34m\u001b[0m\u001b[0;34m\u001b[0m\u001b[0m\n\u001b[1;32m   2877\u001b[0m         \u001b[0;32mexcept\u001b[0m \u001b[0mBaseException\u001b[0m \u001b[0;32mas\u001b[0m \u001b[0me\u001b[0m\u001b[0;34m:\u001b[0m\u001b[0;34m\u001b[0m\u001b[0;34m\u001b[0m\u001b[0m\n",
            "\u001b[0;32m/usr/local/lib/python3.10/dist-packages/langchain_core/output_parsers/base.py\u001b[0m in \u001b[0;36minvoke\u001b[0;34m(self, input, config)\u001b[0m\n\u001b[1;32m    181\u001b[0m     ) -> T:\n\u001b[1;32m    182\u001b[0m         \u001b[0;32mif\u001b[0m \u001b[0misinstance\u001b[0m\u001b[0;34m(\u001b[0m\u001b[0minput\u001b[0m\u001b[0;34m,\u001b[0m \u001b[0mBaseMessage\u001b[0m\u001b[0;34m)\u001b[0m\u001b[0;34m:\u001b[0m\u001b[0;34m\u001b[0m\u001b[0;34m\u001b[0m\u001b[0m\n\u001b[0;32m--> 183\u001b[0;31m             return self._call_with_config(\n\u001b[0m\u001b[1;32m    184\u001b[0m                 lambda inner_input: self.parse_result(\n\u001b[1;32m    185\u001b[0m                     \u001b[0;34m[\u001b[0m\u001b[0mChatGeneration\u001b[0m\u001b[0;34m(\u001b[0m\u001b[0mmessage\u001b[0m\u001b[0;34m=\u001b[0m\u001b[0minner_input\u001b[0m\u001b[0;34m)\u001b[0m\u001b[0;34m]\u001b[0m\u001b[0;34m\u001b[0m\u001b[0;34m\u001b[0m\u001b[0m\n",
            "\u001b[0;32m/usr/local/lib/python3.10/dist-packages/langchain_core/runnables/base.py\u001b[0m in \u001b[0;36m_call_with_config\u001b[0;34m(self, func, input, config, run_type, **kwargs)\u001b[0m\n\u001b[1;32m   1782\u001b[0m             output = cast(\n\u001b[1;32m   1783\u001b[0m                 \u001b[0mOutput\u001b[0m\u001b[0;34m,\u001b[0m\u001b[0;34m\u001b[0m\u001b[0;34m\u001b[0m\u001b[0m\n\u001b[0;32m-> 1784\u001b[0;31m                 context.run(\n\u001b[0m\u001b[1;32m   1785\u001b[0m                     \u001b[0mcall_func_with_variable_args\u001b[0m\u001b[0;34m,\u001b[0m  \u001b[0;31m# type: ignore[arg-type]\u001b[0m\u001b[0;34m\u001b[0m\u001b[0;34m\u001b[0m\u001b[0m\n\u001b[1;32m   1786\u001b[0m                     \u001b[0mfunc\u001b[0m\u001b[0;34m,\u001b[0m  \u001b[0;31m# type: ignore[arg-type]\u001b[0m\u001b[0;34m\u001b[0m\u001b[0;34m\u001b[0m\u001b[0m\n",
            "\u001b[0;32m/usr/local/lib/python3.10/dist-packages/langchain_core/runnables/config.py\u001b[0m in \u001b[0;36mcall_func_with_variable_args\u001b[0;34m(func, input, config, run_manager, **kwargs)\u001b[0m\n\u001b[1;32m    402\u001b[0m     \u001b[0;32mif\u001b[0m \u001b[0mrun_manager\u001b[0m \u001b[0;32mis\u001b[0m \u001b[0;32mnot\u001b[0m \u001b[0;32mNone\u001b[0m \u001b[0;32mand\u001b[0m \u001b[0maccepts_run_manager\u001b[0m\u001b[0;34m(\u001b[0m\u001b[0mfunc\u001b[0m\u001b[0;34m)\u001b[0m\u001b[0;34m:\u001b[0m\u001b[0;34m\u001b[0m\u001b[0;34m\u001b[0m\u001b[0m\n\u001b[1;32m    403\u001b[0m         \u001b[0mkwargs\u001b[0m\u001b[0;34m[\u001b[0m\u001b[0;34m\"run_manager\"\u001b[0m\u001b[0;34m]\u001b[0m \u001b[0;34m=\u001b[0m \u001b[0mrun_manager\u001b[0m\u001b[0;34m\u001b[0m\u001b[0;34m\u001b[0m\u001b[0m\n\u001b[0;32m--> 404\u001b[0;31m     \u001b[0;32mreturn\u001b[0m \u001b[0mfunc\u001b[0m\u001b[0;34m(\u001b[0m\u001b[0minput\u001b[0m\u001b[0;34m,\u001b[0m \u001b[0;34m**\u001b[0m\u001b[0mkwargs\u001b[0m\u001b[0;34m)\u001b[0m  \u001b[0;31m# type: ignore[call-arg]\u001b[0m\u001b[0;34m\u001b[0m\u001b[0;34m\u001b[0m\u001b[0m\n\u001b[0m\u001b[1;32m    405\u001b[0m \u001b[0;34m\u001b[0m\u001b[0m\n\u001b[1;32m    406\u001b[0m \u001b[0;34m\u001b[0m\u001b[0m\n",
            "\u001b[0;32m/usr/local/lib/python3.10/dist-packages/langchain_core/output_parsers/base.py\u001b[0m in \u001b[0;36m<lambda>\u001b[0;34m(inner_input)\u001b[0m\n\u001b[1;32m    182\u001b[0m         \u001b[0;32mif\u001b[0m \u001b[0misinstance\u001b[0m\u001b[0;34m(\u001b[0m\u001b[0minput\u001b[0m\u001b[0;34m,\u001b[0m \u001b[0mBaseMessage\u001b[0m\u001b[0;34m)\u001b[0m\u001b[0;34m:\u001b[0m\u001b[0;34m\u001b[0m\u001b[0;34m\u001b[0m\u001b[0m\n\u001b[1;32m    183\u001b[0m             return self._call_with_config(\n\u001b[0;32m--> 184\u001b[0;31m                 lambda inner_input: self.parse_result(\n\u001b[0m\u001b[1;32m    185\u001b[0m                     \u001b[0;34m[\u001b[0m\u001b[0mChatGeneration\u001b[0m\u001b[0;34m(\u001b[0m\u001b[0mmessage\u001b[0m\u001b[0;34m=\u001b[0m\u001b[0minner_input\u001b[0m\u001b[0;34m)\u001b[0m\u001b[0;34m]\u001b[0m\u001b[0;34m\u001b[0m\u001b[0;34m\u001b[0m\u001b[0m\n\u001b[1;32m    186\u001b[0m                 ),\n",
            "\u001b[0;32m/usr/local/lib/python3.10/dist-packages/langchain_core/output_parsers/json.py\u001b[0m in \u001b[0;36mparse_result\u001b[0;34m(self, result, partial)\u001b[0m\n\u001b[1;32m     85\u001b[0m             \u001b[0;32mexcept\u001b[0m \u001b[0mJSONDecodeError\u001b[0m \u001b[0;32mas\u001b[0m \u001b[0me\u001b[0m\u001b[0;34m:\u001b[0m\u001b[0;34m\u001b[0m\u001b[0;34m\u001b[0m\u001b[0m\n\u001b[1;32m     86\u001b[0m                 \u001b[0mmsg\u001b[0m \u001b[0;34m=\u001b[0m \u001b[0;34mf\"Invalid json output: {text}\"\u001b[0m\u001b[0;34m\u001b[0m\u001b[0;34m\u001b[0m\u001b[0m\n\u001b[0;32m---> 87\u001b[0;31m                 \u001b[0;32mraise\u001b[0m \u001b[0mOutputParserException\u001b[0m\u001b[0;34m(\u001b[0m\u001b[0mmsg\u001b[0m\u001b[0;34m,\u001b[0m \u001b[0mllm_output\u001b[0m\u001b[0;34m=\u001b[0m\u001b[0mtext\u001b[0m\u001b[0;34m)\u001b[0m \u001b[0;32mfrom\u001b[0m \u001b[0me\u001b[0m\u001b[0;34m\u001b[0m\u001b[0;34m\u001b[0m\u001b[0m\n\u001b[0m\u001b[1;32m     88\u001b[0m \u001b[0;34m\u001b[0m\u001b[0m\n\u001b[1;32m     89\u001b[0m     \u001b[0;32mdef\u001b[0m \u001b[0mparse\u001b[0m\u001b[0;34m(\u001b[0m\u001b[0mself\u001b[0m\u001b[0;34m,\u001b[0m \u001b[0mtext\u001b[0m\u001b[0;34m:\u001b[0m \u001b[0mstr\u001b[0m\u001b[0;34m)\u001b[0m \u001b[0;34m->\u001b[0m \u001b[0mAny\u001b[0m\u001b[0;34m:\u001b[0m\u001b[0;34m\u001b[0m\u001b[0;34m\u001b[0m\u001b[0m\n",
            "\u001b[0;31mOutputParserException\u001b[0m: Invalid json output: Here is the rewritten email based on the analysis feedback:\n\n{\n\"email_final\": \"Assunto: 5 Profissões do Futuro em Tecnologia da Informação para Quem Está Entrando na Universidade\n\nPrezados estudantes,\n\nA área de Tecnologia da Informação (TI) está em constante evolução e oferece muitas oportunidades para quem está começando a estudar. De acordo com o LinkedIn, as 25 profissões mais promissoras para 2024 exigem habilidades em inovação e análise de dados.\n\nNesse sentido, selecionamos 5 profissões que são ótimas apostas para quem está entrando na universidade agora. São elas:\n\n* Cientista de Dados: responsável por coletar, organizar e analisar conjuntos de dados para ajudar na tomada de decisões estratégicas em empresas.\n* Desenvolvedor de Software: cria, projeta, testa e implementa softwares para diferentes sistemas, desde aplicativos móveis a websites complexos.\n* Engenheiro de Inteligência Artificial (IA): projeta, desenvolve e implementa sistemas inteligentes que simulam a capacidade humana de raciocinar, aprender e tomar decisões.\n* Especialista em Segurança Cibernética: protege sistemas, redes e dados contra ataques diversos, garantindo a confidencialidade, integridade e disponibilidade das informações.\n* Gestor de TI: planeja, organiza e dirige os recursos tecnológicos de uma empresa, garantindo que eles funcionem de forma eficiente e segura para atender às necessidades do negócio.\n\nEssas profissões são promissoras e oferecem muitas oportunidades para quem está começando a estudar. Além disso, é importante lembrar que a coleta de dados em tempo real é fundamental para a precisão das previsões e análises.\n\nSe você está procurando por uma carreira em tecnologia, mas não encontrou o curso ideal, dê uma olhada nas opções do catálogo da UNIP. Entre os mais de 200 cursos disponíveis, algum certamente irá atender às suas expectativas!\n\nAtenciosamente,\nNewsletter BIAMIGOS\""
          ]
        }
      ]
    },
    {
      "cell_type": "code",
      "source": [
        "email_final"
      ],
      "metadata": {
        "id": "6wSEAwa0e6mQ"
      },
      "execution_count": null,
      "outputs": []
    },
    {
      "cell_type": "markdown",
      "source": [
        "# **Sendmail**"
      ],
      "metadata": {
        "id": "g664uoeRTVu4"
      }
    },
    {
      "cell_type": "markdown",
      "source": [
        "# State -> Graph\n"
      ],
      "metadata": {
        "id": "FNyR_sa9CsrJ"
      }
    },
    {
      "cell_type": "code",
      "source": [
        "!pip install langgraph"
      ],
      "metadata": {
        "id": "DT0eRHv-CyZV"
      },
      "execution_count": null,
      "outputs": []
    },
    {
      "cell_type": "code",
      "source": [
        "from langchain.schema import Document\n",
        "from langgraph.graph import END, StateGraph\n",
        "from google.colab import userdata\n",
        "import smtplib, ssl"
      ],
      "metadata": {
        "id": "_8-pEDFJCvS_"
      },
      "execution_count": null,
      "outputs": []
    },
    {
      "cell_type": "code",
      "source": [
        "from typing_extensions import TypedDict\n",
        "from typing import List\n",
        "\n",
        "### State\n",
        "\n",
        "class GraphState(TypedDict):\n",
        "    \"\"\"\n",
        "    Representação dos estados para nosso grafo.\n",
        "\n",
        "    Attributes:\n",
        "        article: query\n",
        "        classification: categoria da query\n",
        "        sumarization: LLM generation\n",
        "        email_final: LLM generation\n",
        "        info_needed: Se for necessário adicionar informacoes\n",
        "        num_steps: numero de passos\n",
        "        sumarization_feedback: feedback da sumarization\n",
        "        send_email: envio do email\n",
        "    \"\"\"\n",
        "    article : str\n",
        "    classification : str\n",
        "    sumarization : str\n",
        "    email_final : str\n",
        "    info_needed : bool\n",
        "    num_steps : int\n",
        "    sumarization_feedback : dict\n",
        "    send_email: str"
      ],
      "metadata": {
        "id": "LhsBTtWDCwFb"
      },
      "execution_count": null,
      "outputs": []
    },
    {
      "cell_type": "markdown",
      "source": [
        "# Nós"
      ],
      "metadata": {
        "id": "Kn8dmKRJEe70"
      }
    },
    {
      "cell_type": "markdown",
      "source": [
        "\n",
        "\n",
        "1.   Categorizando o Artigo\n",
        "2.   Resumindo o Artigo -> Draft Email\n",
        "3. Reescrevendo o Email\n",
        "4. Analisando o Draft do Email\n",
        "5. Reescrevendo baseado na analise do draft do email\n",
        "6. Enviando email\n"
      ],
      "metadata": {
        "id": "d9yavO5rF-Ze"
      }
    },
    {
      "cell_type": "code",
      "source": [
        "def get_classification(state):\n",
        "  \"\"\"pegar o artigo e categoriza-lo\"\"\"\n",
        "  print(\"---CATEGORIZING ARICLE---\")\n",
        "  article = state['article']\n",
        "  num_steps = int(state['num_steps'])\n",
        "  num_steps += 1\n",
        "\n",
        "  classification = email_category_generator.invoke({\"article\": article})\n",
        "  print(classification)\n",
        "\n",
        "  return {\"classification\": classification, \"num_steps\":num_steps}"
      ],
      "metadata": {
        "id": "XesA2nx5Ej1u"
      },
      "execution_count": null,
      "outputs": []
    },
    {
      "cell_type": "code",
      "source": [
        "def get_sumarization(state):\n",
        "  print(\"---DRAFT EMAIL WRITER---\")\n",
        "  article = state[\"article\"]\n",
        "  classification = state[\"classification\"]\n",
        "  num_steps = state['num_steps']\n",
        "  num_steps += 1\n",
        "\n",
        "  sumarization = draft_writer_chain.invoke({\"article\": article,\n",
        "                                    \"classification\": classification})\n",
        "  print(sumarization)\n",
        "\n",
        "  response_sumarization = sumarization['sumarization']\n",
        "\n",
        "  return {\"sumarization\": response_sumarization, \"num_steps\":num_steps}"
      ],
      "metadata": {
        "id": "BGfRFmrhF7-z"
      },
      "execution_count": null,
      "outputs": []
    },
    {
      "cell_type": "code",
      "source": [
        "def get_draft_analysis(state):\n",
        "  print(\"---DRAFT EMAIL ANALYZER---\")\n",
        "  article = state[\"article\"]\n",
        "  classification = state[\"classification\"]\n",
        "  sumarization = state[\"sumarization\"]\n",
        "  num_steps = state['num_steps']\n",
        "  num_steps += 1\n",
        "\n",
        "  sumarization_feedback = draft_analysis_chain.invoke({\"article\": article,\n",
        "                                              \"classification\": classification,\n",
        "                                              \"sumarization\":sumarization}\n",
        "                                              )\n",
        "\n",
        "  return {\"sumarization_feedback\": sumarization_feedback, \"num_steps\":num_steps}"
      ],
      "metadata": {
        "id": "mQiAtSjMJahV"
      },
      "execution_count": null,
      "outputs": []
    },
    {
      "cell_type": "code",
      "source": [
        "def get_rewrite_draft(state):\n",
        "  print(\"---ReWRITE EMAIL ---\")\n",
        "  article = state[\"article\"]\n",
        "  classification = state[\"classification\"]\n",
        "  sumarization = state[\"sumarization\"]\n",
        "  sumarization_feedback = state[\"sumarization_feedback\"]\n",
        "  num_steps = state['num_steps']\n",
        "  num_steps += 1\n",
        "\n",
        "  email_final = rewrite_chain.invoke({\"article\": article,\n",
        "                                              \"classification\": classification,\n",
        "                                              \"sumarization\":sumarization,\n",
        "                                              \"draft_analysis\": sumarization_feedback}\n",
        "                                              )\n",
        "\n",
        "  return {\"email_final\": email_final['email_final'], \"num_steps\":num_steps}"
      ],
      "metadata": {
        "id": "ZvOAXxk1JQOZ"
      },
      "execution_count": null,
      "outputs": []
    },
    {
      "cell_type": "code",
      "source": [
        "def no_rewrite(state):\n",
        "    print(\"---NO REWRITE EMAIL ---\")\n",
        "    ## Get the state\n",
        "    sumarization = state[\"sumarization\"]\n",
        "    num_steps = state['num_steps']\n",
        "    num_steps += 1\n",
        "\n",
        "    return {\"email_final\": sumarization, \"num_steps\":num_steps}"
      ],
      "metadata": {
        "id": "7fz692L3KIr7"
      },
      "execution_count": null,
      "outputs": []
    },
    {
      "cell_type": "code",
      "source": [
        "import smtplib\n",
        "import ssl\n",
        "\n",
        "def get_send_email_rewrite(state):\n",
        "  print(\"---SEND EMAIL---\")\n",
        "  email_final = state[\"email_final\"]\n",
        "  num_steps = state['num_steps']\n",
        "  num_steps += 1\n",
        "\n",
        "  SENDER_EMAIL = \"lucaslucasvanderley@gmail.com\"\n",
        "  EMAIL_PASSWRD = \"hgtxfmrhlfdoodzw\"\n",
        "\n",
        "  port = 465\n",
        "  smtp_server = \"smtp.gmail.com\"\n",
        "  sender_email = SENDER_EMAIL\n",
        "  receiver_email = \"lucaswanderley600@gmail.com\"\n",
        "  password = EMAIL_PASSWRD\n",
        "  message = email_final\n",
        "\n",
        "  context = ssl.create_default_context()\n",
        "  with smtplib.SMTP_SSL(smtp_server, port, context=context) as server:\n",
        "      server.login(sender_email, password)\n",
        "      server.sendmail(sender_email, receiver_email, message.encode('utf-8'))\n",
        "\n",
        "  return {\"send_email\": email_final['email_final'], \"num_steps\":num_steps}\n"
      ],
      "metadata": {
        "id": "Dsgy9acXOXcC"
      },
      "execution_count": null,
      "outputs": []
    },
    {
      "cell_type": "code",
      "source": [
        "import smtplib\n",
        "import ssl\n",
        "\n",
        "def get_send_email(state):\n",
        "    print(\"---SEND EMAIL---\")\n",
        "    sumarization = state[\"sumarization\"]\n",
        "    num_steps = state['num_steps']\n",
        "    num_steps += 1\n",
        "\n",
        "    SENDER_EMAIL = \"lucaslucasvanderley@gmail.com\"\n",
        "    EMAIL_PASSWRD = \"hgtxfmrhlfdoodzw\"\n",
        "\n",
        "    port = 465\n",
        "    smtp_server = \"smtp.gmail.com\"\n",
        "    sender_email = SENDER_EMAIL\n",
        "    receiver_email = \"lucaswanderley600@gmail.com\"\n",
        "    password = EMAIL_PASSWRD\n",
        "    message = sumarization\n",
        "\n",
        "    context = ssl.create_default_context()\n",
        "    with smtplib.SMTP_SSL(smtp_server, port, context=context) as server:\n",
        "        server.login(sender_email, password)\n",
        "        server.sendmail(sender_email, receiver_email, message.encode('utf-8'))\n",
        "\n",
        "    return {\"send_email\": sumarization, \"num_steps\": num_steps}\n"
      ],
      "metadata": {
        "id": "a6lveEGoWA5e"
      },
      "execution_count": null,
      "outputs": []
    },
    {
      "cell_type": "code",
      "source": [
        "def state_printer(state):\n",
        "    \"\"\"print the state\"\"\"\n",
        "    print(\"---STATE PRINTER---\")\n",
        "    print(f\"Article: {state['article']} \\n\" )\n",
        "    print(f\"Classification: {state['classification']} \\n\")\n",
        "    print(f\"Sumarization: {state['sumarization']} \\n\" )\n",
        "    print(f\"Final Email: {state['email_final']} \\n\" )\n",
        "    print(f\"Send email: {state['send_email']}\")\n",
        "    print(f\"Num Steps: {state['num_steps']} \\n\")\n",
        "    return"
      ],
      "metadata": {
        "id": "YTJSGxitKUWj"
      },
      "execution_count": null,
      "outputs": []
    },
    {
      "cell_type": "markdown",
      "source": [
        "# Edges"
      ],
      "metadata": {
        "id": "Ar3m_M6kK0AN"
      }
    },
    {
      "cell_type": "code",
      "source": [
        "def route_to_rewrite(state):\n",
        "\n",
        "    print(\"---ROUTE TO REWRITE---\")\n",
        "    article = state[\"article\"]\n",
        "    classification = state[\"classification\"]\n",
        "    sumarization = state[\"sumarization\"]\n",
        "\n",
        "    router = rewrite_router.invoke({\"article\": article,\n",
        "                                     \"classification\":classification,\n",
        "                                     \"sumarization\":sumarization}\n",
        "                                   )\n",
        "\n",
        "    print(router)\n",
        "    print(router['router_decision'])\n",
        "    if router['router_decision'] == 'rewrite':\n",
        "        print(\"---ROUTE TO ANALYSIS - REWRITE---\")\n",
        "        return \"rewrite\"\n",
        "    elif router['router_decision'] == 'no_rewrite':\n",
        "        print(\"---ROUTE EMAIL TO FINAL RESPONSE---\")\n",
        "        return \"no_rewrite\""
      ],
      "metadata": {
        "id": "L7OE0TGMKwTJ"
      },
      "execution_count": null,
      "outputs": []
    },
    {
      "cell_type": "markdown",
      "source": [
        "# Build Graph"
      ],
      "metadata": {
        "id": "LVTTWPFyL3MW"
      }
    },
    {
      "cell_type": "markdown",
      "source": [
        "## Add Nodes"
      ],
      "metadata": {
        "id": "XklzhzaQL4yT"
      }
    },
    {
      "cell_type": "code",
      "source": [
        "workflow = StateGraph(GraphState)\n",
        "\n",
        "workflow.add_node(\"get_classification\", get_classification)\n",
        "workflow.add_node(\"state_printer\", state_printer)\n",
        "workflow.add_node(\"get_sumarization\", get_sumarization)\n",
        "workflow.add_node(\"get_draft_analysis\", get_draft_analysis)\n",
        "workflow.add_node(\"get_rewrite_draft\", get_rewrite_draft)\n",
        "workflow.add_node(\"no_rewrite\", no_rewrite)\n",
        "workflow.add_node(\"get_send_email_rewrite\", get_send_email_rewrite)\n",
        "workflow.add_node(\"get_send_email\", get_send_email)"
      ],
      "metadata": {
        "id": "Gy7U0TvSL6J6"
      },
      "execution_count": null,
      "outputs": []
    },
    {
      "cell_type": "code",
      "source": [
        "workflow.set_entry_point(\"get_classification\")\n",
        "\n",
        "workflow.add_edge(\"get_classification\", \"get_sumarization\")\n",
        "\n",
        "workflow.add_conditional_edges(\n",
        "    \"get_sumarization\",\n",
        "    route_to_rewrite,\n",
        "    {\n",
        "        \"rewrite\": \"get_draft_analysis\",\n",
        "        \"no_rewrite\": \"no_rewrite\",\n",
        "    },\n",
        ")\n",
        "\n",
        "workflow.add_edge(\"get_draft_analysis\", \"get_rewrite_draft\")\n",
        "workflow.add_edge(\"no_rewrite\", \"get_send_email\")\n",
        "workflow.add_edge(\"get_rewrite_draft\", \"get_send_email_rewrite\")\n",
        "workflow.add_edge(\"get_send_email_rewrite\", \"state_printer\")\n",
        "workflow.add_edge(\"get_send_email\", \"state_printer\")\n",
        "workflow.add_edge(\"state_printer\", END)"
      ],
      "metadata": {
        "id": "1Gba5hnnYtYu"
      },
      "execution_count": null,
      "outputs": []
    },
    {
      "cell_type": "code",
      "source": [
        "app = workflow.compile()"
      ],
      "metadata": {
        "id": "dOhpXjaTNau5"
      },
      "execution_count": null,
      "outputs": []
    },
    {
      "cell_type": "code",
      "source": [
        "article = articles[4][2]"
      ],
      "metadata": {
        "id": "FMUgV0-ZavBf"
      },
      "execution_count": null,
      "outputs": []
    },
    {
      "cell_type": "code",
      "source": [
        "inputs = {\"article\": article, \"num_steps\":0}\n",
        "for output in app.stream(inputs):\n",
        "    for key, value in output.items():\n",
        "        print(f\"Finished running: {key}:\")"
      ],
      "metadata": {
        "id": "HGyZA2fUaskc"
      },
      "execution_count": null,
      "outputs": []
    },
    {
      "cell_type": "code",
      "source": [
        "output = app.invoke(inputs)\n",
        "\n",
        "print(output['email_final'])"
      ],
      "metadata": {
        "id": "uIWub7pxbLo5"
      },
      "execution_count": null,
      "outputs": []
    },
    {
      "cell_type": "code",
      "source": [
        "print(output['email_final'])"
      ],
      "metadata": {
        "id": "R8tyNPLbbNbi"
      },
      "execution_count": null,
      "outputs": []
    },
    {
      "cell_type": "code",
      "source": [
        "from langchain_core.runnables.graph import MermaidDrawMethod\n",
        "app.get_graph().draw_mermaid_png(\n",
        "            draw_method=MermaidDrawMethod.API,\n",
        "            output_file_path=\"/content/graph.jpeg\",\n",
        "        )"
      ],
      "metadata": {
        "id": "XP1JsE9_bSZw"
      },
      "execution_count": null,
      "outputs": []
    }
  ],
  "metadata": {
    "colab": {
      "provenance": [],
      "collapsed_sections": [
        "yLnLiv3fKVE9",
        "S9-t16WATK6t"
      ]
    },
    "kernelspec": {
      "display_name": "Python 3",
      "name": "python3"
    },
    "language_info": {
      "name": "python"
    },
    "widgets": {
      "application/vnd.jupyter.widget-state+json": {
        "843774f8dab24a84bf92b83e518ebfc2": {
          "model_module": "@jupyter-widgets/controls",
          "model_name": "HBoxModel",
          "model_module_version": "1.5.0",
          "state": {
            "_dom_classes": [],
            "_model_module": "@jupyter-widgets/controls",
            "_model_module_version": "1.5.0",
            "_model_name": "HBoxModel",
            "_view_count": null,
            "_view_module": "@jupyter-widgets/controls",
            "_view_module_version": "1.5.0",
            "_view_name": "HBoxView",
            "box_style": "",
            "children": [
              "IPY_MODEL_86a00de3e325430fa91bdd3f537edd06",
              "IPY_MODEL_9e5e0f36f15543b6ac68f7c4227e0db3",
              "IPY_MODEL_d55b363f1e144b788a441d917344a367"
            ],
            "layout": "IPY_MODEL_8ed7f84d4af04edd8d3434c64c21f1ee"
          }
        },
        "86a00de3e325430fa91bdd3f537edd06": {
          "model_module": "@jupyter-widgets/controls",
          "model_name": "HTMLModel",
          "model_module_version": "1.5.0",
          "state": {
            "_dom_classes": [],
            "_model_module": "@jupyter-widgets/controls",
            "_model_module_version": "1.5.0",
            "_model_name": "HTMLModel",
            "_view_count": null,
            "_view_module": "@jupyter-widgets/controls",
            "_view_module_version": "1.5.0",
            "_view_name": "HTMLView",
            "description": "",
            "description_tooltip": null,
            "layout": "IPY_MODEL_4a2528935ff84914a1829a46fc7bc81f",
            "placeholder": "​",
            "style": "IPY_MODEL_5cd582a5771d4d91ae8d3168bd40b350",
            "value": "tokenizer_config.json: 100%"
          }
        },
        "9e5e0f36f15543b6ac68f7c4227e0db3": {
          "model_module": "@jupyter-widgets/controls",
          "model_name": "FloatProgressModel",
          "model_module_version": "1.5.0",
          "state": {
            "_dom_classes": [],
            "_model_module": "@jupyter-widgets/controls",
            "_model_module_version": "1.5.0",
            "_model_name": "FloatProgressModel",
            "_view_count": null,
            "_view_module": "@jupyter-widgets/controls",
            "_view_module_version": "1.5.0",
            "_view_name": "ProgressView",
            "bar_style": "success",
            "description": "",
            "description_tooltip": null,
            "layout": "IPY_MODEL_ccdce7f266db43d88ec15e27ad1bebf4",
            "max": 397,
            "min": 0,
            "orientation": "horizontal",
            "style": "IPY_MODEL_780b24f7bd6641a59cde869df459c986",
            "value": 397
          }
        },
        "d55b363f1e144b788a441d917344a367": {
          "model_module": "@jupyter-widgets/controls",
          "model_name": "HTMLModel",
          "model_module_version": "1.5.0",
          "state": {
            "_dom_classes": [],
            "_model_module": "@jupyter-widgets/controls",
            "_model_module_version": "1.5.0",
            "_model_name": "HTMLModel",
            "_view_count": null,
            "_view_module": "@jupyter-widgets/controls",
            "_view_module_version": "1.5.0",
            "_view_name": "HTMLView",
            "description": "",
            "description_tooltip": null,
            "layout": "IPY_MODEL_74f5eb3820f44af19c50745ffb22180b",
            "placeholder": "​",
            "style": "IPY_MODEL_26fb4873f13243a3a526b632fc17d6ae",
            "value": " 397/397 [00:00&lt;00:00, 6.88kB/s]"
          }
        },
        "8ed7f84d4af04edd8d3434c64c21f1ee": {
          "model_module": "@jupyter-widgets/base",
          "model_name": "LayoutModel",
          "model_module_version": "1.2.0",
          "state": {
            "_model_module": "@jupyter-widgets/base",
            "_model_module_version": "1.2.0",
            "_model_name": "LayoutModel",
            "_view_count": null,
            "_view_module": "@jupyter-widgets/base",
            "_view_module_version": "1.2.0",
            "_view_name": "LayoutView",
            "align_content": null,
            "align_items": null,
            "align_self": null,
            "border": null,
            "bottom": null,
            "display": null,
            "flex": null,
            "flex_flow": null,
            "grid_area": null,
            "grid_auto_columns": null,
            "grid_auto_flow": null,
            "grid_auto_rows": null,
            "grid_column": null,
            "grid_gap": null,
            "grid_row": null,
            "grid_template_areas": null,
            "grid_template_columns": null,
            "grid_template_rows": null,
            "height": null,
            "justify_content": null,
            "justify_items": null,
            "left": null,
            "margin": null,
            "max_height": null,
            "max_width": null,
            "min_height": null,
            "min_width": null,
            "object_fit": null,
            "object_position": null,
            "order": null,
            "overflow": null,
            "overflow_x": null,
            "overflow_y": null,
            "padding": null,
            "right": null,
            "top": null,
            "visibility": null,
            "width": null
          }
        },
        "4a2528935ff84914a1829a46fc7bc81f": {
          "model_module": "@jupyter-widgets/base",
          "model_name": "LayoutModel",
          "model_module_version": "1.2.0",
          "state": {
            "_model_module": "@jupyter-widgets/base",
            "_model_module_version": "1.2.0",
            "_model_name": "LayoutModel",
            "_view_count": null,
            "_view_module": "@jupyter-widgets/base",
            "_view_module_version": "1.2.0",
            "_view_name": "LayoutView",
            "align_content": null,
            "align_items": null,
            "align_self": null,
            "border": null,
            "bottom": null,
            "display": null,
            "flex": null,
            "flex_flow": null,
            "grid_area": null,
            "grid_auto_columns": null,
            "grid_auto_flow": null,
            "grid_auto_rows": null,
            "grid_column": null,
            "grid_gap": null,
            "grid_row": null,
            "grid_template_areas": null,
            "grid_template_columns": null,
            "grid_template_rows": null,
            "height": null,
            "justify_content": null,
            "justify_items": null,
            "left": null,
            "margin": null,
            "max_height": null,
            "max_width": null,
            "min_height": null,
            "min_width": null,
            "object_fit": null,
            "object_position": null,
            "order": null,
            "overflow": null,
            "overflow_x": null,
            "overflow_y": null,
            "padding": null,
            "right": null,
            "top": null,
            "visibility": null,
            "width": null
          }
        },
        "5cd582a5771d4d91ae8d3168bd40b350": {
          "model_module": "@jupyter-widgets/controls",
          "model_name": "DescriptionStyleModel",
          "model_module_version": "1.5.0",
          "state": {
            "_model_module": "@jupyter-widgets/controls",
            "_model_module_version": "1.5.0",
            "_model_name": "DescriptionStyleModel",
            "_view_count": null,
            "_view_module": "@jupyter-widgets/base",
            "_view_module_version": "1.2.0",
            "_view_name": "StyleView",
            "description_width": ""
          }
        },
        "ccdce7f266db43d88ec15e27ad1bebf4": {
          "model_module": "@jupyter-widgets/base",
          "model_name": "LayoutModel",
          "model_module_version": "1.2.0",
          "state": {
            "_model_module": "@jupyter-widgets/base",
            "_model_module_version": "1.2.0",
            "_model_name": "LayoutModel",
            "_view_count": null,
            "_view_module": "@jupyter-widgets/base",
            "_view_module_version": "1.2.0",
            "_view_name": "LayoutView",
            "align_content": null,
            "align_items": null,
            "align_self": null,
            "border": null,
            "bottom": null,
            "display": null,
            "flex": null,
            "flex_flow": null,
            "grid_area": null,
            "grid_auto_columns": null,
            "grid_auto_flow": null,
            "grid_auto_rows": null,
            "grid_column": null,
            "grid_gap": null,
            "grid_row": null,
            "grid_template_areas": null,
            "grid_template_columns": null,
            "grid_template_rows": null,
            "height": null,
            "justify_content": null,
            "justify_items": null,
            "left": null,
            "margin": null,
            "max_height": null,
            "max_width": null,
            "min_height": null,
            "min_width": null,
            "object_fit": null,
            "object_position": null,
            "order": null,
            "overflow": null,
            "overflow_x": null,
            "overflow_y": null,
            "padding": null,
            "right": null,
            "top": null,
            "visibility": null,
            "width": null
          }
        },
        "780b24f7bd6641a59cde869df459c986": {
          "model_module": "@jupyter-widgets/controls",
          "model_name": "ProgressStyleModel",
          "model_module_version": "1.5.0",
          "state": {
            "_model_module": "@jupyter-widgets/controls",
            "_model_module_version": "1.5.0",
            "_model_name": "ProgressStyleModel",
            "_view_count": null,
            "_view_module": "@jupyter-widgets/base",
            "_view_module_version": "1.2.0",
            "_view_name": "StyleView",
            "bar_color": null,
            "description_width": ""
          }
        },
        "74f5eb3820f44af19c50745ffb22180b": {
          "model_module": "@jupyter-widgets/base",
          "model_name": "LayoutModel",
          "model_module_version": "1.2.0",
          "state": {
            "_model_module": "@jupyter-widgets/base",
            "_model_module_version": "1.2.0",
            "_model_name": "LayoutModel",
            "_view_count": null,
            "_view_module": "@jupyter-widgets/base",
            "_view_module_version": "1.2.0",
            "_view_name": "LayoutView",
            "align_content": null,
            "align_items": null,
            "align_self": null,
            "border": null,
            "bottom": null,
            "display": null,
            "flex": null,
            "flex_flow": null,
            "grid_area": null,
            "grid_auto_columns": null,
            "grid_auto_flow": null,
            "grid_auto_rows": null,
            "grid_column": null,
            "grid_gap": null,
            "grid_row": null,
            "grid_template_areas": null,
            "grid_template_columns": null,
            "grid_template_rows": null,
            "height": null,
            "justify_content": null,
            "justify_items": null,
            "left": null,
            "margin": null,
            "max_height": null,
            "max_width": null,
            "min_height": null,
            "min_width": null,
            "object_fit": null,
            "object_position": null,
            "order": null,
            "overflow": null,
            "overflow_x": null,
            "overflow_y": null,
            "padding": null,
            "right": null,
            "top": null,
            "visibility": null,
            "width": null
          }
        },
        "26fb4873f13243a3a526b632fc17d6ae": {
          "model_module": "@jupyter-widgets/controls",
          "model_name": "DescriptionStyleModel",
          "model_module_version": "1.5.0",
          "state": {
            "_model_module": "@jupyter-widgets/controls",
            "_model_module_version": "1.5.0",
            "_model_name": "DescriptionStyleModel",
            "_view_count": null,
            "_view_module": "@jupyter-widgets/base",
            "_view_module_version": "1.2.0",
            "_view_name": "StyleView",
            "description_width": ""
          }
        },
        "d58ce165ab4b4a878df0490f71e4483e": {
          "model_module": "@jupyter-widgets/controls",
          "model_name": "HBoxModel",
          "model_module_version": "1.5.0",
          "state": {
            "_dom_classes": [],
            "_model_module": "@jupyter-widgets/controls",
            "_model_module_version": "1.5.0",
            "_model_name": "HBoxModel",
            "_view_count": null,
            "_view_module": "@jupyter-widgets/controls",
            "_view_module_version": "1.5.0",
            "_view_name": "HBoxView",
            "box_style": "",
            "children": [
              "IPY_MODEL_3704ef191ac74a34be2f40ec506b6360",
              "IPY_MODEL_3347d69852b8405183eccbd1596266e0",
              "IPY_MODEL_8af52951ac934433bcd5fdebf7d749fe"
            ],
            "layout": "IPY_MODEL_a5e8cdf943a0481abcb27f50ca33c4bc"
          }
        },
        "3704ef191ac74a34be2f40ec506b6360": {
          "model_module": "@jupyter-widgets/controls",
          "model_name": "HTMLModel",
          "model_module_version": "1.5.0",
          "state": {
            "_dom_classes": [],
            "_model_module": "@jupyter-widgets/controls",
            "_model_module_version": "1.5.0",
            "_model_name": "HTMLModel",
            "_view_count": null,
            "_view_module": "@jupyter-widgets/controls",
            "_view_module_version": "1.5.0",
            "_view_name": "HTMLView",
            "description": "",
            "description_tooltip": null,
            "layout": "IPY_MODEL_0da6cf3198324168a0102091502436e5",
            "placeholder": "​",
            "style": "IPY_MODEL_4b51481dba4f44398b52351eb806343e",
            "value": "config.json: 100%"
          }
        },
        "3347d69852b8405183eccbd1596266e0": {
          "model_module": "@jupyter-widgets/controls",
          "model_name": "FloatProgressModel",
          "model_module_version": "1.5.0",
          "state": {
            "_dom_classes": [],
            "_model_module": "@jupyter-widgets/controls",
            "_model_module_version": "1.5.0",
            "_model_name": "FloatProgressModel",
            "_view_count": null,
            "_view_module": "@jupyter-widgets/controls",
            "_view_module_version": "1.5.0",
            "_view_name": "ProgressView",
            "bar_style": "success",
            "description": "",
            "description_tooltip": null,
            "layout": "IPY_MODEL_556492d2b3e04747889947e276de74c5",
            "max": 804,
            "min": 0,
            "orientation": "horizontal",
            "style": "IPY_MODEL_6beced939f494c8890413f9ffacfa61f",
            "value": 804
          }
        },
        "8af52951ac934433bcd5fdebf7d749fe": {
          "model_module": "@jupyter-widgets/controls",
          "model_name": "HTMLModel",
          "model_module_version": "1.5.0",
          "state": {
            "_dom_classes": [],
            "_model_module": "@jupyter-widgets/controls",
            "_model_module_version": "1.5.0",
            "_model_name": "HTMLModel",
            "_view_count": null,
            "_view_module": "@jupyter-widgets/controls",
            "_view_module_version": "1.5.0",
            "_view_name": "HTMLView",
            "description": "",
            "description_tooltip": null,
            "layout": "IPY_MODEL_c44e1d1b01a9426bb3259d3cf8f0474d",
            "placeholder": "​",
            "style": "IPY_MODEL_cda5b346f0d44a26bef75c7a7f3bddfd",
            "value": " 804/804 [00:00&lt;00:00, 20.4kB/s]"
          }
        },
        "a5e8cdf943a0481abcb27f50ca33c4bc": {
          "model_module": "@jupyter-widgets/base",
          "model_name": "LayoutModel",
          "model_module_version": "1.2.0",
          "state": {
            "_model_module": "@jupyter-widgets/base",
            "_model_module_version": "1.2.0",
            "_model_name": "LayoutModel",
            "_view_count": null,
            "_view_module": "@jupyter-widgets/base",
            "_view_module_version": "1.2.0",
            "_view_name": "LayoutView",
            "align_content": null,
            "align_items": null,
            "align_self": null,
            "border": null,
            "bottom": null,
            "display": null,
            "flex": null,
            "flex_flow": null,
            "grid_area": null,
            "grid_auto_columns": null,
            "grid_auto_flow": null,
            "grid_auto_rows": null,
            "grid_column": null,
            "grid_gap": null,
            "grid_row": null,
            "grid_template_areas": null,
            "grid_template_columns": null,
            "grid_template_rows": null,
            "height": null,
            "justify_content": null,
            "justify_items": null,
            "left": null,
            "margin": null,
            "max_height": null,
            "max_width": null,
            "min_height": null,
            "min_width": null,
            "object_fit": null,
            "object_position": null,
            "order": null,
            "overflow": null,
            "overflow_x": null,
            "overflow_y": null,
            "padding": null,
            "right": null,
            "top": null,
            "visibility": null,
            "width": null
          }
        },
        "0da6cf3198324168a0102091502436e5": {
          "model_module": "@jupyter-widgets/base",
          "model_name": "LayoutModel",
          "model_module_version": "1.2.0",
          "state": {
            "_model_module": "@jupyter-widgets/base",
            "_model_module_version": "1.2.0",
            "_model_name": "LayoutModel",
            "_view_count": null,
            "_view_module": "@jupyter-widgets/base",
            "_view_module_version": "1.2.0",
            "_view_name": "LayoutView",
            "align_content": null,
            "align_items": null,
            "align_self": null,
            "border": null,
            "bottom": null,
            "display": null,
            "flex": null,
            "flex_flow": null,
            "grid_area": null,
            "grid_auto_columns": null,
            "grid_auto_flow": null,
            "grid_auto_rows": null,
            "grid_column": null,
            "grid_gap": null,
            "grid_row": null,
            "grid_template_areas": null,
            "grid_template_columns": null,
            "grid_template_rows": null,
            "height": null,
            "justify_content": null,
            "justify_items": null,
            "left": null,
            "margin": null,
            "max_height": null,
            "max_width": null,
            "min_height": null,
            "min_width": null,
            "object_fit": null,
            "object_position": null,
            "order": null,
            "overflow": null,
            "overflow_x": null,
            "overflow_y": null,
            "padding": null,
            "right": null,
            "top": null,
            "visibility": null,
            "width": null
          }
        },
        "4b51481dba4f44398b52351eb806343e": {
          "model_module": "@jupyter-widgets/controls",
          "model_name": "DescriptionStyleModel",
          "model_module_version": "1.5.0",
          "state": {
            "_model_module": "@jupyter-widgets/controls",
            "_model_module_version": "1.5.0",
            "_model_name": "DescriptionStyleModel",
            "_view_count": null,
            "_view_module": "@jupyter-widgets/base",
            "_view_module_version": "1.2.0",
            "_view_name": "StyleView",
            "description_width": ""
          }
        },
        "556492d2b3e04747889947e276de74c5": {
          "model_module": "@jupyter-widgets/base",
          "model_name": "LayoutModel",
          "model_module_version": "1.2.0",
          "state": {
            "_model_module": "@jupyter-widgets/base",
            "_model_module_version": "1.2.0",
            "_model_name": "LayoutModel",
            "_view_count": null,
            "_view_module": "@jupyter-widgets/base",
            "_view_module_version": "1.2.0",
            "_view_name": "LayoutView",
            "align_content": null,
            "align_items": null,
            "align_self": null,
            "border": null,
            "bottom": null,
            "display": null,
            "flex": null,
            "flex_flow": null,
            "grid_area": null,
            "grid_auto_columns": null,
            "grid_auto_flow": null,
            "grid_auto_rows": null,
            "grid_column": null,
            "grid_gap": null,
            "grid_row": null,
            "grid_template_areas": null,
            "grid_template_columns": null,
            "grid_template_rows": null,
            "height": null,
            "justify_content": null,
            "justify_items": null,
            "left": null,
            "margin": null,
            "max_height": null,
            "max_width": null,
            "min_height": null,
            "min_width": null,
            "object_fit": null,
            "object_position": null,
            "order": null,
            "overflow": null,
            "overflow_x": null,
            "overflow_y": null,
            "padding": null,
            "right": null,
            "top": null,
            "visibility": null,
            "width": null
          }
        },
        "6beced939f494c8890413f9ffacfa61f": {
          "model_module": "@jupyter-widgets/controls",
          "model_name": "ProgressStyleModel",
          "model_module_version": "1.5.0",
          "state": {
            "_model_module": "@jupyter-widgets/controls",
            "_model_module_version": "1.5.0",
            "_model_name": "ProgressStyleModel",
            "_view_count": null,
            "_view_module": "@jupyter-widgets/base",
            "_view_module_version": "1.2.0",
            "_view_name": "StyleView",
            "bar_color": null,
            "description_width": ""
          }
        },
        "c44e1d1b01a9426bb3259d3cf8f0474d": {
          "model_module": "@jupyter-widgets/base",
          "model_name": "LayoutModel",
          "model_module_version": "1.2.0",
          "state": {
            "_model_module": "@jupyter-widgets/base",
            "_model_module_version": "1.2.0",
            "_model_name": "LayoutModel",
            "_view_count": null,
            "_view_module": "@jupyter-widgets/base",
            "_view_module_version": "1.2.0",
            "_view_name": "LayoutView",
            "align_content": null,
            "align_items": null,
            "align_self": null,
            "border": null,
            "bottom": null,
            "display": null,
            "flex": null,
            "flex_flow": null,
            "grid_area": null,
            "grid_auto_columns": null,
            "grid_auto_flow": null,
            "grid_auto_rows": null,
            "grid_column": null,
            "grid_gap": null,
            "grid_row": null,
            "grid_template_areas": null,
            "grid_template_columns": null,
            "grid_template_rows": null,
            "height": null,
            "justify_content": null,
            "justify_items": null,
            "left": null,
            "margin": null,
            "max_height": null,
            "max_width": null,
            "min_height": null,
            "min_width": null,
            "object_fit": null,
            "object_position": null,
            "order": null,
            "overflow": null,
            "overflow_x": null,
            "overflow_y": null,
            "padding": null,
            "right": null,
            "top": null,
            "visibility": null,
            "width": null
          }
        },
        "cda5b346f0d44a26bef75c7a7f3bddfd": {
          "model_module": "@jupyter-widgets/controls",
          "model_name": "DescriptionStyleModel",
          "model_module_version": "1.5.0",
          "state": {
            "_model_module": "@jupyter-widgets/controls",
            "_model_module_version": "1.5.0",
            "_model_name": "DescriptionStyleModel",
            "_view_count": null,
            "_view_module": "@jupyter-widgets/base",
            "_view_module_version": "1.2.0",
            "_view_name": "StyleView",
            "description_width": ""
          }
        },
        "157724d67c8b47479a07f3a2057fa0c4": {
          "model_module": "@jupyter-widgets/controls",
          "model_name": "HBoxModel",
          "model_module_version": "1.5.0",
          "state": {
            "_dom_classes": [],
            "_model_module": "@jupyter-widgets/controls",
            "_model_module_version": "1.5.0",
            "_model_name": "HBoxModel",
            "_view_count": null,
            "_view_module": "@jupyter-widgets/controls",
            "_view_module_version": "1.5.0",
            "_view_name": "HBoxView",
            "box_style": "",
            "children": [
              "IPY_MODEL_de3f0cc8a38a40a6a7115428c2fa8fb0",
              "IPY_MODEL_84a3de39af5d4a64993e706038996c08",
              "IPY_MODEL_71a65974842749369cd89e4bf15283c7"
            ],
            "layout": "IPY_MODEL_df47d10d38b343b6b3edcc3f7205c44b"
          }
        },
        "de3f0cc8a38a40a6a7115428c2fa8fb0": {
          "model_module": "@jupyter-widgets/controls",
          "model_name": "HTMLModel",
          "model_module_version": "1.5.0",
          "state": {
            "_dom_classes": [],
            "_model_module": "@jupyter-widgets/controls",
            "_model_module_version": "1.5.0",
            "_model_name": "HTMLModel",
            "_view_count": null,
            "_view_module": "@jupyter-widgets/controls",
            "_view_module_version": "1.5.0",
            "_view_name": "HTMLView",
            "description": "",
            "description_tooltip": null,
            "layout": "IPY_MODEL_77b818d1dc6d4d77846f31916d11a381",
            "placeholder": "​",
            "style": "IPY_MODEL_58e40b68dd3d4d998e31a638568f9ce3",
            "value": "vocab.txt: 100%"
          }
        },
        "84a3de39af5d4a64993e706038996c08": {
          "model_module": "@jupyter-widgets/controls",
          "model_name": "FloatProgressModel",
          "model_module_version": "1.5.0",
          "state": {
            "_dom_classes": [],
            "_model_module": "@jupyter-widgets/controls",
            "_model_module_version": "1.5.0",
            "_model_name": "FloatProgressModel",
            "_view_count": null,
            "_view_module": "@jupyter-widgets/controls",
            "_view_module_version": "1.5.0",
            "_view_name": "ProgressView",
            "bar_style": "success",
            "description": "",
            "description_tooltip": null,
            "layout": "IPY_MODEL_fd4e15f1118044dcbc59a8863ca39395",
            "max": 5220781,
            "min": 0,
            "orientation": "horizontal",
            "style": "IPY_MODEL_b3c6e7961e01407199f22ef90db3ef22",
            "value": 5220781
          }
        },
        "71a65974842749369cd89e4bf15283c7": {
          "model_module": "@jupyter-widgets/controls",
          "model_name": "HTMLModel",
          "model_module_version": "1.5.0",
          "state": {
            "_dom_classes": [],
            "_model_module": "@jupyter-widgets/controls",
            "_model_module_version": "1.5.0",
            "_model_name": "HTMLModel",
            "_view_count": null,
            "_view_module": "@jupyter-widgets/controls",
            "_view_module_version": "1.5.0",
            "_view_name": "HTMLView",
            "description": "",
            "description_tooltip": null,
            "layout": "IPY_MODEL_463c88526f5f44ff8d01d4cc3509e793",
            "placeholder": "​",
            "style": "IPY_MODEL_181c70560dca4081b33f725c46c3bb81",
            "value": " 5.22M/5.22M [00:00&lt;00:00, 44.3MB/s]"
          }
        },
        "df47d10d38b343b6b3edcc3f7205c44b": {
          "model_module": "@jupyter-widgets/base",
          "model_name": "LayoutModel",
          "model_module_version": "1.2.0",
          "state": {
            "_model_module": "@jupyter-widgets/base",
            "_model_module_version": "1.2.0",
            "_model_name": "LayoutModel",
            "_view_count": null,
            "_view_module": "@jupyter-widgets/base",
            "_view_module_version": "1.2.0",
            "_view_name": "LayoutView",
            "align_content": null,
            "align_items": null,
            "align_self": null,
            "border": null,
            "bottom": null,
            "display": null,
            "flex": null,
            "flex_flow": null,
            "grid_area": null,
            "grid_auto_columns": null,
            "grid_auto_flow": null,
            "grid_auto_rows": null,
            "grid_column": null,
            "grid_gap": null,
            "grid_row": null,
            "grid_template_areas": null,
            "grid_template_columns": null,
            "grid_template_rows": null,
            "height": null,
            "justify_content": null,
            "justify_items": null,
            "left": null,
            "margin": null,
            "max_height": null,
            "max_width": null,
            "min_height": null,
            "min_width": null,
            "object_fit": null,
            "object_position": null,
            "order": null,
            "overflow": null,
            "overflow_x": null,
            "overflow_y": null,
            "padding": null,
            "right": null,
            "top": null,
            "visibility": null,
            "width": null
          }
        },
        "77b818d1dc6d4d77846f31916d11a381": {
          "model_module": "@jupyter-widgets/base",
          "model_name": "LayoutModel",
          "model_module_version": "1.2.0",
          "state": {
            "_model_module": "@jupyter-widgets/base",
            "_model_module_version": "1.2.0",
            "_model_name": "LayoutModel",
            "_view_count": null,
            "_view_module": "@jupyter-widgets/base",
            "_view_module_version": "1.2.0",
            "_view_name": "LayoutView",
            "align_content": null,
            "align_items": null,
            "align_self": null,
            "border": null,
            "bottom": null,
            "display": null,
            "flex": null,
            "flex_flow": null,
            "grid_area": null,
            "grid_auto_columns": null,
            "grid_auto_flow": null,
            "grid_auto_rows": null,
            "grid_column": null,
            "grid_gap": null,
            "grid_row": null,
            "grid_template_areas": null,
            "grid_template_columns": null,
            "grid_template_rows": null,
            "height": null,
            "justify_content": null,
            "justify_items": null,
            "left": null,
            "margin": null,
            "max_height": null,
            "max_width": null,
            "min_height": null,
            "min_width": null,
            "object_fit": null,
            "object_position": null,
            "order": null,
            "overflow": null,
            "overflow_x": null,
            "overflow_y": null,
            "padding": null,
            "right": null,
            "top": null,
            "visibility": null,
            "width": null
          }
        },
        "58e40b68dd3d4d998e31a638568f9ce3": {
          "model_module": "@jupyter-widgets/controls",
          "model_name": "DescriptionStyleModel",
          "model_module_version": "1.5.0",
          "state": {
            "_model_module": "@jupyter-widgets/controls",
            "_model_module_version": "1.5.0",
            "_model_name": "DescriptionStyleModel",
            "_view_count": null,
            "_view_module": "@jupyter-widgets/base",
            "_view_module_version": "1.2.0",
            "_view_name": "StyleView",
            "description_width": ""
          }
        },
        "fd4e15f1118044dcbc59a8863ca39395": {
          "model_module": "@jupyter-widgets/base",
          "model_name": "LayoutModel",
          "model_module_version": "1.2.0",
          "state": {
            "_model_module": "@jupyter-widgets/base",
            "_model_module_version": "1.2.0",
            "_model_name": "LayoutModel",
            "_view_count": null,
            "_view_module": "@jupyter-widgets/base",
            "_view_module_version": "1.2.0",
            "_view_name": "LayoutView",
            "align_content": null,
            "align_items": null,
            "align_self": null,
            "border": null,
            "bottom": null,
            "display": null,
            "flex": null,
            "flex_flow": null,
            "grid_area": null,
            "grid_auto_columns": null,
            "grid_auto_flow": null,
            "grid_auto_rows": null,
            "grid_column": null,
            "grid_gap": null,
            "grid_row": null,
            "grid_template_areas": null,
            "grid_template_columns": null,
            "grid_template_rows": null,
            "height": null,
            "justify_content": null,
            "justify_items": null,
            "left": null,
            "margin": null,
            "max_height": null,
            "max_width": null,
            "min_height": null,
            "min_width": null,
            "object_fit": null,
            "object_position": null,
            "order": null,
            "overflow": null,
            "overflow_x": null,
            "overflow_y": null,
            "padding": null,
            "right": null,
            "top": null,
            "visibility": null,
            "width": null
          }
        },
        "b3c6e7961e01407199f22ef90db3ef22": {
          "model_module": "@jupyter-widgets/controls",
          "model_name": "ProgressStyleModel",
          "model_module_version": "1.5.0",
          "state": {
            "_model_module": "@jupyter-widgets/controls",
            "_model_module_version": "1.5.0",
            "_model_name": "ProgressStyleModel",
            "_view_count": null,
            "_view_module": "@jupyter-widgets/base",
            "_view_module_version": "1.2.0",
            "_view_name": "StyleView",
            "bar_color": null,
            "description_width": ""
          }
        },
        "463c88526f5f44ff8d01d4cc3509e793": {
          "model_module": "@jupyter-widgets/base",
          "model_name": "LayoutModel",
          "model_module_version": "1.2.0",
          "state": {
            "_model_module": "@jupyter-widgets/base",
            "_model_module_version": "1.2.0",
            "_model_name": "LayoutModel",
            "_view_count": null,
            "_view_module": "@jupyter-widgets/base",
            "_view_module_version": "1.2.0",
            "_view_name": "LayoutView",
            "align_content": null,
            "align_items": null,
            "align_self": null,
            "border": null,
            "bottom": null,
            "display": null,
            "flex": null,
            "flex_flow": null,
            "grid_area": null,
            "grid_auto_columns": null,
            "grid_auto_flow": null,
            "grid_auto_rows": null,
            "grid_column": null,
            "grid_gap": null,
            "grid_row": null,
            "grid_template_areas": null,
            "grid_template_columns": null,
            "grid_template_rows": null,
            "height": null,
            "justify_content": null,
            "justify_items": null,
            "left": null,
            "margin": null,
            "max_height": null,
            "max_width": null,
            "min_height": null,
            "min_width": null,
            "object_fit": null,
            "object_position": null,
            "order": null,
            "overflow": null,
            "overflow_x": null,
            "overflow_y": null,
            "padding": null,
            "right": null,
            "top": null,
            "visibility": null,
            "width": null
          }
        },
        "181c70560dca4081b33f725c46c3bb81": {
          "model_module": "@jupyter-widgets/controls",
          "model_name": "DescriptionStyleModel",
          "model_module_version": "1.5.0",
          "state": {
            "_model_module": "@jupyter-widgets/controls",
            "_model_module_version": "1.5.0",
            "_model_name": "DescriptionStyleModel",
            "_view_count": null,
            "_view_module": "@jupyter-widgets/base",
            "_view_module_version": "1.2.0",
            "_view_name": "StyleView",
            "description_width": ""
          }
        },
        "f9d4763fcb5049708ed1cf6b0a425236": {
          "model_module": "@jupyter-widgets/controls",
          "model_name": "HBoxModel",
          "model_module_version": "1.5.0",
          "state": {
            "_dom_classes": [],
            "_model_module": "@jupyter-widgets/controls",
            "_model_module_version": "1.5.0",
            "_model_name": "HBoxModel",
            "_view_count": null,
            "_view_module": "@jupyter-widgets/controls",
            "_view_module_version": "1.5.0",
            "_view_name": "HBoxView",
            "box_style": "",
            "children": [
              "IPY_MODEL_0fe2195e85de45769036cdb07b34f92f",
              "IPY_MODEL_177993a31dde46308f740400438e9d67",
              "IPY_MODEL_02d4344bfaf94032be3e87801c65ab9c"
            ],
            "layout": "IPY_MODEL_6415d77e4920442bb44b8ae1fbb7eb2f"
          }
        },
        "0fe2195e85de45769036cdb07b34f92f": {
          "model_module": "@jupyter-widgets/controls",
          "model_name": "HTMLModel",
          "model_module_version": "1.5.0",
          "state": {
            "_dom_classes": [],
            "_model_module": "@jupyter-widgets/controls",
            "_model_module_version": "1.5.0",
            "_model_name": "HTMLModel",
            "_view_count": null,
            "_view_module": "@jupyter-widgets/controls",
            "_view_module_version": "1.5.0",
            "_view_name": "HTMLView",
            "description": "",
            "description_tooltip": null,
            "layout": "IPY_MODEL_e41c5d7986f440a89887659a06ca172a",
            "placeholder": "​",
            "style": "IPY_MODEL_56e00f32471f4151964eb70ef0e8b526",
            "value": "tokenizer.json: 100%"
          }
        },
        "177993a31dde46308f740400438e9d67": {
          "model_module": "@jupyter-widgets/controls",
          "model_name": "FloatProgressModel",
          "model_module_version": "1.5.0",
          "state": {
            "_dom_classes": [],
            "_model_module": "@jupyter-widgets/controls",
            "_model_module_version": "1.5.0",
            "_model_name": "FloatProgressModel",
            "_view_count": null,
            "_view_module": "@jupyter-widgets/controls",
            "_view_module_version": "1.5.0",
            "_view_name": "ProgressView",
            "bar_style": "success",
            "description": "",
            "description_tooltip": null,
            "layout": "IPY_MODEL_12e0ac8ed77d478083f75e4f84412012",
            "max": 9621556,
            "min": 0,
            "orientation": "horizontal",
            "style": "IPY_MODEL_3d17297a266e4ba7a24cccca403ed51f",
            "value": 9621556
          }
        },
        "02d4344bfaf94032be3e87801c65ab9c": {
          "model_module": "@jupyter-widgets/controls",
          "model_name": "HTMLModel",
          "model_module_version": "1.5.0",
          "state": {
            "_dom_classes": [],
            "_model_module": "@jupyter-widgets/controls",
            "_model_module_version": "1.5.0",
            "_model_name": "HTMLModel",
            "_view_count": null,
            "_view_module": "@jupyter-widgets/controls",
            "_view_module_version": "1.5.0",
            "_view_name": "HTMLView",
            "description": "",
            "description_tooltip": null,
            "layout": "IPY_MODEL_f913c06c10954a15bf623878f5cb71c0",
            "placeholder": "​",
            "style": "IPY_MODEL_985e72fe248a4bf8ba9f025f3d8b31ae",
            "value": " 9.62M/9.62M [00:00&lt;00:00, 50.1MB/s]"
          }
        },
        "6415d77e4920442bb44b8ae1fbb7eb2f": {
          "model_module": "@jupyter-widgets/base",
          "model_name": "LayoutModel",
          "model_module_version": "1.2.0",
          "state": {
            "_model_module": "@jupyter-widgets/base",
            "_model_module_version": "1.2.0",
            "_model_name": "LayoutModel",
            "_view_count": null,
            "_view_module": "@jupyter-widgets/base",
            "_view_module_version": "1.2.0",
            "_view_name": "LayoutView",
            "align_content": null,
            "align_items": null,
            "align_self": null,
            "border": null,
            "bottom": null,
            "display": null,
            "flex": null,
            "flex_flow": null,
            "grid_area": null,
            "grid_auto_columns": null,
            "grid_auto_flow": null,
            "grid_auto_rows": null,
            "grid_column": null,
            "grid_gap": null,
            "grid_row": null,
            "grid_template_areas": null,
            "grid_template_columns": null,
            "grid_template_rows": null,
            "height": null,
            "justify_content": null,
            "justify_items": null,
            "left": null,
            "margin": null,
            "max_height": null,
            "max_width": null,
            "min_height": null,
            "min_width": null,
            "object_fit": null,
            "object_position": null,
            "order": null,
            "overflow": null,
            "overflow_x": null,
            "overflow_y": null,
            "padding": null,
            "right": null,
            "top": null,
            "visibility": null,
            "width": null
          }
        },
        "e41c5d7986f440a89887659a06ca172a": {
          "model_module": "@jupyter-widgets/base",
          "model_name": "LayoutModel",
          "model_module_version": "1.2.0",
          "state": {
            "_model_module": "@jupyter-widgets/base",
            "_model_module_version": "1.2.0",
            "_model_name": "LayoutModel",
            "_view_count": null,
            "_view_module": "@jupyter-widgets/base",
            "_view_module_version": "1.2.0",
            "_view_name": "LayoutView",
            "align_content": null,
            "align_items": null,
            "align_self": null,
            "border": null,
            "bottom": null,
            "display": null,
            "flex": null,
            "flex_flow": null,
            "grid_area": null,
            "grid_auto_columns": null,
            "grid_auto_flow": null,
            "grid_auto_rows": null,
            "grid_column": null,
            "grid_gap": null,
            "grid_row": null,
            "grid_template_areas": null,
            "grid_template_columns": null,
            "grid_template_rows": null,
            "height": null,
            "justify_content": null,
            "justify_items": null,
            "left": null,
            "margin": null,
            "max_height": null,
            "max_width": null,
            "min_height": null,
            "min_width": null,
            "object_fit": null,
            "object_position": null,
            "order": null,
            "overflow": null,
            "overflow_x": null,
            "overflow_y": null,
            "padding": null,
            "right": null,
            "top": null,
            "visibility": null,
            "width": null
          }
        },
        "56e00f32471f4151964eb70ef0e8b526": {
          "model_module": "@jupyter-widgets/controls",
          "model_name": "DescriptionStyleModel",
          "model_module_version": "1.5.0",
          "state": {
            "_model_module": "@jupyter-widgets/controls",
            "_model_module_version": "1.5.0",
            "_model_name": "DescriptionStyleModel",
            "_view_count": null,
            "_view_module": "@jupyter-widgets/base",
            "_view_module_version": "1.2.0",
            "_view_name": "StyleView",
            "description_width": ""
          }
        },
        "12e0ac8ed77d478083f75e4f84412012": {
          "model_module": "@jupyter-widgets/base",
          "model_name": "LayoutModel",
          "model_module_version": "1.2.0",
          "state": {
            "_model_module": "@jupyter-widgets/base",
            "_model_module_version": "1.2.0",
            "_model_name": "LayoutModel",
            "_view_count": null,
            "_view_module": "@jupyter-widgets/base",
            "_view_module_version": "1.2.0",
            "_view_name": "LayoutView",
            "align_content": null,
            "align_items": null,
            "align_self": null,
            "border": null,
            "bottom": null,
            "display": null,
            "flex": null,
            "flex_flow": null,
            "grid_area": null,
            "grid_auto_columns": null,
            "grid_auto_flow": null,
            "grid_auto_rows": null,
            "grid_column": null,
            "grid_gap": null,
            "grid_row": null,
            "grid_template_areas": null,
            "grid_template_columns": null,
            "grid_template_rows": null,
            "height": null,
            "justify_content": null,
            "justify_items": null,
            "left": null,
            "margin": null,
            "max_height": null,
            "max_width": null,
            "min_height": null,
            "min_width": null,
            "object_fit": null,
            "object_position": null,
            "order": null,
            "overflow": null,
            "overflow_x": null,
            "overflow_y": null,
            "padding": null,
            "right": null,
            "top": null,
            "visibility": null,
            "width": null
          }
        },
        "3d17297a266e4ba7a24cccca403ed51f": {
          "model_module": "@jupyter-widgets/controls",
          "model_name": "ProgressStyleModel",
          "model_module_version": "1.5.0",
          "state": {
            "_model_module": "@jupyter-widgets/controls",
            "_model_module_version": "1.5.0",
            "_model_name": "ProgressStyleModel",
            "_view_count": null,
            "_view_module": "@jupyter-widgets/base",
            "_view_module_version": "1.2.0",
            "_view_name": "StyleView",
            "bar_color": null,
            "description_width": ""
          }
        },
        "f913c06c10954a15bf623878f5cb71c0": {
          "model_module": "@jupyter-widgets/base",
          "model_name": "LayoutModel",
          "model_module_version": "1.2.0",
          "state": {
            "_model_module": "@jupyter-widgets/base",
            "_model_module_version": "1.2.0",
            "_model_name": "LayoutModel",
            "_view_count": null,
            "_view_module": "@jupyter-widgets/base",
            "_view_module_version": "1.2.0",
            "_view_name": "LayoutView",
            "align_content": null,
            "align_items": null,
            "align_self": null,
            "border": null,
            "bottom": null,
            "display": null,
            "flex": null,
            "flex_flow": null,
            "grid_area": null,
            "grid_auto_columns": null,
            "grid_auto_flow": null,
            "grid_auto_rows": null,
            "grid_column": null,
            "grid_gap": null,
            "grid_row": null,
            "grid_template_areas": null,
            "grid_template_columns": null,
            "grid_template_rows": null,
            "height": null,
            "justify_content": null,
            "justify_items": null,
            "left": null,
            "margin": null,
            "max_height": null,
            "max_width": null,
            "min_height": null,
            "min_width": null,
            "object_fit": null,
            "object_position": null,
            "order": null,
            "overflow": null,
            "overflow_x": null,
            "overflow_y": null,
            "padding": null,
            "right": null,
            "top": null,
            "visibility": null,
            "width": null
          }
        },
        "985e72fe248a4bf8ba9f025f3d8b31ae": {
          "model_module": "@jupyter-widgets/controls",
          "model_name": "DescriptionStyleModel",
          "model_module_version": "1.5.0",
          "state": {
            "_model_module": "@jupyter-widgets/controls",
            "_model_module_version": "1.5.0",
            "_model_name": "DescriptionStyleModel",
            "_view_count": null,
            "_view_module": "@jupyter-widgets/base",
            "_view_module_version": "1.2.0",
            "_view_name": "StyleView",
            "description_width": ""
          }
        },
        "ce51238a3e1f4e0f9fab169ee77fa723": {
          "model_module": "@jupyter-widgets/controls",
          "model_name": "HBoxModel",
          "model_module_version": "1.5.0",
          "state": {
            "_dom_classes": [],
            "_model_module": "@jupyter-widgets/controls",
            "_model_module_version": "1.5.0",
            "_model_name": "HBoxModel",
            "_view_count": null,
            "_view_module": "@jupyter-widgets/controls",
            "_view_module_version": "1.5.0",
            "_view_name": "HBoxView",
            "box_style": "",
            "children": [
              "IPY_MODEL_f9922952ae24499cbdb9cd8239cf9af5",
              "IPY_MODEL_5aee9cc189c94950a6938d23269ba7ee",
              "IPY_MODEL_a32254567b4a43c8b127f73427ab6a62"
            ],
            "layout": "IPY_MODEL_72fba391b44842e7bebfd8ffbe513e1e"
          }
        },
        "f9922952ae24499cbdb9cd8239cf9af5": {
          "model_module": "@jupyter-widgets/controls",
          "model_name": "HTMLModel",
          "model_module_version": "1.5.0",
          "state": {
            "_dom_classes": [],
            "_model_module": "@jupyter-widgets/controls",
            "_model_module_version": "1.5.0",
            "_model_name": "HTMLModel",
            "_view_count": null,
            "_view_module": "@jupyter-widgets/controls",
            "_view_module_version": "1.5.0",
            "_view_name": "HTMLView",
            "description": "",
            "description_tooltip": null,
            "layout": "IPY_MODEL_a1b0086f10e443aba6df3a1aebdfea5d",
            "placeholder": "​",
            "style": "IPY_MODEL_a4bebd554db747b98c0250999926c1e5",
            "value": "special_tokens_map.json: 100%"
          }
        },
        "5aee9cc189c94950a6938d23269ba7ee": {
          "model_module": "@jupyter-widgets/controls",
          "model_name": "FloatProgressModel",
          "model_module_version": "1.5.0",
          "state": {
            "_dom_classes": [],
            "_model_module": "@jupyter-widgets/controls",
            "_model_module_version": "1.5.0",
            "_model_name": "FloatProgressModel",
            "_view_count": null,
            "_view_module": "@jupyter-widgets/controls",
            "_view_module_version": "1.5.0",
            "_view_name": "ProgressView",
            "bar_style": "success",
            "description": "",
            "description_tooltip": null,
            "layout": "IPY_MODEL_79fec09858c24570984f26438ed6f845",
            "max": 112,
            "min": 0,
            "orientation": "horizontal",
            "style": "IPY_MODEL_b80b00cf2b1248da8bbdf9d427f39805",
            "value": 112
          }
        },
        "a32254567b4a43c8b127f73427ab6a62": {
          "model_module": "@jupyter-widgets/controls",
          "model_name": "HTMLModel",
          "model_module_version": "1.5.0",
          "state": {
            "_dom_classes": [],
            "_model_module": "@jupyter-widgets/controls",
            "_model_module_version": "1.5.0",
            "_model_name": "HTMLModel",
            "_view_count": null,
            "_view_module": "@jupyter-widgets/controls",
            "_view_module_version": "1.5.0",
            "_view_name": "HTMLView",
            "description": "",
            "description_tooltip": null,
            "layout": "IPY_MODEL_01c78cff57ac44c990823d85fece336e",
            "placeholder": "​",
            "style": "IPY_MODEL_f8e372817d1a47488747741d147c1756",
            "value": " 112/112 [00:00&lt;00:00, 2.88kB/s]"
          }
        },
        "72fba391b44842e7bebfd8ffbe513e1e": {
          "model_module": "@jupyter-widgets/base",
          "model_name": "LayoutModel",
          "model_module_version": "1.2.0",
          "state": {
            "_model_module": "@jupyter-widgets/base",
            "_model_module_version": "1.2.0",
            "_model_name": "LayoutModel",
            "_view_count": null,
            "_view_module": "@jupyter-widgets/base",
            "_view_module_version": "1.2.0",
            "_view_name": "LayoutView",
            "align_content": null,
            "align_items": null,
            "align_self": null,
            "border": null,
            "bottom": null,
            "display": null,
            "flex": null,
            "flex_flow": null,
            "grid_area": null,
            "grid_auto_columns": null,
            "grid_auto_flow": null,
            "grid_auto_rows": null,
            "grid_column": null,
            "grid_gap": null,
            "grid_row": null,
            "grid_template_areas": null,
            "grid_template_columns": null,
            "grid_template_rows": null,
            "height": null,
            "justify_content": null,
            "justify_items": null,
            "left": null,
            "margin": null,
            "max_height": null,
            "max_width": null,
            "min_height": null,
            "min_width": null,
            "object_fit": null,
            "object_position": null,
            "order": null,
            "overflow": null,
            "overflow_x": null,
            "overflow_y": null,
            "padding": null,
            "right": null,
            "top": null,
            "visibility": null,
            "width": null
          }
        },
        "a1b0086f10e443aba6df3a1aebdfea5d": {
          "model_module": "@jupyter-widgets/base",
          "model_name": "LayoutModel",
          "model_module_version": "1.2.0",
          "state": {
            "_model_module": "@jupyter-widgets/base",
            "_model_module_version": "1.2.0",
            "_model_name": "LayoutModel",
            "_view_count": null,
            "_view_module": "@jupyter-widgets/base",
            "_view_module_version": "1.2.0",
            "_view_name": "LayoutView",
            "align_content": null,
            "align_items": null,
            "align_self": null,
            "border": null,
            "bottom": null,
            "display": null,
            "flex": null,
            "flex_flow": null,
            "grid_area": null,
            "grid_auto_columns": null,
            "grid_auto_flow": null,
            "grid_auto_rows": null,
            "grid_column": null,
            "grid_gap": null,
            "grid_row": null,
            "grid_template_areas": null,
            "grid_template_columns": null,
            "grid_template_rows": null,
            "height": null,
            "justify_content": null,
            "justify_items": null,
            "left": null,
            "margin": null,
            "max_height": null,
            "max_width": null,
            "min_height": null,
            "min_width": null,
            "object_fit": null,
            "object_position": null,
            "order": null,
            "overflow": null,
            "overflow_x": null,
            "overflow_y": null,
            "padding": null,
            "right": null,
            "top": null,
            "visibility": null,
            "width": null
          }
        },
        "a4bebd554db747b98c0250999926c1e5": {
          "model_module": "@jupyter-widgets/controls",
          "model_name": "DescriptionStyleModel",
          "model_module_version": "1.5.0",
          "state": {
            "_model_module": "@jupyter-widgets/controls",
            "_model_module_version": "1.5.0",
            "_model_name": "DescriptionStyleModel",
            "_view_count": null,
            "_view_module": "@jupyter-widgets/base",
            "_view_module_version": "1.2.0",
            "_view_name": "StyleView",
            "description_width": ""
          }
        },
        "79fec09858c24570984f26438ed6f845": {
          "model_module": "@jupyter-widgets/base",
          "model_name": "LayoutModel",
          "model_module_version": "1.2.0",
          "state": {
            "_model_module": "@jupyter-widgets/base",
            "_model_module_version": "1.2.0",
            "_model_name": "LayoutModel",
            "_view_count": null,
            "_view_module": "@jupyter-widgets/base",
            "_view_module_version": "1.2.0",
            "_view_name": "LayoutView",
            "align_content": null,
            "align_items": null,
            "align_self": null,
            "border": null,
            "bottom": null,
            "display": null,
            "flex": null,
            "flex_flow": null,
            "grid_area": null,
            "grid_auto_columns": null,
            "grid_auto_flow": null,
            "grid_auto_rows": null,
            "grid_column": null,
            "grid_gap": null,
            "grid_row": null,
            "grid_template_areas": null,
            "grid_template_columns": null,
            "grid_template_rows": null,
            "height": null,
            "justify_content": null,
            "justify_items": null,
            "left": null,
            "margin": null,
            "max_height": null,
            "max_width": null,
            "min_height": null,
            "min_width": null,
            "object_fit": null,
            "object_position": null,
            "order": null,
            "overflow": null,
            "overflow_x": null,
            "overflow_y": null,
            "padding": null,
            "right": null,
            "top": null,
            "visibility": null,
            "width": null
          }
        },
        "b80b00cf2b1248da8bbdf9d427f39805": {
          "model_module": "@jupyter-widgets/controls",
          "model_name": "ProgressStyleModel",
          "model_module_version": "1.5.0",
          "state": {
            "_model_module": "@jupyter-widgets/controls",
            "_model_module_version": "1.5.0",
            "_model_name": "ProgressStyleModel",
            "_view_count": null,
            "_view_module": "@jupyter-widgets/base",
            "_view_module_version": "1.2.0",
            "_view_name": "StyleView",
            "bar_color": null,
            "description_width": ""
          }
        },
        "01c78cff57ac44c990823d85fece336e": {
          "model_module": "@jupyter-widgets/base",
          "model_name": "LayoutModel",
          "model_module_version": "1.2.0",
          "state": {
            "_model_module": "@jupyter-widgets/base",
            "_model_module_version": "1.2.0",
            "_model_name": "LayoutModel",
            "_view_count": null,
            "_view_module": "@jupyter-widgets/base",
            "_view_module_version": "1.2.0",
            "_view_name": "LayoutView",
            "align_content": null,
            "align_items": null,
            "align_self": null,
            "border": null,
            "bottom": null,
            "display": null,
            "flex": null,
            "flex_flow": null,
            "grid_area": null,
            "grid_auto_columns": null,
            "grid_auto_flow": null,
            "grid_auto_rows": null,
            "grid_column": null,
            "grid_gap": null,
            "grid_row": null,
            "grid_template_areas": null,
            "grid_template_columns": null,
            "grid_template_rows": null,
            "height": null,
            "justify_content": null,
            "justify_items": null,
            "left": null,
            "margin": null,
            "max_height": null,
            "max_width": null,
            "min_height": null,
            "min_width": null,
            "object_fit": null,
            "object_position": null,
            "order": null,
            "overflow": null,
            "overflow_x": null,
            "overflow_y": null,
            "padding": null,
            "right": null,
            "top": null,
            "visibility": null,
            "width": null
          }
        },
        "f8e372817d1a47488747741d147c1756": {
          "model_module": "@jupyter-widgets/controls",
          "model_name": "DescriptionStyleModel",
          "model_module_version": "1.5.0",
          "state": {
            "_model_module": "@jupyter-widgets/controls",
            "_model_module_version": "1.5.0",
            "_model_name": "DescriptionStyleModel",
            "_view_count": null,
            "_view_module": "@jupyter-widgets/base",
            "_view_module_version": "1.2.0",
            "_view_name": "StyleView",
            "description_width": ""
          }
        },
        "1060fe9e00a5498baa79acf4512afcc3": {
          "model_module": "@jupyter-widgets/controls",
          "model_name": "HBoxModel",
          "model_module_version": "1.5.0",
          "state": {
            "_dom_classes": [],
            "_model_module": "@jupyter-widgets/controls",
            "_model_module_version": "1.5.0",
            "_model_name": "HBoxModel",
            "_view_count": null,
            "_view_module": "@jupyter-widgets/controls",
            "_view_module_version": "1.5.0",
            "_view_name": "HBoxView",
            "box_style": "",
            "children": [
              "IPY_MODEL_c80cc45b3ddf4a3abbe08cdec585920c",
              "IPY_MODEL_7403ac3336824057ac874e284ab12158",
              "IPY_MODEL_e2e5ccd8cb164c68a7f5920c3a5b37ee"
            ],
            "layout": "IPY_MODEL_fd5ae66c57164434ac9dd93c6c4e737d"
          }
        },
        "c80cc45b3ddf4a3abbe08cdec585920c": {
          "model_module": "@jupyter-widgets/controls",
          "model_name": "HTMLModel",
          "model_module_version": "1.5.0",
          "state": {
            "_dom_classes": [],
            "_model_module": "@jupyter-widgets/controls",
            "_model_module_version": "1.5.0",
            "_model_name": "HTMLModel",
            "_view_count": null,
            "_view_module": "@jupyter-widgets/controls",
            "_view_module_version": "1.5.0",
            "_view_name": "HTMLView",
            "description": "",
            "description_tooltip": null,
            "layout": "IPY_MODEL_ee2e33018bca4c6caa4136a3c2e606e5",
            "placeholder": "​",
            "style": "IPY_MODEL_7fdd2963642c409cbcd3b84cf0464d34",
            "value": "pytorch_model.bin: 100%"
          }
        },
        "7403ac3336824057ac874e284ab12158": {
          "model_module": "@jupyter-widgets/controls",
          "model_name": "FloatProgressModel",
          "model_module_version": "1.5.0",
          "state": {
            "_dom_classes": [],
            "_model_module": "@jupyter-widgets/controls",
            "_model_module_version": "1.5.0",
            "_model_name": "FloatProgressModel",
            "_view_count": null,
            "_view_module": "@jupyter-widgets/controls",
            "_view_module_version": "1.5.0",
            "_view_name": "ProgressView",
            "bar_style": "success",
            "description": "",
            "description_tooltip": null,
            "layout": "IPY_MODEL_b739ee0dccc948e3a3f39572d1458ef2",
            "max": 1883785969,
            "min": 0,
            "orientation": "horizontal",
            "style": "IPY_MODEL_5a67b1c4987d46d498ee4f45700e3861",
            "value": 1883785969
          }
        },
        "e2e5ccd8cb164c68a7f5920c3a5b37ee": {
          "model_module": "@jupyter-widgets/controls",
          "model_name": "HTMLModel",
          "model_module_version": "1.5.0",
          "state": {
            "_dom_classes": [],
            "_model_module": "@jupyter-widgets/controls",
            "_model_module_version": "1.5.0",
            "_model_name": "HTMLModel",
            "_view_count": null,
            "_view_module": "@jupyter-widgets/controls",
            "_view_module_version": "1.5.0",
            "_view_name": "HTMLView",
            "description": "",
            "description_tooltip": null,
            "layout": "IPY_MODEL_0e80cc7e6a1540608fc3aec90e483e6d",
            "placeholder": "​",
            "style": "IPY_MODEL_d541ceba7d0d4b9f8449af08bc7366a9",
            "value": " 1.88G/1.88G [00:19&lt;00:00, 93.9MB/s]"
          }
        },
        "fd5ae66c57164434ac9dd93c6c4e737d": {
          "model_module": "@jupyter-widgets/base",
          "model_name": "LayoutModel",
          "model_module_version": "1.2.0",
          "state": {
            "_model_module": "@jupyter-widgets/base",
            "_model_module_version": "1.2.0",
            "_model_name": "LayoutModel",
            "_view_count": null,
            "_view_module": "@jupyter-widgets/base",
            "_view_module_version": "1.2.0",
            "_view_name": "LayoutView",
            "align_content": null,
            "align_items": null,
            "align_self": null,
            "border": null,
            "bottom": null,
            "display": null,
            "flex": null,
            "flex_flow": null,
            "grid_area": null,
            "grid_auto_columns": null,
            "grid_auto_flow": null,
            "grid_auto_rows": null,
            "grid_column": null,
            "grid_gap": null,
            "grid_row": null,
            "grid_template_areas": null,
            "grid_template_columns": null,
            "grid_template_rows": null,
            "height": null,
            "justify_content": null,
            "justify_items": null,
            "left": null,
            "margin": null,
            "max_height": null,
            "max_width": null,
            "min_height": null,
            "min_width": null,
            "object_fit": null,
            "object_position": null,
            "order": null,
            "overflow": null,
            "overflow_x": null,
            "overflow_y": null,
            "padding": null,
            "right": null,
            "top": null,
            "visibility": null,
            "width": null
          }
        },
        "ee2e33018bca4c6caa4136a3c2e606e5": {
          "model_module": "@jupyter-widgets/base",
          "model_name": "LayoutModel",
          "model_module_version": "1.2.0",
          "state": {
            "_model_module": "@jupyter-widgets/base",
            "_model_module_version": "1.2.0",
            "_model_name": "LayoutModel",
            "_view_count": null,
            "_view_module": "@jupyter-widgets/base",
            "_view_module_version": "1.2.0",
            "_view_name": "LayoutView",
            "align_content": null,
            "align_items": null,
            "align_self": null,
            "border": null,
            "bottom": null,
            "display": null,
            "flex": null,
            "flex_flow": null,
            "grid_area": null,
            "grid_auto_columns": null,
            "grid_auto_flow": null,
            "grid_auto_rows": null,
            "grid_column": null,
            "grid_gap": null,
            "grid_row": null,
            "grid_template_areas": null,
            "grid_template_columns": null,
            "grid_template_rows": null,
            "height": null,
            "justify_content": null,
            "justify_items": null,
            "left": null,
            "margin": null,
            "max_height": null,
            "max_width": null,
            "min_height": null,
            "min_width": null,
            "object_fit": null,
            "object_position": null,
            "order": null,
            "overflow": null,
            "overflow_x": null,
            "overflow_y": null,
            "padding": null,
            "right": null,
            "top": null,
            "visibility": null,
            "width": null
          }
        },
        "7fdd2963642c409cbcd3b84cf0464d34": {
          "model_module": "@jupyter-widgets/controls",
          "model_name": "DescriptionStyleModel",
          "model_module_version": "1.5.0",
          "state": {
            "_model_module": "@jupyter-widgets/controls",
            "_model_module_version": "1.5.0",
            "_model_name": "DescriptionStyleModel",
            "_view_count": null,
            "_view_module": "@jupyter-widgets/base",
            "_view_module_version": "1.2.0",
            "_view_name": "StyleView",
            "description_width": ""
          }
        },
        "b739ee0dccc948e3a3f39572d1458ef2": {
          "model_module": "@jupyter-widgets/base",
          "model_name": "LayoutModel",
          "model_module_version": "1.2.0",
          "state": {
            "_model_module": "@jupyter-widgets/base",
            "_model_module_version": "1.2.0",
            "_model_name": "LayoutModel",
            "_view_count": null,
            "_view_module": "@jupyter-widgets/base",
            "_view_module_version": "1.2.0",
            "_view_name": "LayoutView",
            "align_content": null,
            "align_items": null,
            "align_self": null,
            "border": null,
            "bottom": null,
            "display": null,
            "flex": null,
            "flex_flow": null,
            "grid_area": null,
            "grid_auto_columns": null,
            "grid_auto_flow": null,
            "grid_auto_rows": null,
            "grid_column": null,
            "grid_gap": null,
            "grid_row": null,
            "grid_template_areas": null,
            "grid_template_columns": null,
            "grid_template_rows": null,
            "height": null,
            "justify_content": null,
            "justify_items": null,
            "left": null,
            "margin": null,
            "max_height": null,
            "max_width": null,
            "min_height": null,
            "min_width": null,
            "object_fit": null,
            "object_position": null,
            "order": null,
            "overflow": null,
            "overflow_x": null,
            "overflow_y": null,
            "padding": null,
            "right": null,
            "top": null,
            "visibility": null,
            "width": null
          }
        },
        "5a67b1c4987d46d498ee4f45700e3861": {
          "model_module": "@jupyter-widgets/controls",
          "model_name": "ProgressStyleModel",
          "model_module_version": "1.5.0",
          "state": {
            "_model_module": "@jupyter-widgets/controls",
            "_model_module_version": "1.5.0",
            "_model_name": "ProgressStyleModel",
            "_view_count": null,
            "_view_module": "@jupyter-widgets/base",
            "_view_module_version": "1.2.0",
            "_view_name": "StyleView",
            "bar_color": null,
            "description_width": ""
          }
        },
        "0e80cc7e6a1540608fc3aec90e483e6d": {
          "model_module": "@jupyter-widgets/base",
          "model_name": "LayoutModel",
          "model_module_version": "1.2.0",
          "state": {
            "_model_module": "@jupyter-widgets/base",
            "_model_module_version": "1.2.0",
            "_model_name": "LayoutModel",
            "_view_count": null,
            "_view_module": "@jupyter-widgets/base",
            "_view_module_version": "1.2.0",
            "_view_name": "LayoutView",
            "align_content": null,
            "align_items": null,
            "align_self": null,
            "border": null,
            "bottom": null,
            "display": null,
            "flex": null,
            "flex_flow": null,
            "grid_area": null,
            "grid_auto_columns": null,
            "grid_auto_flow": null,
            "grid_auto_rows": null,
            "grid_column": null,
            "grid_gap": null,
            "grid_row": null,
            "grid_template_areas": null,
            "grid_template_columns": null,
            "grid_template_rows": null,
            "height": null,
            "justify_content": null,
            "justify_items": null,
            "left": null,
            "margin": null,
            "max_height": null,
            "max_width": null,
            "min_height": null,
            "min_width": null,
            "object_fit": null,
            "object_position": null,
            "order": null,
            "overflow": null,
            "overflow_x": null,
            "overflow_y": null,
            "padding": null,
            "right": null,
            "top": null,
            "visibility": null,
            "width": null
          }
        },
        "d541ceba7d0d4b9f8449af08bc7366a9": {
          "model_module": "@jupyter-widgets/controls",
          "model_name": "DescriptionStyleModel",
          "model_module_version": "1.5.0",
          "state": {
            "_model_module": "@jupyter-widgets/controls",
            "_model_module_version": "1.5.0",
            "_model_name": "DescriptionStyleModel",
            "_view_count": null,
            "_view_module": "@jupyter-widgets/base",
            "_view_module_version": "1.2.0",
            "_view_name": "StyleView",
            "description_width": ""
          }
        }
      }
    }
  },
  "nbformat": 4,
  "nbformat_minor": 0
}